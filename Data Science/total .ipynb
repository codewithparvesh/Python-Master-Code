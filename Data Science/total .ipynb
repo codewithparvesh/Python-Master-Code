{
 "cells": [
  {
   "cell_type": "code",
   "execution_count": 11,
   "id": "a3cb5dcc",
   "metadata": {},
   "outputs": [
    {
     "name": "stderr",
     "output_type": "stream",
     "text": [
      "IOPub data rate exceeded.\n",
      "The notebook server will temporarily stop sending output\n",
      "to the client in order to avoid crashing it.\n",
      "To change this limit, set the config variable\n",
      "`--NotebookApp.iopub_data_rate_limit`.\n",
      "\n",
      "Current values:\n",
      "NotebookApp.iopub_data_rate_limit=1000000.0 (bytes/sec)\n",
      "NotebookApp.rate_limit_window=3.0 (secs)\n",
      "\n"
     ]
    }
   ],
   "source": [
    "import csv\n",
    "import numpy as np\n",
    "\n",
    "with open( r\"C:\\Users\\dc\\Downloads\\terrorismData.csv\", 'r', encoding = 'utf8') as f:\n",
    "    data = csv.DictReader(f, skipinitialspace  = True)\n",
    "    dl =list(data)\n",
    "    arr=[]\n",
    "    arr2=[]\n",
    "    print(dl)\n",
    "    for row in dl:\n",
    "        state=row['State']\n",
    "        if state== 'Jharkhand' or state == 'Odisha' or state == 'Andhra' or state =='Chhattisgarh':\n",
    "            if row['Killed']:\n",
    "                temp = row['Killed']\n",
    "                temp = int(float(temp))\n",
    "                arr.append(temp)\n",
    "            if row['Wounded']:\n",
    "                temp = row['Wounded']\n",
    "                temp = int(float(temp))\n",
    "                arr2.append(temp)\n",
    "    arr = np.array(arr)\n",
    "    arr2= np.array(arr2)\n",
    "    ans = np.sum(arr) + np.sum(arr2)\n",
    "    print(ans)"
   ]
  },
  {
   "cell_type": "code",
   "execution_count": null,
   "id": "2dc157de",
   "metadata": {},
   "outputs": [],
   "source": []
  }
 ],
 "metadata": {
  "kernelspec": {
   "display_name": "Python 3 (ipykernel)",
   "language": "python",
   "name": "python3"
  },
  "language_info": {
   "codemirror_mode": {
    "name": "ipython",
    "version": 3
   },
   "file_extension": ".py",
   "mimetype": "text/x-python",
   "name": "python",
   "nbconvert_exporter": "python",
   "pygments_lexer": "ipython3",
   "version": "3.11.1"
  }
 },
 "nbformat": 4,
 "nbformat_minor": 5
}
