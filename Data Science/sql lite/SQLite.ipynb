{
 "cells": [
  {
   "cell_type": "code",
   "execution_count": 2,
   "id": "8c39469b",
   "metadata": {},
   "outputs": [],
   "source": [
    "import sqlite3"
   ]
  },
  {
   "cell_type": "code",
   "execution_count": 5,
   "id": "119d0f5a",
   "metadata": {},
   "outputs": [
    {
     "data": {
      "text/plain": [
       "<sqlite3.Connection at 0x170c7c7f1f0>"
      ]
     },
     "execution_count": 5,
     "metadata": {},
     "output_type": "execute_result"
    }
   ],
   "source": [
    "db =sqlite3.connect('IMDB.sqlie')\n",
    "# if file not there then it create new but not give error\n",
    "db"
   ]
  },
  {
   "cell_type": "code",
   "execution_count": 18,
   "id": "c9f33603",
   "metadata": {},
   "outputs": [
    {
     "data": {
      "text/plain": [
       "<sqlite3.Connection at 0x170c7c7dd50>"
      ]
     },
     "execution_count": 18,
     "metadata": {},
     "output_type": "execute_result"
    }
   ],
   "source": [
    "db =sqlite3.connect('school.sqlie')\n",
    "db"
   ]
  },
  {
   "cell_type": "code",
   "execution_count": 19,
   "id": "994a0598",
   "metadata": {},
   "outputs": [],
   "source": [
    "cur = db.cursor()"
   ]
  },
  {
   "cell_type": "code",
   "execution_count": 21,
   "id": "428e2e5c",
   "metadata": {},
   "outputs": [
    {
     "ename": "OperationalError",
     "evalue": "table student already exists",
     "output_type": "error",
     "traceback": [
      "\u001b[1;31m---------------------------------------------------------------------------\u001b[0m",
      "\u001b[1;31mOperationalError\u001b[0m                          Traceback (most recent call last)",
      "Cell \u001b[1;32mIn[21], line 2\u001b[0m\n\u001b[0;32m      1\u001b[0m sql_query \u001b[38;5;241m=\u001b[39m \u001b[38;5;124m'\u001b[39m\u001b[38;5;124mcreate table student (roll no int primary key, name text, age int)\u001b[39m\u001b[38;5;124m'\u001b[39m\n\u001b[1;32m----> 2\u001b[0m \u001b[43mcur\u001b[49m\u001b[38;5;241;43m.\u001b[39;49m\u001b[43mexecute\u001b[49m\u001b[43m(\u001b[49m\u001b[43msql_query\u001b[49m\u001b[43m)\u001b[49m\n",
      "\u001b[1;31mOperationalError\u001b[0m: table student already exists"
     ]
    }
   ],
   "source": [
    "sql_query = 'create table student (roll no int primary key, name text, age int)'\n",
    "cur.execute(sql_query)"
   ]
  },
  {
   "cell_type": "code",
   "execution_count": 22,
   "id": "3248f08f",
   "metadata": {},
   "outputs": [
    {
     "data": {
      "text/plain": [
       "<sqlite3.Cursor at 0x170c7c6a9c0>"
      ]
     },
     "execution_count": 22,
     "metadata": {},
     "output_type": "execute_result"
    }
   ],
   "source": [
    "cur.execute('insert into student values (101,\"aman\", 20)')"
   ]
  },
  {
   "cell_type": "code",
   "execution_count": 23,
   "id": "ef85fccf",
   "metadata": {},
   "outputs": [],
   "source": [
    "# if you now try to see the change inm the db then you not get any chang e\n",
    "# for that you have to tell that hey do change in the db \n",
    "# for that an command is used\n",
    "db.commit()"
   ]
  },
  {
   "cell_type": "code",
   "execution_count": 27,
   "id": "f9927ce9",
   "metadata": {},
   "outputs": [
    {
     "ename": "IntegrityError",
     "evalue": "UNIQUE constraint failed: student.roll",
     "output_type": "error",
     "traceback": [
      "\u001b[1;31m---------------------------------------------------------------------------\u001b[0m",
      "\u001b[1;31mIntegrityError\u001b[0m                            Traceback (most recent call last)",
      "Cell \u001b[1;32mIn[27], line 1\u001b[0m\n\u001b[1;32m----> 1\u001b[0m \u001b[43mcur\u001b[49m\u001b[38;5;241;43m.\u001b[39;49m\u001b[43mexecute\u001b[49m\u001b[43m(\u001b[49m\u001b[38;5;124;43m'\u001b[39;49m\u001b[38;5;124;43minsert into student values (102,\u001b[39;49m\u001b[38;5;124;43m\"\u001b[39;49m\u001b[38;5;124;43mravi\u001b[39;49m\u001b[38;5;124;43m\"\u001b[39;49m\u001b[38;5;124;43m, 30)\u001b[39;49m\u001b[38;5;124;43m'\u001b[39;49m\u001b[43m)\u001b[49m\n\u001b[0;32m      2\u001b[0m db\u001b[38;5;241m.\u001b[39mcommit()\n",
      "\u001b[1;31mIntegrityError\u001b[0m: UNIQUE constraint failed: student.roll"
     ]
    }
   ],
   "source": [
    "cur.execute('insert into student values (102,\"ravi\", 30)')\n",
    "db.commit()"
   ]
  },
  {
   "cell_type": "code",
   "execution_count": 32,
   "id": "8a140fdb",
   "metadata": {},
   "outputs": [
    {
     "name": "stdout",
     "output_type": "stream",
     "text": [
      "<sqlite3.Cursor object at 0x00000170C7C6A9C0>\n"
     ]
    }
   ],
   "source": [
    "a= cur.execute('select * from student')\n",
    "print(a)"
   ]
  },
  {
   "cell_type": "code",
   "execution_count": 33,
   "id": "6974ca71",
   "metadata": {},
   "outputs": [
    {
     "data": {
      "text/plain": [
       "<sqlite3.Cursor at 0x170c7c6a9c0>"
      ]
     },
     "execution_count": 33,
     "metadata": {},
     "output_type": "execute_result"
    }
   ],
   "source": [
    "cur.execute('drop table student')"
   ]
  },
  {
   "cell_type": "code",
   "execution_count": 35,
   "id": "c4f75dcf",
   "metadata": {},
   "outputs": [],
   "source": [
    "db.commit()"
   ]
  },
  {
   "cell_type": "code",
   "execution_count": 36,
   "id": "74292b2a",
   "metadata": {},
   "outputs": [
    {
     "ename": "OperationalError",
     "evalue": "no such table: student",
     "output_type": "error",
     "traceback": [
      "\u001b[1;31m---------------------------------------------------------------------------\u001b[0m",
      "\u001b[1;31mOperationalError\u001b[0m                          Traceback (most recent call last)",
      "Cell \u001b[1;32mIn[36], line 1\u001b[0m\n\u001b[1;32m----> 1\u001b[0m \u001b[43mcur\u001b[49m\u001b[38;5;241;43m.\u001b[39;49m\u001b[43mexecute\u001b[49m\u001b[43m(\u001b[49m\u001b[38;5;124;43m'\u001b[39;49m\u001b[38;5;124;43minsert into student values (102,\u001b[39;49m\u001b[38;5;124;43m\"\u001b[39;49m\u001b[38;5;124;43mravi\u001b[39;49m\u001b[38;5;124;43m\"\u001b[39;49m\u001b[38;5;124;43m, 30)\u001b[39;49m\u001b[38;5;124;43m'\u001b[39;49m\u001b[43m)\u001b[49m\n\u001b[0;32m      2\u001b[0m db\u001b[38;5;241m.\u001b[39mcommit()\n",
      "\u001b[1;31mOperationalError\u001b[0m: no such table: student"
     ]
    }
   ],
   "source": [
    "cur.execute('insert into student values (102,\"ravi\", 30)')\n",
    "db.commit()"
   ]
  },
  {
   "cell_type": "code",
   "execution_count": 37,
   "id": "943af718",
   "metadata": {},
   "outputs": [],
   "source": [
    "# after proferming the query good to close the db by use\n",
    "db.close()"
   ]
  },
  {
   "cell_type": "code",
   "execution_count": null,
   "id": "2b93165f",
   "metadata": {},
   "outputs": [],
   "source": []
  },
  {
   "cell_type": "code",
   "execution_count": null,
   "id": "9aaaa4a0",
   "metadata": {},
   "outputs": [],
   "source": []
  },
  {
   "cell_type": "markdown",
   "id": "1b86e603",
   "metadata": {},
   "source": [
    "# l2\n"
   ]
  },
  {
   "cell_type": "code",
   "execution_count": 49,
   "id": "d0db2391",
   "metadata": {},
   "outputs": [
    {
     "data": {
      "text/plain": [
       "<sqlite3.Connection at 0x170c7e1d6c0>"
      ]
     },
     "execution_count": 49,
     "metadata": {},
     "output_type": "execute_result"
    }
   ],
   "source": [
    "import sqlite3\n",
    "db =sqlite3.connect('school2.sqlie')\n",
    "cur = db.cursor()\n",
    "db"
   ]
  },
  {
   "cell_type": "code",
   "execution_count": 52,
   "id": "ea11a975",
   "metadata": {},
   "outputs": [
    {
     "data": {
      "text/plain": [
       "<sqlite3.Cursor at 0x170c7d861c0>"
      ]
     },
     "execution_count": 52,
     "metadata": {},
     "output_type": "execute_result"
    }
   ],
   "source": [
    "sql_query = 'create table student (roll no int primary key, name text, age int)'\n",
    "cur.execute(sql_query)"
   ]
  },
  {
   "cell_type": "code",
   "execution_count": 53,
   "id": "8b77e206",
   "metadata": {},
   "outputs": [],
   "source": [
    "cur.execute('insert into student values (102,\"ravi\", 30)')\n",
    "db.commit()"
   ]
  },
  {
   "cell_type": "code",
   "execution_count": 56,
   "id": "2a138842",
   "metadata": {},
   "outputs": [
    {
     "ename": "IntegrityError",
     "evalue": "UNIQUE constraint failed: student.roll",
     "output_type": "error",
     "traceback": [
      "\u001b[1;31m---------------------------------------------------------------------------\u001b[0m",
      "\u001b[1;31mIntegrityError\u001b[0m                            Traceback (most recent call last)",
      "Cell \u001b[1;32mIn[56], line 5\u001b[0m\n\u001b[0;32m      3\u001b[0m name \u001b[38;5;241m=\u001b[39m \u001b[38;5;124m\"\u001b[39m\u001b[38;5;124mnikhil\u001b[39m\u001b[38;5;124m\"\u001b[39m\n\u001b[0;32m      4\u001b[0m age \u001b[38;5;241m=\u001b[39m \u001b[38;5;241m34\u001b[39m\n\u001b[1;32m----> 5\u001b[0m \u001b[43mcur\u001b[49m\u001b[38;5;241;43m.\u001b[39;49m\u001b[43mexecute\u001b[49m\u001b[43m(\u001b[49m\u001b[38;5;124;43m'\u001b[39;49m\u001b[38;5;124;43minsert into student values (?,?,?)\u001b[39;49m\u001b[38;5;124;43m'\u001b[39;49m\u001b[43m,\u001b[49m\u001b[43m \u001b[49m\u001b[43m(\u001b[49m\u001b[43mroll\u001b[49m\u001b[43m,\u001b[49m\u001b[43m \u001b[49m\u001b[43mname\u001b[49m\u001b[43m,\u001b[49m\u001b[43m \u001b[49m\u001b[43mage\u001b[49m\u001b[43m)\u001b[49m\u001b[43m)\u001b[49m\n\u001b[0;32m      6\u001b[0m \u001b[38;5;66;03m#after ??? value will provide in tuple\u001b[39;00m\n\u001b[0;32m      7\u001b[0m db\u001b[38;5;241m.\u001b[39mcommit()\n",
      "\u001b[1;31mIntegrityError\u001b[0m: UNIQUE constraint failed: student.roll"
     ]
    }
   ],
   "source": [
    "# inserting \n",
    "roll = 104\n",
    "name = \"nikhil\"\n",
    "age = 34\n",
    "cur.execute('insert into student values (?,?,?)', (roll, name, age))\n",
    "#after ??? value will provide in tuple\n",
    "db.commit()"
   ]
  },
  {
   "cell_type": "code",
   "execution_count": null,
   "id": "7fd9af29",
   "metadata": {},
   "outputs": [],
   "source": []
  },
  {
   "cell_type": "code",
   "execution_count": 55,
   "id": "c06055fe",
   "metadata": {},
   "outputs": [
    {
     "data": {
      "text/plain": [
       "<sqlite3.Cursor at 0x170c7d861c0>"
      ]
     },
     "execution_count": 55,
     "metadata": {},
     "output_type": "execute_result"
    }
   ],
   "source": [
    "# inserting many\n",
    "val = [(105, \"nidhii\", 20), (106, \"manihsa\", 34)]\n",
    "cur.executemany('insert into student values (?,?,?)',val)"
   ]
  },
  {
   "cell_type": "code",
   "execution_count": 57,
   "id": "22f86b3d",
   "metadata": {},
   "outputs": [],
   "source": [
    "db.commit()"
   ]
  },
  {
   "cell_type": "code",
   "execution_count": 58,
   "id": "5c2c1759",
   "metadata": {},
   "outputs": [],
   "source": [
    "# upadte"
   ]
  },
  {
   "cell_type": "code",
   "execution_count": 64,
   "id": "b7685ccd",
   "metadata": {},
   "outputs": [],
   "source": [
    "cur.execute('update student set age = 12')\n",
    "db.commit()"
   ]
  },
  {
   "cell_type": "code",
   "execution_count": 65,
   "id": "e7723b50",
   "metadata": {},
   "outputs": [
    {
     "ename": "ProgrammingError",
     "evalue": "parameters are of unsupported type",
     "output_type": "error",
     "traceback": [
      "\u001b[1;31m---------------------------------------------------------------------------\u001b[0m",
      "\u001b[1;31mProgrammingError\u001b[0m                          Traceback (most recent call last)",
      "Cell \u001b[1;32mIn[65], line 2\u001b[0m\n\u001b[0;32m      1\u001b[0m new_age \u001b[38;5;241m=\u001b[39m \u001b[38;5;241m50\u001b[39m\n\u001b[1;32m----> 2\u001b[0m \u001b[43mcur\u001b[49m\u001b[38;5;241;43m.\u001b[39;49m\u001b[43mexecute\u001b[49m\u001b[43m(\u001b[49m\u001b[38;5;124;43m'\u001b[39;49m\u001b[38;5;124;43mupdate student set age = ?\u001b[39;49m\u001b[38;5;124;43m'\u001b[39;49m\u001b[43m,\u001b[49m\u001b[43m \u001b[49m\u001b[43mnew_age\u001b[49m\u001b[43m)\u001b[49m\n\u001b[0;32m      3\u001b[0m db\u001b[38;5;241m.\u001b[39mcommit()\n",
      "\u001b[1;31mProgrammingError\u001b[0m: parameters are of unsupported type"
     ]
    }
   ],
   "source": [
    "new_age = 50\n",
    "cur.execute('update student set age = ?', new_age)\n",
    "db.commit()"
   ]
  },
  {
   "cell_type": "code",
   "execution_count": 66,
   "id": "a0589c55",
   "metadata": {},
   "outputs": [],
   "source": [
    "#above give error beacuse we have to give value in gorm of tuple"
   ]
  },
  {
   "cell_type": "code",
   "execution_count": 69,
   "id": "031fe67e",
   "metadata": {},
   "outputs": [
    {
     "ename": "ProgrammingError",
     "evalue": "parameters are of unsupported type",
     "output_type": "error",
     "traceback": [
      "\u001b[1;31m---------------------------------------------------------------------------\u001b[0m",
      "\u001b[1;31mProgrammingError\u001b[0m                          Traceback (most recent call last)",
      "Cell \u001b[1;32mIn[69], line 2\u001b[0m\n\u001b[0;32m      1\u001b[0m new_age \u001b[38;5;241m=\u001b[39m \u001b[38;5;241m50\u001b[39m\n\u001b[1;32m----> 2\u001b[0m \u001b[43mcur\u001b[49m\u001b[38;5;241;43m.\u001b[39;49m\u001b[43mexecute\u001b[49m\u001b[43m(\u001b[49m\u001b[38;5;124;43m'\u001b[39;49m\u001b[38;5;124;43mupdate student set age = ?\u001b[39;49m\u001b[38;5;124;43m'\u001b[39;49m\u001b[43m,\u001b[49m\u001b[43m \u001b[49m\u001b[43m(\u001b[49m\u001b[43mnew_age\u001b[49m\u001b[43m)\u001b[49m\u001b[43m)\u001b[49m\n\u001b[0;32m      3\u001b[0m db\u001b[38;5;241m.\u001b[39mcommit()\n",
      "\u001b[1;31mProgrammingError\u001b[0m: parameters are of unsupported type"
     ]
    }
   ],
   "source": [
    "new_age = 50\n",
    "cur.execute('update student set age = ?', (new_age))\n",
    "db.commit()"
   ]
  },
  {
   "cell_type": "code",
   "execution_count": 71,
   "id": "831d2642",
   "metadata": {},
   "outputs": [],
   "source": [
    "# stil error becuse for make it tuple we have to add , \n",
    "new_age = 50\n",
    "cur.execute('update student set age = ?', (new_age,))\n",
    "db.commit()"
   ]
  },
  {
   "cell_type": "markdown",
   "id": "bb020f7a",
   "metadata": {},
   "source": [
    "# Question"
   ]
  },
  {
   "cell_type": "code",
   "execution_count": 88,
   "id": "a20e8bdc",
   "metadata": {},
   "outputs": [
    {
     "data": {
      "text/plain": [
       "<sqlite3.Connection at 0x170c7f0bb50>"
      ]
     },
     "execution_count": 88,
     "metadata": {},
     "output_type": "execute_result"
    }
   ],
   "source": [
    "db =sqlite3.connect('questin.sqlie')\n",
    "cur = db.cursor()\n",
    "cur.execute('create table Employees (employee_id int primary key, name text, age int, department text,salary int )')\n",
    "db.commit()\n",
    "db"
   ]
  },
  {
   "cell_type": "markdown",
   "id": "f7716498",
   "metadata": {},
   "source": [
    "## Open and read data file as specified in the question\n",
    "## Print the required output in given format\n",
    "employee_id=[101,102,103,104,105,106,107,108,109,110,111,112]\n",
    "\n",
    "name=['Aadarsh','Aarti','Siddharth','Aman','Amit','Shivansh','Vaibhav','Himanshu','Raman','Kunal','Adhira','Tanya']\n",
    "\n",
    "age=[25,27,25,24,30,26,23,26,25,26,29,24]\n",
    "\n",
    "department=['Marketing','Operations','Finance','Human Resource','Marketing','IT','Finance','IT','Operations','Marketing','Human Resource','Marketing']\n",
    "\n",
    "salary=[50000,60000,85000,75000,50000,90000,85000,90000,60000,50000,75000,50000]"
   ]
  },
  {
   "cell_type": "code",
   "execution_count": 89,
   "id": "431f1bca",
   "metadata": {},
   "outputs": [],
   "source": [
    "employee_id=(101,102,103,104,105,106,107,108,109,110,111,112)\n",
    "name=('Aadarsh','Aarti','Siddharth','Aman','Amit','Shivansh','Vaibhav','Himanshu','Raman','Kunal','Adhira','Tanya')\n",
    "age=(25,27,25,24,30,26,23,26,25,26,29,24)\n",
    "department=('Marketing','Operations','Finance','Human Resource','Marketing','IT','Finance','IT','Operations','Marketing','Human Resource','Marketing')\n",
    "salary=(50000,60000,85000,75000,50000,90000,85000,90000,60000,50000,75000,50000)"
   ]
  },
  {
   "cell_type": "code",
   "execution_count": 92,
   "id": "7d385a78",
   "metadata": {},
   "outputs": [],
   "source": [
    "employee_id=[101,102,103,104,105,106,107,108,109,110,111,112]\n",
    "name=['Aadarsh','Aarti','Siddharth','Aman','Amit','Shivansh','Vaibhav','Himanshu','Raman','Kunal','Adhira','Tanya']\n",
    "age=[25,27,25,24,30,26,23,26,25,26,29,24]\n",
    "department=['Marketing','Operations','Finance','Human Resource','Marketing','IT','Finance','IT','Operations','Marketing','Human Resource','Marketing']\n",
    "salary=[50000,60000,85000,75000,50000,90000,85000,90000,60000,50000,75000,50000]"
   ]
  },
  {
   "cell_type": "code",
   "execution_count": 102,
   "id": "6a285f01",
   "metadata": {},
   "outputs": [],
   "source": [
    "lst =[]\n",
    "for i in range(len(name)):\n",
    "    temp=[employee_id[i], name[i],age[i], department[i], salary[i]]\n",
    "    lst.append(tuple(temp))"
   ]
  },
  {
   "cell_type": "code",
   "execution_count": 108,
   "id": "909674cb",
   "metadata": {},
   "outputs": [
    {
     "name": "stdout",
     "output_type": "stream",
     "text": [
      "(101, 'Aadarsh', 25, 'Marketing', 50000)\n",
      "(102, 'Aarti', 27, 'Operations', 60000)\n",
      "(103, 'Siddharth', 25, 'Finance', 85000)\n",
      "(104, 'Aman', 24, 'Human Resource', 75000)\n",
      "(105, 'Amit', 30, 'Marketing', 50000)\n",
      "(106, 'Shivansh', 26, 'IT', 90000)\n",
      "(107, 'Vaibhav', 23, 'Finance', 85000)\n",
      "(108, 'Himanshu', 26, 'IT', 90000)\n",
      "(109, 'Raman', 25, 'Operations', 60000)\n",
      "(110, 'Kunal', 26, 'Marketing', 50000)\n",
      "(111, 'Adhira', 29, 'Human Resource', 75000)\n",
      "(112, 'Tanya', 24, 'Marketing', 50000)\n"
     ]
    }
   ],
   "source": [
    "for i in lst:\n",
    "    print(i)"
   ]
  },
  {
   "cell_type": "code",
   "execution_count": 90,
   "id": "90cd8f22",
   "metadata": {},
   "outputs": [],
   "source": [
    "val=[employee_id,name,age,department,salary]"
   ]
  },
  {
   "cell_type": "code",
   "execution_count": 109,
   "id": "ee87645e",
   "metadata": {},
   "outputs": [
    {
     "data": {
      "text/plain": [
       "<sqlite3.Cursor at 0x170c7eaa6c0>"
      ]
     },
     "execution_count": 109,
     "metadata": {},
     "output_type": "execute_result"
    }
   ],
   "source": [
    "cur.executemany('insert into Employees values (?,?,?,?,?)', lst)"
   ]
  },
  {
   "cell_type": "code",
   "execution_count": 110,
   "id": "e3afcc0d",
   "metadata": {},
   "outputs": [],
   "source": [
    "db.commit()"
   ]
  },
  {
   "cell_type": "code",
   "execution_count": null,
   "id": "fd04d74e",
   "metadata": {},
   "outputs": [],
   "source": []
  },
  {
   "cell_type": "code",
   "execution_count": 111,
   "id": "7dce4865",
   "metadata": {},
   "outputs": [
    {
     "data": {
      "text/plain": [
       "<sqlite3.Cursor at 0x170c7eaa6c0>"
      ]
     },
     "execution_count": 111,
     "metadata": {},
     "output_type": "execute_result"
    }
   ],
   "source": [
    "cur.execute('select * from Employees')"
   ]
  },
  {
   "cell_type": "code",
   "execution_count": 112,
   "id": "c374308a",
   "metadata": {},
   "outputs": [
    {
     "name": "stdout",
     "output_type": "stream",
     "text": [
      "(101, 'Aadarsh', 25, 'Marketing', 50000)\n",
      "(102, 'Aarti', 27, 'Operations', 60000)\n",
      "(103, 'Siddharth', 25, 'Finance', 85000)\n",
      "(104, 'Aman', 24, 'Human Resource', 75000)\n",
      "(105, 'Amit', 30, 'Marketing', 50000)\n",
      "(106, 'Shivansh', 26, 'IT', 90000)\n",
      "(107, 'Vaibhav', 23, 'Finance', 85000)\n",
      "(108, 'Himanshu', 26, 'IT', 90000)\n",
      "(109, 'Raman', 25, 'Operations', 60000)\n",
      "(110, 'Kunal', 26, 'Marketing', 50000)\n",
      "(111, 'Adhira', 29, 'Human Resource', 75000)\n",
      "(112, 'Tanya', 24, 'Marketing', 50000)\n"
     ]
    }
   ],
   "source": [
    "for i in cur:\n",
    "    print(i)"
   ]
  },
  {
   "cell_type": "code",
   "execution_count": 115,
   "id": "50499572",
   "metadata": {},
   "outputs": [
    {
     "data": {
      "text/plain": [
       "(102, 'Aarti', 27, 'Operations', 60000)"
      ]
     },
     "execution_count": 115,
     "metadata": {},
     "output_type": "execute_result"
    }
   ],
   "source": [
    "# other way\n",
    "# fetchone, fetchmany, fetchall\n",
    "cur.execute('select * from Employees')\n",
    "cur.fetchone()"
   ]
  },
  {
   "cell_type": "code",
   "execution_count": 116,
   "id": "3d56a551",
   "metadata": {},
   "outputs": [
    {
     "data": {
      "text/plain": [
       "(103, 'Siddharth', 25, 'Finance', 85000)"
      ]
     },
     "execution_count": 116,
     "metadata": {},
     "output_type": "execute_result"
    }
   ],
   "source": [
    "cur.fetchone()"
   ]
  },
  {
   "cell_type": "code",
   "execution_count": 122,
   "id": "97ac9ad7",
   "metadata": {},
   "outputs": [
    {
     "data": {
      "text/plain": [
       "[(101, 'Aadarsh', 25, 'Marketing', 50000),\n",
       " (102, 'Aarti', 27, 'Operations', 60000)]"
      ]
     },
     "execution_count": 122,
     "metadata": {},
     "output_type": "execute_result"
    }
   ],
   "source": [
    "cur.execute('select * from Employees')\n",
    "# now curr store the result of select * form Emplolyees\n",
    "cur.fetchmany(2)"
   ]
  },
  {
   "cell_type": "code",
   "execution_count": 124,
   "id": "284af5df",
   "metadata": {},
   "outputs": [
    {
     "data": {
      "text/plain": [
       "[(101, 'Aadarsh', 25, 'Marketing', 50000),\n",
       " (102, 'Aarti', 27, 'Operations', 60000),\n",
       " (103, 'Siddharth', 25, 'Finance', 85000),\n",
       " (104, 'Aman', 24, 'Human Resource', 75000),\n",
       " (105, 'Amit', 30, 'Marketing', 50000),\n",
       " (106, 'Shivansh', 26, 'IT', 90000),\n",
       " (107, 'Vaibhav', 23, 'Finance', 85000),\n",
       " (108, 'Himanshu', 26, 'IT', 90000),\n",
       " (109, 'Raman', 25, 'Operations', 60000),\n",
       " (110, 'Kunal', 26, 'Marketing', 50000),\n",
       " (111, 'Adhira', 29, 'Human Resource', 75000),\n",
       " (112, 'Tanya', 24, 'Marketing', 50000)]"
      ]
     },
     "execution_count": 124,
     "metadata": {},
     "output_type": "execute_result"
    }
   ],
   "source": [
    "cur.execute('select * from Employees')\n",
    "cur.fetchall()"
   ]
  },
  {
   "cell_type": "code",
   "execution_count": 146,
   "id": "76104a9b",
   "metadata": {},
   "outputs": [
    {
     "name": "stdout",
     "output_type": "stream",
     "text": [
      "103\n",
      "107\n"
     ]
    }
   ],
   "source": [
    "cur.execute('select employee_id from Employees where Department = \"Finance\"')\n",
    "for i in cur:\n",
    "    print(*i)"
   ]
  },
  {
   "cell_type": "code",
   "execution_count": 138,
   "id": "b0d40196",
   "metadata": {},
   "outputs": [
    {
     "name": "stdout",
     "output_type": "stream",
     "text": [
      "<built-in method fetchall of sqlite3.Cursor object at 0x00000170C7EAA6C0>\n"
     ]
    }
   ],
   "source": [
    "sql_query = \"\"\"SELECT name FROM sqlite_master WHERE type='table';\"\"\"\n",
    "cur.execute(sql_query)\n",
    "print(cur.fetchall)"
   ]
  }
 ],
 "metadata": {
  "kernelspec": {
   "display_name": "Python 3 (ipykernel)",
   "language": "python",
   "name": "python3"
  },
  "language_info": {
   "codemirror_mode": {
    "name": "ipython",
    "version": 3
   },
   "file_extension": ".py",
   "mimetype": "text/x-python",
   "name": "python",
   "nbconvert_exporter": "python",
   "pygments_lexer": "ipython3",
   "version": "3.11.1"
  }
 },
 "nbformat": 4,
 "nbformat_minor": 5
}
