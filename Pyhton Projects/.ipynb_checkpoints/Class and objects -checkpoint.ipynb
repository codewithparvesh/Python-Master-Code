{
 "cells": [
  {
   "cell_type": "markdown",
   "id": "88f16f79",
   "metadata": {},
   "source": [
    "Class Creation"
   ]
  },
  {
   "cell_type": "code",
   "execution_count": 16,
   "id": "87258145",
   "metadata": {},
   "outputs": [],
   "source": [
    "class Phone:\n",
    "    def make_call(self):\n",
    "        print(\"Making an Phone Call\")\n",
    "    def play_game(self):\n",
    "        print(\"Playing game\")"
   ]
  },
  {
   "cell_type": "markdown",
   "id": "7dd693f1",
   "metadata": {},
   "source": [
    "why we use self "
   ]
  },
  {
   "cell_type": "code",
   "execution_count": 12,
   "id": "86cbf98f",
   "metadata": {},
   "outputs": [
    {
     "name": "stdout",
     "output_type": "stream",
     "text": [
      "Created\n"
     ]
    }
   ],
   "source": [
    "pi=Phone()"
   ]
  },
  {
   "cell_type": "code",
   "execution_count": 13,
   "id": "b9ab6b1c",
   "metadata": {},
   "outputs": [
    {
     "name": "stdout",
     "output_type": "stream",
     "text": [
      "Making an Phone Call\n"
     ]
    }
   ],
   "source": [
    "pi.make_call()"
   ]
  },
  {
   "cell_type": "code",
   "execution_count": 1,
   "id": "cea6f819",
   "metadata": {
    "scrolled": true
   },
   "outputs": [
    {
     "ename": "NameError",
     "evalue": "name 'pi' is not defined",
     "output_type": "error",
     "traceback": [
      "\u001b[1;31m---------------------------------------------------------------------------\u001b[0m",
      "\u001b[1;31mNameError\u001b[0m                                 Traceback (most recent call last)",
      "Input \u001b[1;32mIn [1]\u001b[0m, in \u001b[0;36m<cell line: 1>\u001b[1;34m()\u001b[0m\n\u001b[1;32m----> 1\u001b[0m \u001b[43mpi\u001b[49m\u001b[38;5;241m.\u001b[39mplay_game()\n\u001b[0;32m      2\u001b[0m pi\u001b[38;5;241m.\u001b[39mmake_call()\n",
      "\u001b[1;31mNameError\u001b[0m: name 'pi' is not defined"
     ]
    }
   ],
   "source": [
    "pi.play_game()\n",
    "pi.make_call()"
   ]
  },
  {
   "cell_type": "code",
   "execution_count": 44,
   "id": "c183a6cb",
   "metadata": {},
   "outputs": [],
   "source": [
    "class Phone:\n",
    "    def Set_color(self, color):\n",
    "        self.color=color\n",
    "    def set_cost(self,cost):\n",
    "        self.cost=cost\n",
    "    def show_color(self):\n",
    "        return self.color\n",
    "    def show_cost(self):\n",
    "        return self.cost\n",
    "    def make_call(self):\n",
    "        print(\"Making an Phone Call\")\n",
    "    def play_game(self):\n",
    "        print(\"Playing game\")"
   ]
  },
  {
   "cell_type": "code",
   "execution_count": 45,
   "id": "49810408",
   "metadata": {},
   "outputs": [],
   "source": [
    "p2=Phone()"
   ]
  },
  {
   "cell_type": "code",
   "execution_count": 46,
   "id": "2957b662",
   "metadata": {},
   "outputs": [],
   "source": [
    "p2.Set_color(\"Blue\")\n",
    "p2.set_cost(2500)"
   ]
  },
  {
   "cell_type": "code",
   "execution_count": 47,
   "id": "d722952b",
   "metadata": {},
   "outputs": [
    {
     "name": "stdout",
     "output_type": "stream",
     "text": [
      "Blue\n",
      "2500\n"
     ]
    }
   ],
   "source": [
    "print(p2.show_color())\n",
    "print(p2.show_cost())"
   ]
  },
  {
   "cell_type": "markdown",
   "id": "baace354",
   "metadata": {},
   "source": [
    "Constuctor: Call when obj ceadted"
   ]
  },
  {
   "cell_type": "code",
   "execution_count": 58,
   "id": "2b6125ae",
   "metadata": {},
   "outputs": [],
   "source": [
    "class Employee:\n",
    "    def __init__(self,name,age,salary,sex):\n",
    "        self.name=name\n",
    "        self.age=age\n",
    "        self.salary=salary\n",
    "        self.sex=sex\n",
    "    def show(self):\n",
    "        print(self.name,end=\" \")\n",
    "        print(self.age,end=\" \")\n",
    "        print(self.salary,end=\" \")\n",
    "        print(self.sex,end=\" \")"
   ]
  },
  {
   "cell_type": "code",
   "execution_count": 59,
   "id": "5f258017",
   "metadata": {},
   "outputs": [],
   "source": [
    "e1=Employee(\"Ram\",32,25000,\"Male\")"
   ]
  },
  {
   "cell_type": "code",
   "execution_count": 60,
   "id": "d9c6d56d",
   "metadata": {},
   "outputs": [
    {
     "name": "stdout",
     "output_type": "stream",
     "text": [
      "Ram 32 25000 Male "
     ]
    }
   ],
   "source": [
    "e1.show()"
   ]
  },
  {
   "cell_type": "markdown",
   "id": "2902f9d2",
   "metadata": {},
   "source": [
    "Inheritance: with inheritance one class derive the properties of another class\n",
    "examle: man inheriting features from his father"
   ]
  },
  {
   "cell_type": "code",
   "execution_count": 78,
   "id": "0641b07d",
   "metadata": {},
   "outputs": [],
   "source": [
    "class car:\n",
    "    def __init__(self,milage,cost):\n",
    "        print(\"Car is created\")\n",
    "        self.milage=milage\n",
    "        self.cost=cost\n",
    "    def show(self):\n",
    "        print(self.milage,\" \",self.cost)"
   ]
  },
  {
   "cell_type": "markdown",
   "id": "d9968210",
   "metadata": {},
   "source": [
    "child class"
   ]
  },
  {
   "cell_type": "code",
   "execution_count": 79,
   "id": "5a8aad09",
   "metadata": {},
   "outputs": [
    {
     "name": "stdout",
     "output_type": "stream",
     "text": [
      "Car is created\n"
     ]
    }
   ],
   "source": [
    "v1=car(25,250000)"
   ]
  },
  {
   "cell_type": "code",
   "execution_count": 80,
   "id": "101e04cd",
   "metadata": {},
   "outputs": [
    {
     "name": "stdout",
     "output_type": "stream",
     "text": [
      "25   250000\n"
     ]
    }
   ],
   "source": [
    "v1.show()"
   ]
  },
  {
   "cell_type": "code",
   "execution_count": 85,
   "id": "09a76a1f",
   "metadata": {},
   "outputs": [],
   "source": [
    "class Tata(car):\n",
    "    def show_tata(self):\n",
    "        print(\"Tata part\")"
   ]
  },
  {
   "cell_type": "code",
   "execution_count": 87,
   "id": "7809b8ad",
   "metadata": {},
   "outputs": [
    {
     "name": "stdout",
     "output_type": "stream",
     "text": [
      "Car is created\n"
     ]
    }
   ],
   "source": [
    "c1=Tata(50,5000)"
   ]
  },
  {
   "cell_type": "code",
   "execution_count": 88,
   "id": "5e2ef376",
   "metadata": {},
   "outputs": [
    {
     "name": "stdout",
     "output_type": "stream",
     "text": [
      "50   5000\n"
     ]
    }
   ],
   "source": [
    "c1.show()"
   ]
  },
  {
   "cell_type": "code",
   "execution_count": 89,
   "id": "55d00952",
   "metadata": {},
   "outputs": [
    {
     "name": "stdout",
     "output_type": "stream",
     "text": [
      "Tata part\n"
     ]
    }
   ],
   "source": [
    "c1.show_tata()"
   ]
  },
  {
   "cell_type": "markdown",
   "id": "1963d492",
   "metadata": {},
   "source": [
    "OVER-RIDING INIT FUNCTION"
   ]
  },
  {
   "cell_type": "code",
   "execution_count": 96,
   "id": "6bad9b3e",
   "metadata": {},
   "outputs": [],
   "source": [
    "class vehicle:\n",
    "    def __init__(self,milage,cost):\n",
    "        print(\"Car is created\")\n",
    "        self.milage=milage\n",
    "        self.cost=cost\n",
    "    def show(self):\n",
    "        print(self.milage,\" \",self.cost)\n",
    "class Tata(vehicle):\n",
    "    def __init__(self,milage,cost,tyres,hp):\n",
    "        super().__init__(milage,cost)\n",
    "        print(\"Tata is baap\")\n",
    "        self.tyres=tyres\n",
    "        self.hp=hp\n",
    "    def show_tata(self):\n",
    "        print(\"Tata part\")"
   ]
  },
  {
   "cell_type": "code",
   "execution_count": 100,
   "id": "2faf783c",
   "metadata": {},
   "outputs": [
    {
     "name": "stdout",
     "output_type": "stream",
     "text": [
      "Car is created\n",
      "Tata is baap\n"
     ]
    }
   ],
   "source": [
    "c1=Tata(25,25000,4,300)"
   ]
  },
  {
   "cell_type": "markdown",
   "id": "43bcb97b",
   "metadata": {},
   "source": [
    "super function which allows us to access temporary object of the super class"
   ]
  },
  {
   "cell_type": "markdown",
   "id": "91c1e49c",
   "metadata": {},
   "source": [
    "Type of inheritence"
   ]
  },
  {
   "cell_type": "code",
   "execution_count": 127,
   "id": "c720aa05",
   "metadata": {},
   "outputs": [],
   "source": [
    "class parent:\n",
    "    def __init__(self):\n",
    "        print(\"parent\")\n",
    "class child(parent):\n",
    "    def __init__(self):\n",
    "        super().__init__()\n",
    "        print(\"child\")\n",
    "class grandchild(child):\n",
    "    def __init__(self):\n",
    "        print(\"Grand child berfore\")\n",
    "        super().__init__()\n",
    "        print(\"Grand child\")"
   ]
  },
  {
   "cell_type": "code",
   "execution_count": 128,
   "id": "68369a19",
   "metadata": {},
   "outputs": [
    {
     "name": "stdout",
     "output_type": "stream",
     "text": [
      "parent\n"
     ]
    }
   ],
   "source": [
    "p=parent()"
   ]
  },
  {
   "cell_type": "code",
   "execution_count": 129,
   "id": "a6a53d00",
   "metadata": {},
   "outputs": [
    {
     "name": "stdout",
     "output_type": "stream",
     "text": [
      "parent\n",
      "child\n"
     ]
    }
   ],
   "source": [
    "c=child()"
   ]
  },
  {
   "cell_type": "code",
   "execution_count": 130,
   "id": "bbff593a",
   "metadata": {},
   "outputs": [
    {
     "name": "stdout",
     "output_type": "stream",
     "text": [
      "Grand child berfore\n",
      "parent\n",
      "child\n",
      "Grand child\n"
     ]
    }
   ],
   "source": [
    "g=grandchild()"
   ]
  },
  {
   "cell_type": "code",
   "execution_count": null,
   "id": "629c2b51",
   "metadata": {},
   "outputs": [],
   "source": []
  },
  {
   "cell_type": "code",
   "execution_count": null,
   "id": "da0384fb",
   "metadata": {},
   "outputs": [],
   "source": []
  }
 ],
 "metadata": {
  "kernelspec": {
   "display_name": "Python 3 (ipykernel)",
   "language": "python",
   "name": "python3"
  },
  "language_info": {
   "codemirror_mode": {
    "name": "ipython",
    "version": 3
   },
   "file_extension": ".py",
   "mimetype": "text/x-python",
   "name": "python",
   "nbconvert_exporter": "python",
   "pygments_lexer": "ipython3",
   "version": "3.10.4"
  }
 },
 "nbformat": 4,
 "nbformat_minor": 5
}
