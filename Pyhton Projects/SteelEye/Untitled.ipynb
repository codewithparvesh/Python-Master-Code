{
 "cells": [
  {
   "cell_type": "code",
   "execution_count": 2,
   "id": "980207c9",
   "metadata": {},
   "outputs": [],
   "source": [
    "a = '''\n",
    "Write the code in python for:\n",
    "\n",
    "done() Download the xml from https://registers.esma.europa.eu/solr/esma_registers_firds_files/select?q=*&fq=publication_date:%5B2021-01-17T00:00:00Z+TO+2021-01-19T23:59:59Z%5D&wt=xml&indent=true&start=0&rows=100\n",
    "\n",
    "From the xml, please parse through to the first download link whose file_type is DLTINS and download the zip\n",
    "Extract the xml from the zip.\n",
    "Convert the contents of the xml into a CSV with the following header:\n",
    "FinInstrmGnlAttrbts.Id\n",
    "FinInstrmGnlAttrbts.FullNm\n",
    "FinInstrmGnlAttrbts.ClssfctnTp\n",
    "FinInstrmGnlAttrbts.CmmdtyDerivInd\n",
    "FinInstrmGnlAttrbts.NtnlCcy\n",
    "Issr\n",
    "Store the csv from step 4) in an AWS S3 bucket\n",
    "The above function should be run as an AWS Lambda (Optional)'''"
   ]
  },
  {
   "cell_type": "code",
   "execution_count": 19,
   "id": "e57d29a5",
   "metadata": {},
   "outputs": [
    {
     "name": "stdout",
     "output_type": "stream",
     "text": [
      "https://registers.esma.europa.eu/solr/esma_registers_firds_files/select?q=*&fq=publication_date:%5B2021-01-17T00:00:00Z+TO+2021-01-19T23:59:59Z%5D&wt=xml&indent=true&start=0&rows=100\n"
     ]
    }
   ],
   "source": [
    "import requests\n",
    "import xml.etree.ElementTree as et\n",
    "\n",
    "res = requests.get(\"https://registers.esma.europa.eu/solr/esma_registers_firds_files/select?q=*&fq=publication_date:%5B2021-01-17T00:00:00Z+TO+2021-01-19T23:59:59Z%5D&wt=xml&indent=true&start=0&rows=100\")\n",
    "con = res.content\n",
    "print(res.url)"
   ]
  },
  {
   "cell_type": "code",
   "execution_count": 20,
   "id": "fc6e2889",
   "metadata": {},
   "outputs": [],
   "source": [
    "with open('data.xml', 'wb') as f:\n",
    "    f.write(con)\n",
    "mytree = et.parse('data.xml')"
   ]
  },
  {
   "cell_type": "code",
   "execution_count": 128,
   "id": "430ebb5f",
   "metadata": {},
   "outputs": [
    {
     "name": "stdout",
     "output_type": "stream",
     "text": [
      "response \n",
      "\n",
      " {} \n",
      "\n",
      " \n",
      "\n",
      " \n",
      "\n",
      " <built-in method iter of xml.etree.ElementTree.Element object at 0x000001769D532F20>\n"
     ]
    }
   ],
   "source": [
    "root = mytree.getroot()\n",
    "print(root.tag,\"\\n\\n\", root.attrib,\"\\n\\n\", root.text,\"\\n\\n\",root.iter)"
   ]
  },
  {
   "cell_type": "code",
   "execution_count": 132,
   "id": "5a3afbf4",
   "metadata": {},
   "outputs": [
    {
     "name": "stdout",
     "output_type": "stream",
     "text": [
      "lst \n",
      "\n",
      " {'name': 'responseHeader'} \n",
      "\n",
      " \n",
      "   \n",
      "\n",
      " <built-in method iter of xml.etree.ElementTree.Element object at 0x000001769D532E80>\n"
     ]
    }
   ],
   "source": [
    "root = mytree.getroot()\n",
    "print(root[0].tag,\"\\n\\n\", root[0].attrib,\"\\n\\n\", root[0].text,\"\\n\\n\",root[0].iter)"
   ]
  },
  {
   "cell_type": "code",
   "execution_count": 133,
   "id": "02ccda4f",
   "metadata": {},
   "outputs": [
    {
     "name": "stdout",
     "output_type": "stream",
     "text": [
      "result \n",
      "\n",
      " {'name': 'response', 'numFound': '4', 'start': '0'} \n",
      "\n",
      " \n",
      "   \n",
      "\n",
      " <built-in method iter of xml.etree.ElementTree.Element object at 0x000001769DCC0C20>\n"
     ]
    }
   ],
   "source": [
    "root = mytree.getroot()\n",
    "print(root[1].tag,\"\\n\\n\", root[1].attrib,\"\\n\\n\", root[1].text,\"\\n\\n\",root[1].iter)"
   ]
  },
  {
   "cell_type": "code",
   "execution_count": 142,
   "id": "24972b0f",
   "metadata": {},
   "outputs": [
    {
     "name": "stdout",
     "output_type": "stream",
     "text": [
      "str \n",
      "\n",
      " {'name': 'status'} \n",
      "\n",
      " 0 \n",
      "\n",
      " <built-in method iter of xml.etree.ElementTree.Element object at 0x000001769DC4B8D0>\n"
     ]
    }
   ],
   "source": [
    "root = mytree.getroot()\n",
    "print(root[0][2][0].tag,\"\\n\\n\", root[0][0].attrib,\"\\n\\n\", root[0][0].text,\"\\n\\n\",root[0][0].iter)"
   ]
  },
  {
   "cell_type": "code",
   "execution_count": null,
   "id": "4164e5f9",
   "metadata": {},
   "outputs": [],
   "source": [
    "root = mytree.getroot()\n",
    "print(root.tag,\"\\n\\n\", root.attrib,\"\\n\\n\", root.text,\"\\n\\n\",root.iter)"
   ]
  },
  {
   "cell_type": "code",
   "execution_count": 27,
   "id": "5fd29021",
   "metadata": {},
   "outputs": [],
   "source": [
    "download_links = root.findall(\".//str[@name='download_link']\")"
   ]
  },
  {
   "cell_type": "code",
   "execution_count": 37,
   "id": "6df7289b",
   "metadata": {},
   "outputs": [
    {
     "name": "stdout",
     "output_type": "stream",
     "text": [
      "<Element 'str' at 0x000001769DC69210>\n",
      "<Element 'str' at 0x000001769DD02BB0>\n",
      "<Element 'str' at 0x000001769DD02ED0>\n",
      "<Element 'str' at 0x000001769DD03420>\n"
     ]
    }
   ],
   "source": [
    "for i in download_links:\n",
    "    i = str(i)\n",
    "    print(i)"
   ]
  },
  {
   "cell_type": "code",
   "execution_count": 40,
   "id": "eefc1b79",
   "metadata": {},
   "outputs": [],
   "source": [
    "for i in download_links:\n",
    "    \n",
    "    if 'DLTINS' in i.text:\n",
    "        link =i.text\n",
    "        break"
   ]
  },
  {
   "cell_type": "code",
   "execution_count": 41,
   "id": "f764f062",
   "metadata": {},
   "outputs": [
    {
     "name": "stdout",
     "output_type": "stream",
     "text": [
      "http://firds.esma.europa.eu/firds/DLTINS_20210117_01of01.zip\n"
     ]
    }
   ],
   "source": [
    "print(link)"
   ]
  },
  {
   "cell_type": "code",
   "execution_count": 46,
   "id": "d85d90a8",
   "metadata": {},
   "outputs": [],
   "source": [
    "response = requests.get(link)"
   ]
  },
  {
   "cell_type": "code",
   "execution_count": 53,
   "id": "5b575101",
   "metadata": {},
   "outputs": [
    {
     "name": "stdout",
     "output_type": "stream",
     "text": [
      "File Dowloaded\n"
     ]
    }
   ],
   "source": [
    "if response.status_code ==200:\n",
    "    with open(\"DLTINS.zip\",\"wb\") as f:\n",
    "        f.write(response.content)\n",
    "    print(\"File Dowloaded\")\n",
    "else:\n",
    "    print(\"error aa gya bhai\")"
   ]
  },
  {
   "cell_type": "markdown",
   "id": "3da03a2f",
   "metadata": {},
   "source": [
    "The wb mode stands for \"write binary\" mode in Python. It is used for writing data to a binary file. When downloading a binary file, such as a zip file, it is important to open the file in binary mode, as this ensures that the data is read and written correctly, without any modification of bytes.\n",
    "\n",
    "If you open a binary file in text mode (w), Python may perform certain text encoding and decoding operations which can result in corrupted data. Therefore, it is best practice to always open binary files in binary mode."
   ]
  },
  {
   "cell_type": "code",
   "execution_count": 54,
   "id": "11a934af",
   "metadata": {},
   "outputs": [],
   "source": [
    "import zipfile"
   ]
  },
  {
   "cell_type": "code",
   "execution_count": 81,
   "id": "f558935d",
   "metadata": {},
   "outputs": [
    {
     "name": "stdout",
     "output_type": "stream",
     "text": [
      "1\n",
      "<class 'list'>\n",
      "DLTINS_20210117_01of01.xml\n"
     ]
    }
   ],
   "source": [
    "with zipfile.ZipFile(\"DLTINS.zip\", 'r') as f:\n",
    "    p =f.namelist()\n",
    "    print(len(p))\n",
    "    print(type(p))\n",
    "    print(*p)\n",
    "    for i in p:\n",
    "        name =i\n",
    "        f.extract(i)"
   ]
  },
  {
   "cell_type": "code",
   "execution_count": 83,
   "id": "47ea2a1c",
   "metadata": {},
   "outputs": [],
   "source": [
    "tree = et.parse(name)"
   ]
  },
  {
   "cell_type": "code",
   "execution_count": 150,
   "id": "315e51ff",
   "metadata": {},
   "outputs": [
    {
     "name": "stdout",
     "output_type": "stream",
     "text": [
      "response \n",
      "\n",
      " {} \n",
      "\n",
      " \n",
      "\n",
      " \n",
      "\n",
      " <built-in method iter of xml.etree.ElementTree.Element object at 0x000001769D532F20>\n"
     ]
    }
   ],
   "source": [
    "print(root.tag,\"\\n\\n\", root.attrib,\"\\n\\n\", root.text,\"\\n\\n\",root.iter)\n"
   ]
  },
  {
   "cell_type": "code",
   "execution_count": null,
   "id": "db4454b4",
   "metadata": {},
   "outputs": [],
   "source": []
  },
  {
   "cell_type": "code",
   "execution_count": null,
   "id": "fc759c79",
   "metadata": {},
   "outputs": [],
   "source": []
  }
 ],
 "metadata": {
  "kernelspec": {
   "display_name": "Python 3 (ipykernel)",
   "language": "python",
   "name": "python3"
  },
  "language_info": {
   "codemirror_mode": {
    "name": "ipython",
    "version": 3
   },
   "file_extension": ".py",
   "mimetype": "text/x-python",
   "name": "python",
   "nbconvert_exporter": "python",
   "pygments_lexer": "ipython3",
   "version": "3.11.1"
  }
 },
 "nbformat": 4,
 "nbformat_minor": 5
}
