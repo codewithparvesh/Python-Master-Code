{
 "cells": [
  {
   "cell_type": "code",
   "execution_count": 33,
   "id": "04eccfb5",
   "metadata": {},
   "outputs": [],
   "source": [
    "# Parent Class\n",
    "class Vehicle():\n",
    "    def __init__(self,make,model,fuel):\n",
    "        self.make=make\n",
    "        self.model=model\n",
    "        self.fuel=fuel\n",
    "\n",
    "# Child Class\n",
    "class Car(Vehicle):\n",
    "    def __init__(self,make,model,fuel,air_conditioning,sunroof):\n",
    "        # Parent Attributes\n",
    "        Vehicle.make=make\n",
    "        Vehicle.model=model\n",
    "        Vehicle.fuel=fuel\n",
    "        self.air_conditioning=air_conditioning\n",
    "        self.sunroof=sunroof\n",
    "    def show_parent_attribute(self):\n",
    "        print(Vehicle.make,\" \",Vehicle.model,\" \",Vehicle.fuel)"
   ]
  },
  {
   "cell_type": "code",
   "execution_count": 34,
   "id": "c150b520",
   "metadata": {},
   "outputs": [],
   "source": [
    "myobj=Car(\"Tesla\",2019,\"Electric\",\"True\",\"True\")"
   ]
  },
  {
   "cell_type": "code",
   "execution_count": 35,
   "id": "f10bbe76",
   "metadata": {},
   "outputs": [
    {
     "name": "stdout",
     "output_type": "stream",
     "text": [
      "Tesla   2019   Electric\n"
     ]
    }
   ],
   "source": [
    "myobj.show_parent_attribute()"
   ]
  },
  {
   "cell_type": "code",
   "execution_count": null,
   "id": "150a5e37",
   "metadata": {},
   "outputs": [],
   "source": []
  }
 ],
 "metadata": {
  "kernelspec": {
   "display_name": "Python 3 (ipykernel)",
   "language": "python",
   "name": "python3"
  },
  "language_info": {
   "codemirror_mode": {
    "name": "ipython",
    "version": 3
   },
   "file_extension": ".py",
   "mimetype": "text/x-python",
   "name": "python",
   "nbconvert_exporter": "python",
   "pygments_lexer": "ipython3",
   "version": "3.10.4"
  }
 },
 "nbformat": 4,
 "nbformat_minor": 5
}
