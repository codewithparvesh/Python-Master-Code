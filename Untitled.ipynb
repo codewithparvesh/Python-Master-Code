{
 "cells": [
  {
   "cell_type": "code",
   "execution_count": 1,
   "id": "93430ffa",
   "metadata": {},
   "outputs": [
    {
     "ename": "SyntaxError",
     "evalue": "invalid non-printable character U+00A0 (3800724207.py, line 6)",
     "output_type": "error",
     "traceback": [
      "\u001b[1;36m  Cell \u001b[1;32mIn[1], line 6\u001b[1;36m\u001b[0m\n\u001b[1;33m    print(element, end='\u001b[0m\n\u001b[1;37m                  ^\u001b[0m\n\u001b[1;31mSyntaxError\u001b[0m\u001b[1;31m:\u001b[0m invalid non-printable character U+00A0\n"
     ]
    }
   ],
   "source": [
    "from collections import Counter\n",
    "arr = [1,2,2,2,3,3,5,5,5,5]\n",
    "freq_dict = Counter(arr)\n",
    "most_common = freq_dict.most_common(3)\n",
    "for element, count in most_common:\n",
    "    print(element, end=') "
   ]
  },
  {
   "cell_type": "code",
   "execution_count": null,
   "id": "5441cca4",
   "metadata": {},
   "outputs": [],
   "source": []
  }
 ],
 "metadata": {
  "kernelspec": {
   "display_name": "Python 3 (ipykernel)",
   "language": "python",
   "name": "python3"
  },
  "language_info": {
   "codemirror_mode": {
    "name": "ipython",
    "version": 3
   },
   "file_extension": ".py",
   "mimetype": "text/x-python",
   "name": "python",
   "nbconvert_exporter": "python",
   "pygments_lexer": "ipython3",
   "version": "3.11.1"
  }
 },
 "nbformat": 4,
 "nbformat_minor": 5
}
