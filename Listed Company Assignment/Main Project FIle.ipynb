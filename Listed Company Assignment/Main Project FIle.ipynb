{
 "cells": [
  {
   "cell_type": "code",
   "execution_count": 7,
   "id": "84d05e5d",
   "metadata": {},
   "outputs": [],
   "source": [
    "# This Code Import all the requred modules \n",
    "\n",
    "from selenium import webdriver\n",
    "import pandas as pd\n",
    "import time\n",
    "from selenium.webdriver.common.by import By\n",
    "from scrapingbee import ScrapingBeeClient"
   ]
  },
  {
   "cell_type": "code",
   "execution_count": 8,
   "id": "0f7b0460",
   "metadata": {
    "scrolled": true
   },
   "outputs": [
    {
     "name": "stderr",
     "output_type": "stream",
     "text": [
      "C:\\Users\\dc\\AppData\\Local\\Temp\\ipykernel_9060\\281850907.py:2: DeprecationWarning: executable_path has been deprecated, please pass in a Service object\n",
      "  driver = webdriver.Chrome(executable_path =\"chromedriver_win32\\chromedriver.exe\")\n"
     ]
    }
   ],
   "source": [
    "lst=[]\n",
    "driver = webdriver.Chrome(executable_path =\"chromedriver_win32\\chromedriver.exe\")\n",
    "client = ScrapingBeeClient(api_key='FRTO342GKFDGRU48DSYB8IPAQ6NOHBFCHA4RIFRGLPFSLLZ7ZF4ZOOP8BP39E754L8UG2YJ6MU0EU98U')\n",
    "url=\"https://www.google.com/search?q=site%3Ayoutube.com+openinapp.co&num=100\"\n",
    "driver.get(url)"
   ]
  },
  {
   "cell_type": "code",
   "execution_count": 9,
   "id": "5a82fd81",
   "metadata": {},
   "outputs": [],
   "source": [
    "# This Function Porxy result of googe input result\n",
    "\n",
    "def proxy_fun(): \n",
    "    try:\n",
    "        global url\n",
    "        url=\"https://www.google.com/search?q=site%3Ayoutube.com+openinapp.co&num=100\"\n",
    "        response = client.get(url,\n",
    "                    params = { \n",
    "                     'premium_proxy': 'True',\n",
    "                    'custom_google' : 'True'})\n",
    "\n",
    "        url = response.url  \n",
    "        driver.get(url)\n",
    "        time.sleep(2)\n",
    "    except:\n",
    "        return 0"
   ]
  },
  {
   "cell_type": "code",
   "execution_count": 23,
   "id": "d92b805d",
   "metadata": {
    "scrolled": false
   },
   "outputs": [
    {
     "name": "stdout",
     "output_type": "stream",
     "text": [
      "Working, Link Collected:  9616\n",
      "Calling To Proxy\n",
      "Working, Link Collected:  9616\n",
      "Calling To Proxy\n",
      "Working, Link Collected:  9908\n",
      "Task Completed \n"
     ]
    }
   ],
   "source": [
    "# This link fetch the all requred links and addin to list \n",
    "# This auto click on the next buttun and make proxy call until links less then 10,000\n",
    "\n",
    "while len(lst)<10100:\n",
    "    print(\"Working, Link Collected: \", len(lst))\n",
    "    link = driver.find_elements(By.TAG_NAME, \"a\")\n",
    "    for i in link:\n",
    "        temp = i.get_attribute('href')\n",
    "\n",
    "        temp= str(temp)[:23]\n",
    "        if temp == \"https://www.youtube.com\":      \n",
    "            lst.append(i.get_attribute(\"href\"))\n",
    "\n",
    "    try:\n",
    "        driver.find_element(By.ID,\"pnnext\").click()\n",
    "    except:\n",
    "        print(\"Calling To Proxy\")\n",
    "        proxy_resopne = proxy_fun()\n",
    "        if proxy_resopne == 0:\n",
    "            print(\"Some Problem With PRoxy Occur Please Check\")\n",
    "            break\n",
    "        \n",
    "if len(lst) > 10000:\n",
    "    print(\"Task Completed \")"
   ]
  },
  {
   "cell_type": "code",
   "execution_count": 24,
   "id": "d8bcc1b3",
   "metadata": {},
   "outputs": [],
   "source": [
    "# This code convert the List to CSV file\n",
    "dict = {'Links': lst}  \n",
    "df = pd.DataFrame(dict) \n",
    "df.to_csv('Links_data.csv') \n",
    "\n",
    "# To close the driver\n",
    "driver.quit()"
   ]
  },
  {
   "cell_type": "code",
   "execution_count": 25,
   "id": "85b40212",
   "metadata": {},
   "outputs": [
    {
     "data": {
      "text/html": [
       "<div>\n",
       "<style scoped>\n",
       "    .dataframe tbody tr th:only-of-type {\n",
       "        vertical-align: middle;\n",
       "    }\n",
       "\n",
       "    .dataframe tbody tr th {\n",
       "        vertical-align: top;\n",
       "    }\n",
       "\n",
       "    .dataframe thead th {\n",
       "        text-align: right;\n",
       "    }\n",
       "</style>\n",
       "<table border=\"1\" class=\"dataframe\">\n",
       "  <thead>\n",
       "    <tr style=\"text-align: right;\">\n",
       "      <th></th>\n",
       "      <th>Links</th>\n",
       "    </tr>\n",
       "  </thead>\n",
       "  <tbody>\n",
       "    <tr>\n",
       "      <th>10141</th>\n",
       "      <td>https://www.youtube.com/watch?v=-C79-g0HxVE</td>\n",
       "    </tr>\n",
       "    <tr>\n",
       "      <th>10142</th>\n",
       "      <td>https://www.youtube.com/watch?v=-C79-g0HxVE</td>\n",
       "    </tr>\n",
       "    <tr>\n",
       "      <th>10143</th>\n",
       "      <td>https://www.youtube.com/c/TradingwithGroww</td>\n",
       "    </tr>\n",
       "    <tr>\n",
       "      <th>10144</th>\n",
       "      <td>https://www.youtube.com/watch?v=ANYRxNCihuQ</td>\n",
       "    </tr>\n",
       "    <tr>\n",
       "      <th>10145</th>\n",
       "      <td>https://www.youtube.com/watch?v=ANYRxNCihuQ</td>\n",
       "    </tr>\n",
       "  </tbody>\n",
       "</table>\n",
       "</div>"
      ],
      "text/plain": [
       "                                             Links\n",
       "10141  https://www.youtube.com/watch?v=-C79-g0HxVE\n",
       "10142  https://www.youtube.com/watch?v=-C79-g0HxVE\n",
       "10143   https://www.youtube.com/c/TradingwithGroww\n",
       "10144  https://www.youtube.com/watch?v=ANYRxNCihuQ\n",
       "10145  https://www.youtube.com/watch?v=ANYRxNCihuQ"
      ]
     },
     "execution_count": 25,
     "metadata": {},
     "output_type": "execute_result"
    }
   ],
   "source": [
    "df.tail()"
   ]
  },
  {
   "cell_type": "code",
   "execution_count": 26,
   "id": "ceb73311",
   "metadata": {},
   "outputs": [
    {
     "data": {
      "text/html": [
       "<div>\n",
       "<style scoped>\n",
       "    .dataframe tbody tr th:only-of-type {\n",
       "        vertical-align: middle;\n",
       "    }\n",
       "\n",
       "    .dataframe tbody tr th {\n",
       "        vertical-align: top;\n",
       "    }\n",
       "\n",
       "    .dataframe thead th {\n",
       "        text-align: right;\n",
       "    }\n",
       "</style>\n",
       "<table border=\"1\" class=\"dataframe\">\n",
       "  <thead>\n",
       "    <tr style=\"text-align: right;\">\n",
       "      <th></th>\n",
       "      <th>Links</th>\n",
       "    </tr>\n",
       "  </thead>\n",
       "  <tbody>\n",
       "    <tr>\n",
       "      <th>count</th>\n",
       "      <td>10146</td>\n",
       "    </tr>\n",
       "    <tr>\n",
       "      <th>unique</th>\n",
       "      <td>436</td>\n",
       "    </tr>\n",
       "    <tr>\n",
       "      <th>top</th>\n",
       "      <td>https://www.youtube.com/watch?v=bgcZase4pcM</td>\n",
       "    </tr>\n",
       "    <tr>\n",
       "      <th>freq</th>\n",
       "      <td>83</td>\n",
       "    </tr>\n",
       "  </tbody>\n",
       "</table>\n",
       "</div>"
      ],
      "text/plain": [
       "                                              Links\n",
       "count                                         10146\n",
       "unique                                          436\n",
       "top     https://www.youtube.com/watch?v=bgcZase4pcM\n",
       "freq                                             83"
      ]
     },
     "execution_count": 26,
     "metadata": {},
     "output_type": "execute_result"
    }
   ],
   "source": [
    "df.describe()"
   ]
  },
  {
   "cell_type": "code",
   "execution_count": null,
   "id": "d21b2ce3",
   "metadata": {},
   "outputs": [],
   "source": []
  }
 ],
 "metadata": {
  "kernelspec": {
   "display_name": "Python 3 (ipykernel)",
   "language": "python",
   "name": "python3"
  },
  "language_info": {
   "codemirror_mode": {
    "name": "ipython",
    "version": 3
   },
   "file_extension": ".py",
   "mimetype": "text/x-python",
   "name": "python",
   "nbconvert_exporter": "python",
   "pygments_lexer": "ipython3",
   "version": "3.11.1"
  }
 },
 "nbformat": 4,
 "nbformat_minor": 5
}
