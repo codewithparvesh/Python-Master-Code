{
 "cells": [
  {
   "cell_type": "code",
   "execution_count": 18,
   "id": "ff77dcd8",
   "metadata": {},
   "outputs": [
    {
     "name": "stderr",
     "output_type": "stream",
     "text": [
      "C:\\Users\\dc\\AppData\\Local\\Temp\\ipykernel_11552\\256596844.py:10: DeprecationWarning: executable_path has been deprecated, please pass in a Service object\n",
      "  driver = webdriver.Chrome(executable_path =\"chromedriver_win32\\chromedriver.exe\")\n"
     ]
    }
   ],
   "source": [
    "from selenium import webdriver\n",
    "import time\n",
    "from bs4 import BeautifulSoup\n",
    "import csv\n",
    "from selenium.webdriver.common.by import By\n",
    "from scrapingbee import ScrapingBeeClient\n",
    "lst=[]\n",
    "country = 'india'\n",
    "client = ScrapingBeeClient(api_key='GX2MSDXY3C0AD78O4P1MFFLX28LEK7O74R5RRONNFXQIHSU5I7MNJOLX1ZROW6ZS1MNEZXMCIYFC87N5')\n",
    "driver = webdriver.Chrome(executable_path =\"chromedriver_win32\\chromedriver.exe\")"
   ]
  },
  {
   "cell_type": "code",
   "execution_count": null,
   "id": "9c93c611",
   "metadata": {},
   "outputs": [],
   "source": [
    "str = \" dz as ad ao ai aq ag ar am aw au at az bs bh bd bb by be bz bj bm bt bo ba bw bv br io vg bn bg bf bu bi kh cm ca cv ky cf td cl cn cx cc co km cg ck cr hr cu cy cz cs ci yd dk dj dm do tp ec eg sv gq er ee et fk fo fj fi fr gf pf tf ga gm ge dd de gh gi gr gl gd gp gu gt gn gw gy ht hm hn hk hu is in id iq ie ir il it jm jp jo kz ke ki kp kr kw kg la lv lb ls lr ly li lt lu mo mg mw my mv ml mt mh mq mr mu yt mx fm md mc mn ms ma mz mm na nr np an nl nt nc nz ni ne ng nu nf mp no om pk pw pa pg py pe ph pn pl pt pr qa ro ru rw re lc ws sm st sa sn sc sl sg sk si sb so za gs es lk sh kn pm vc sd sr sj sz se ch sy tw tj tz th tg tk to tt tn tr tm tc tv ug ua su ae gb um vi us uy uz vu va ve vn wf eh ye yu zr zm zw\"\n",
    "lst = str.split()"
   ]
  },
  {
   "cell_type": "code",
   "execution_count": 19,
   "id": "f8b10cdb",
   "metadata": {},
   "outputs": [],
   "source": [
    "driver.get(\"https://www.google.com/\")\n",
    "time.sleep(2)\n",
    "driver.find_element(By.CLASS_NAME,'gLFyf').send_keys('site:youtube.com openinapp.co')\n",
    "driver.find_elements(By.NAME,'btnK')[1].click()\n",
    "time.sleep(2)"
   ]
  },
  {
   "cell_type": "code",
   "execution_count": 22,
   "id": "9b335086",
   "metadata": {},
   "outputs": [],
   "source": [
    "import random\n",
    "def fun():\n",
    "#     this is function that give you an proxry result\n",
    "# If not work then then 1. try to change the url by copying from the google 2. use to search by diff country wise by using list \n",
    "    str = \" dz as ad ao ai aq ag ar am aw au at az bs bh bd bb by be bz bj bm bt bo ba bw bv br io vg bn bg bf bu bi kh cm ca cv ky cf td cl cn cx cc co km cg ck cr hr cu cy cz cs ci yd dk dj dm do tp ec eg sv gq er ee et fk fo fj fi fr gf pf tf ga gm ge dd de gh gi gr gl gd gp gu gt gn gw gy ht hm hn hk hu is in id iq ie ir il it jm jp jo kz ke ki kp kr kw kg la lv lb ls lr ly li lt lu mo mg mw my mv ml mt mh mq mr mu yt mx fm md mc mn ms ma mz mm na nr np an nl nt nc nz ni ne ng nu nf mp no om pk pw pa pg py pe ph pn pl pt pr qa ro ru rw re lc ws sm st sa sn sc sl sg sk si sb so za gs es lk sh kn pm vc sd sr sj sz se ch sy tw tj tz th tg tk to tt tn tr tm tc tv ug ua su ae gb um vi us uy uz vu va ve vn wf eh ye yu zr zm zw\"\n",
    "    reigon = str.split()\n",
    "#     reigon=['af','al','dz']\n",
    "    country = random.choice(reigon)\n",
    "    url=\"https://www.google.com/search?q=site%3Ayoutube.com+openinapp.co\"\n",
    "    url =\"https://www.google.com/\" # ye use kre ge to butten use hoga\n",
    "    response = client.get(url,\n",
    "                params = { \n",
    "                 'premium_proxy': 'True',\n",
    "#                 'country_code': country,\n",
    "                'custom_google' : 'True'})\n",
    "    response.url  \n",
    "    driver.get(url)\n",
    "    time.sleep(2)\n",
    "    driver.find_element(By.CLASS_NAME,'gLFyf').send_keys('site:youtube.com openinapp.co')\n",
    "    driver.find_elements(By.NAME,'btnK')[1].click()\n",
    "    time.sleep(2)\n",
    "    \n",
    "    \n",
    "# fun()"
   ]
  },
  {
   "cell_type": "code",
   "execution_count": 17,
   "id": "a6feb51c",
   "metadata": {},
   "outputs": [
    {
     "name": "stdout",
     "output_type": "stream",
     "text": [
      "working List:  241  Total 0  curr_cnt 1 cycle  1    af\n"
     ]
    },
    {
     "ename": "NameError",
     "evalue": "name 'driver' is not defined",
     "output_type": "error",
     "traceback": [
      "\u001b[1;31m---------------------------------------------------------------------------\u001b[0m",
      "\u001b[1;31mNameError\u001b[0m                                 Traceback (most recent call last)",
      "Cell \u001b[1;32mIn[17], line 5\u001b[0m\n\u001b[0;32m      3\u001b[0m \u001b[38;5;28;01mwhile\u001b[39;00m \u001b[38;5;28mlen\u001b[39m(lst)\u001b[38;5;241m<\u001b[39m\u001b[38;5;241m10100\u001b[39m:\n\u001b[0;32m      4\u001b[0m     \u001b[38;5;28mprint\u001b[39m(\u001b[38;5;124m\"\u001b[39m\u001b[38;5;124mworking List: \u001b[39m\u001b[38;5;124m\"\u001b[39m, \u001b[38;5;28mlen\u001b[39m(lst) , \u001b[38;5;124m\"\u001b[39m\u001b[38;5;124m Total\u001b[39m\u001b[38;5;124m\"\u001b[39m , cnt ,\u001b[38;5;124m\"\u001b[39m\u001b[38;5;124m curr_cnt\u001b[39m\u001b[38;5;124m\"\u001b[39m , curr_cnt , \u001b[38;5;124m\"\u001b[39m\u001b[38;5;124mcycle \u001b[39m\u001b[38;5;124m\"\u001b[39m ,cyc, \u001b[38;5;124m\"\u001b[39m\u001b[38;5;124m  \u001b[39m\u001b[38;5;124m\"\u001b[39m,country)\n\u001b[1;32m----> 5\u001b[0m     link \u001b[38;5;241m=\u001b[39m \u001b[43mdriver\u001b[49m\u001b[38;5;241m.\u001b[39mfind_elements(By\u001b[38;5;241m.\u001b[39mTAG_NAME, \u001b[38;5;124m\"\u001b[39m\u001b[38;5;124ma\u001b[39m\u001b[38;5;124m\"\u001b[39m)\n\u001b[0;32m      6\u001b[0m     \u001b[38;5;66;03m# https://www.youtube.com/c/OpeninApp\u001b[39;00m\n\u001b[0;32m      7\u001b[0m     \u001b[38;5;28;01mfor\u001b[39;00m i \u001b[38;5;129;01min\u001b[39;00m link:\n",
      "\u001b[1;31mNameError\u001b[0m: name 'driver' is not defined"
     ]
    }
   ],
   "source": [
    "# for the next button\n",
    "cnt,curr_cnt,cyc=0,1,1\n",
    "while len(lst)<10100:\n",
    "    print(\"working List: \", len(lst) , \" Total\" , cnt ,\" curr_cnt\" , curr_cnt , \"cycle \" ,cyc, \"  \",country)\n",
    "    link = driver.find_elements(By.TAG_NAME, \"a\")\n",
    "    for i in link:\n",
    "        temp = i.get_attribute('href')\n",
    "\n",
    "        temp= str(temp)[:23]\n",
    "    #     print(temp)\n",
    "        if temp == \"https://www.youtube.com\":\n",
    "    #         \n",
    "            x = i.get_attribute(\"href\")\n",
    "            if x not in lst:\n",
    "                lst.append(i.get_attribute(\"href\"))\n",
    "    #             print(i.get_attribute(\"href\"))\n",
    "\n",
    "    #     if 'youtube' in temp:\n",
    "    #         print(i.get_attribute(\"href\"))\n",
    "    #         lst.append(i.get_attribute(\"href\"))\n",
    "\n",
    "\n",
    "    try:\n",
    "        driver.find_element(By.ID,\"pnnext\").click()\n",
    "        cnt+=1\n",
    "        curr_cnt+=1\n",
    "\n",
    "    except:\n",
    "        curr_cnt=0\n",
    "        cyc+=1\n",
    "        cnt+=1\n",
    "        fun()\n",
    "print(len(lst))"
   ]
  },
  {
   "cell_type": "code",
   "execution_count": 6,
   "id": "355343c2",
   "metadata": {},
   "outputs": [],
   "source": [
    "import random"
   ]
  },
  {
   "cell_type": "code",
   "execution_count": 1,
   "id": "d67ccb02",
   "metadata": {},
   "outputs": [],
   "source": []
  },
  {
   "cell_type": "code",
   "execution_count": 11,
   "id": "5e65c2ae",
   "metadata": {},
   "outputs": [
    {
     "name": "stdout",
     "output_type": "stream",
     "text": [
      "sa\n"
     ]
    }
   ],
   "source": [
    "country = random.choice(lst)\n",
    "print(country)"
   ]
  },
  {
   "cell_type": "code",
   "execution_count": 14,
   "id": "3cf279cb",
   "metadata": {},
   "outputs": [
    {
     "name": "stdout",
     "output_type": "stream",
     "text": [
      "af\n"
     ]
    }
   ],
   "source": [
    "reigon=['af','al','dz']\n",
    "country = random.choice(reigon)\n",
    "print(country)"
   ]
  },
  {
   "cell_type": "code",
   "execution_count": null,
   "id": "6f68d16f",
   "metadata": {},
   "outputs": [],
   "source": []
  },
  {
   "cell_type": "code",
   "execution_count": null,
   "id": "3fa3beca",
   "metadata": {},
   "outputs": [],
   "source": []
  },
  {
   "cell_type": "code",
   "execution_count": null,
   "id": "6e3cacfe",
   "metadata": {},
   "outputs": [],
   "source": []
  }
 ],
 "metadata": {
  "kernelspec": {
   "display_name": "Python 3 (ipykernel)",
   "language": "python",
   "name": "python3"
  },
  "language_info": {
   "codemirror_mode": {
    "name": "ipython",
    "version": 3
   },
   "file_extension": ".py",
   "mimetype": "text/x-python",
   "name": "python",
   "nbconvert_exporter": "python",
   "pygments_lexer": "ipython3",
   "version": "3.11.1"
  }
 },
 "nbformat": 4,
 "nbformat_minor": 5
}
