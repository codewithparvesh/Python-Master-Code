{
 "cells": [
  {
   "cell_type": "code",
   "execution_count": 1,
   "id": "f650571a",
   "metadata": {},
   "outputs": [],
   "source": [
    "from selenium import webdriver\n",
    "from selenium.webdriver.common.by import By\n",
    "from selenium.webdriver.support.ui import WebDriverWait\n",
    "from selenium.webdriver.support import expected_conditions as EC\n",
    "import time"
   ]
  },
  {
   "cell_type": "code",
   "execution_count": 3,
   "id": "5954dd8b",
   "metadata": {},
   "outputs": [
    {
     "name": "stdout",
     "output_type": "stream",
     "text": [
      "None\n",
      "None\n",
      "None\n",
      "None\n",
      "None\n",
      "None\n",
      "None\n",
      "None\n",
      "None\n",
      "None\n"
     ]
    }
   ],
   "source": [
    "driver = webdriver.Chrome()\n",
    "driver.maximize_window()\n",
    "driver.get('https://www.google.com/')\n",
    "time.sleep(2)\n",
    "driver.find_element(By.CLASS_NAME,'gLFyf').send_keys('site:youtube.com openinapp.co')\n",
    "driver.find_elements(By.NAME,'btnK')[1].click()\n",
    "time.sleep(2)\n",
    "links = driver.find_elements(By.XPATH,'//h3[@class = \"LC20lb MBeuO DKV0Md\"]')\n",
    "wait = WebDriverWait(driver,10)\n",
    "wait.until(EC.presence_of_element_located((By.XPATH,'//h3[@class = \"LC20lb MBeuO DKV0Md\"]')))\n",
    "for i in links:\n",
    "    print(i.get_attribute('href'))\n",
    "driver.find_element(By.ID,\"pnnext\").click()"
   ]
  },
  {
   "cell_type": "code",
   "execution_count": null,
   "id": "980ba24f",
   "metadata": {},
   "outputs": [],
   "source": []
  }
 ],
 "metadata": {
  "kernelspec": {
   "display_name": "Python 3 (ipykernel)",
   "language": "python",
   "name": "python3"
  },
  "language_info": {
   "codemirror_mode": {
    "name": "ipython",
    "version": 3
   },
   "file_extension": ".py",
   "mimetype": "text/x-python",
   "name": "python",
   "nbconvert_exporter": "python",
   "pygments_lexer": "ipython3",
   "version": "3.11.1"
  }
 },
 "nbformat": 4,
 "nbformat_minor": 5
}
