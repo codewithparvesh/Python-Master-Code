{
 "cells": [
  {
   "cell_type": "code",
   "execution_count": 1,
   "id": "816a93e3",
   "metadata": {},
   "outputs": [
    {
     "name": "stderr",
     "output_type": "stream",
     "text": [
      "C:\\Users\\dc\\AppData\\Local\\Temp\\ipykernel_20036\\533974508.py:3: DeprecationWarning: executable_path has been deprecated, please pass in a Service object\n",
      "  driver = webdriver.Chrome(executable_path =\"D:\\Coding\\Pythob Library\\Selenium\\chromedriver_win32\\chromedriver.exe\")\n"
     ]
    }
   ],
   "source": [
    "from selenium import webdriver\n",
    "from selenium.webdriver.common.by import By\n",
    "driver = webdriver.Chrome(executable_path =\"D:\\Coding\\Pythob Library\\Selenium\\chromedriver_win32\\chromedriver.exe\")\n",
    "driver.get(\"https://www.rahulshettyacademy.com/AutomationPractice/\")\n",
    "\n",
    "# these buttons and drop down manu all are locator\n",
    "\n",
    "# driver.maximize.window() #maxmize the wndoe\n",
    "# print(driver.title)\n",
    "# print(driver.current_url)\n",
    "driver.find_element(By.ID,'name').send_keys('parvesh')\n",
    "# driver.find_element_by_id(\"name\").send_keys(\"Parvesh\")\n",
    "\n",
    "# driver.find_element('id','name').send_keys(\"parves\")\n",
    "# driver.find_element('id','alertbtn').click()\n",
    "\n",
    "#  where we can not use id and class or ther locator then we use the css selector or xpath selector\n",
    "\n",
    "\n",
    "\n",
    "\n"
   ]
  },
  {
   "cell_type": "code",
   "execution_count": 3,
   "id": "e1d8fc8b",
   "metadata": {},
   "outputs": [],
   "source": [
    "driver.maximize_window()"
   ]
  },
  {
   "cell_type": "code",
   "execution_count": 12,
   "id": "4eee900f",
   "metadata": {},
   "outputs": [],
   "source": [
    "driver.find_element(By.XPATH,\"//input[@value='radio2']\").click()"
   ]
  },
  {
   "cell_type": "code",
   "execution_count": 16,
   "id": "e2134c45",
   "metadata": {},
   "outputs": [
    {
     "name": "stderr",
     "output_type": "stream",
     "text": [
      "C:\\Users\\dc\\AppData\\Local\\Temp\\ipykernel_20036\\4203037603.py:8: DeprecationWarning: executable_path has been deprecated, please pass in a Service object\n",
      "  driver = webdriver.Chrome(executable_path =\"D:\\Coding\\Pythob Library\\Selenium\\chromedriver_win32\\chromedriver.exe\")\n"
     ]
    },
    {
     "ename": "AttributeError",
     "evalue": "'WebDriver' object has no attribute 'find_element_by_name'",
     "output_type": "error",
     "traceback": [
      "\u001b[1;31m---------------------------------------------------------------------------\u001b[0m",
      "\u001b[1;31mAttributeError\u001b[0m                            Traceback (most recent call last)",
      "Cell \u001b[1;32mIn[16], line 15\u001b[0m\n\u001b[0;32m     12\u001b[0m driver\u001b[38;5;241m.\u001b[39mget(\u001b[38;5;124m\"\u001b[39m\u001b[38;5;124mhttps://www.google.com/\u001b[39m\u001b[38;5;124m\"\u001b[39m)\n\u001b[0;32m     14\u001b[0m \u001b[38;5;66;03m# Find the search input element and enter the query\u001b[39;00m\n\u001b[1;32m---> 15\u001b[0m search_box \u001b[38;5;241m=\u001b[39m \u001b[43mdriver\u001b[49m\u001b[38;5;241;43m.\u001b[39;49m\u001b[43mfind_element_by_name\u001b[49m(\u001b[38;5;124m\"\u001b[39m\u001b[38;5;124mq\u001b[39m\u001b[38;5;124m\"\u001b[39m)\n\u001b[0;32m     16\u001b[0m search_box\u001b[38;5;241m.\u001b[39msend_keys(query)\n\u001b[0;32m     17\u001b[0m search_box\u001b[38;5;241m.\u001b[39msubmit()\n",
      "\u001b[1;31mAttributeError\u001b[0m: 'WebDriver' object has no attribute 'find_element_by_name'"
     ]
    }
   ],
   "source": [
    "from selenium import webdriver\n",
    "import time\n",
    "from selenium.webdriver.common.by import By\n",
    "\n",
    "# Enter the query you want to search for\n",
    "query = \"haryana\"\n",
    "\n",
    "driver = webdriver.Chrome(executable_path =\"chromedriver_win32\\chromedriver.exe\")\n",
    "driver.get(\"https://www.rahulshettyacademy.com/AutomationPractice/\")\n",
    "\n",
    "# Navigate to Google\n",
    "driver.get(\"https://www.google.com/\")\n",
    "\n",
    "# Find the search input element and enter the query\n",
    "search_box = driver.find_element_by_name(\"q\")\n",
    "search_box.send_keys(query)\n",
    "search_box.submit()\n",
    "\n",
    "# Wait for the search results to load\n",
    "time.sleep(3)\n",
    "\n",
    "# Scrape the links from the search results\n",
    "links = []\n",
    "while len(links) < 10000:\n",
    "    # Find all the search result links\n",
    "    search_results = driver.find_elements_by_css_selector('.yuRUbf > a')\n",
    "    for result in search_results:\n",
    "        link = result.get_attribute(\"href\")\n",
    "        if link not in links:\n",
    "            links.append(link)\n",
    "            if len(links) == 10000:\n",
    "                break\n",
    "    # Click the \"Next\" button to go to the next page of search results\n",
    "    try:\n",
    "        next_button = driver.find_element_by_css_selector('#pnnext')\n",
    "        next_button.click()\n",
    "        time.sleep(3)\n",
    "    except:\n",
    "        break\n",
    "\n",
    "# Print the links\n",
    "for link in links:\n",
    "    print(link)\n",
    "\n",
    "# Quit the webdriver\n",
    "driver.quit()\n"
   ]
  },
  {
   "cell_type": "code",
   "execution_count": null,
   "id": "6bd39906",
   "metadata": {},
   "outputs": [],
   "source": []
  }
 ],
 "metadata": {
  "kernelspec": {
   "display_name": "Python 3 (ipykernel)",
   "language": "python",
   "name": "python3"
  },
  "language_info": {
   "codemirror_mode": {
    "name": "ipython",
    "version": 3
   },
   "file_extension": ".py",
   "mimetype": "text/x-python",
   "name": "python",
   "nbconvert_exporter": "python",
   "pygments_lexer": "ipython3",
   "version": "3.11.1"
  }
 },
 "nbformat": 4,
 "nbformat_minor": 5
}
