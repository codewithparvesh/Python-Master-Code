{
 "cells": [
  {
   "cell_type": "code",
   "execution_count": 1,
   "id": "fa528372",
   "metadata": {},
   "outputs": [
    {
     "data": {
      "text/plain": [
       "'D:\\\\Coding\\\\Pythob Library\\\\Selenium\\\\chromedriver_win32\\\\chromedriver.exe'"
      ]
     },
     "execution_count": 1,
     "metadata": {},
     "output_type": "execute_result"
    }
   ],
   "source": [
    "from selenium import webdriver\n",
    "from selenium.webdriver.common.by import By\n",
    "\n",
    "\"D:\\Coding\\Pythob Library\\Selenium\\chromedriver_win32\\chromedriver.exe\""
   ]
  },
  {
   "cell_type": "code",
   "execution_count": 2,
   "id": "f47b5343",
   "metadata": {},
   "outputs": [
    {
     "name": "stderr",
     "output_type": "stream",
     "text": [
      "C:\\Users\\dc\\AppData\\Local\\Temp\\ipykernel_9544\\4264040900.py:1: DeprecationWarning: executable_path has been deprecated, please pass in a Service object\n",
      "  driver = webdriver.Chrome(executable_path =\"chromedriver_win32\\chromedriver.exe\")\n"
     ]
    }
   ],
   "source": [
    "driver = webdriver.Chrome(executable_path =\"chromedriver_win32\\chromedriver.exe\")"
   ]
  },
  {
   "cell_type": "code",
   "execution_count": 3,
   "id": "f4915433",
   "metadata": {},
   "outputs": [],
   "source": [
    "driver.get(\"https://www.google.com/\")"
   ]
  },
  {
   "cell_type": "code",
   "execution_count": 4,
   "id": "c73fd8de",
   "metadata": {},
   "outputs": [],
   "source": [
    "btn = driver.find_element(By.LINK_TEXT,\"Gmail\")"
   ]
  },
  {
   "cell_type": "code",
   "execution_count": 6,
   "id": "0804abb9",
   "metadata": {},
   "outputs": [],
   "source": [
    "btn.click()"
   ]
  },
  {
   "cell_type": "code",
   "execution_count": 25,
   "id": "6529226f",
   "metadata": {},
   "outputs": [],
   "source": [
    "driver.back()"
   ]
  },
  {
   "cell_type": "code",
   "execution_count": 26,
   "id": "0f483cc6",
   "metadata": {},
   "outputs": [],
   "source": [
    "btn = driver.find_element(By.CLASS_NAME,\"gLFyf\")"
   ]
  },
  {
   "cell_type": "code",
   "execution_count": 27,
   "id": "b2387680",
   "metadata": {},
   "outputs": [],
   "source": [
    "btn.send_keys(\"site:youtube.com openinapp.co\")"
   ]
  },
  {
   "cell_type": "code",
   "execution_count": 22,
   "id": "931a28cf",
   "metadata": {},
   "outputs": [
    {
     "ename": "NoSuchElementException",
     "evalue": "Message: no such element: Unable to locate element: {\"method\":\"css selector\",\"selector\":\".gNO89b\"}\n  (Session info: chrome=112.0.5615.138)\nStacktrace:\nBacktrace:\n\tGetHandleVerifier [0x00DBDCE3+50899]\n\t(No symbol) [0x00D4E111]\n\t(No symbol) [0x00C55588]\n\t(No symbol) [0x00C808F9]\n\t(No symbol) [0x00C80AFB]\n\t(No symbol) [0x00CAF902]\n\t(No symbol) [0x00C9B944]\n\t(No symbol) [0x00CAE01C]\n\t(No symbol) [0x00C9B6F6]\n\t(No symbol) [0x00C77708]\n\t(No symbol) [0x00C7886D]\n\tGetHandleVerifier [0x01023EAE+2566302]\n\tGetHandleVerifier [0x010592B1+2784417]\n\tGetHandleVerifier [0x0105327C+2759788]\n\tGetHandleVerifier [0x00E55740+672048]\n\t(No symbol) [0x00D58872]\n\t(No symbol) [0x00D541C8]\n\t(No symbol) [0x00D542AB]\n\t(No symbol) [0x00D471B7]\n\tBaseThreadInitThunk [0x75A46B89+25]\n\tRtlGetFullPathName_UEx [0x778D8F9F+1215]\n\tRtlGetFullPathName_UEx [0x778D8F6D+1165]\n",
     "output_type": "error",
     "traceback": [
      "\u001b[1;31m---------------------------------------------------------------------------\u001b[0m",
      "\u001b[1;31mNoSuchElementException\u001b[0m                    Traceback (most recent call last)",
      "Cell \u001b[1;32mIn[22], line 1\u001b[0m\n\u001b[1;32m----> 1\u001b[0m btn \u001b[38;5;241m=\u001b[39m \u001b[43mdriver\u001b[49m\u001b[38;5;241;43m.\u001b[39;49m\u001b[43mfind_element\u001b[49m\u001b[43m(\u001b[49m\u001b[43mBy\u001b[49m\u001b[38;5;241;43m.\u001b[39;49m\u001b[43mCLASS_NAME\u001b[49m\u001b[43m,\u001b[49m\u001b[38;5;124;43m\"\u001b[39;49m\u001b[38;5;124;43mgNO89b\u001b[39;49m\u001b[38;5;124;43m\"\u001b[39;49m\u001b[43m)\u001b[49m\n",
      "File \u001b[1;32m~\\AppData\\Local\\Programs\\Python\\Python311\\Lib\\site-packages\\selenium\\webdriver\\remote\\webdriver.py:831\u001b[0m, in \u001b[0;36mWebDriver.find_element\u001b[1;34m(self, by, value)\u001b[0m\n\u001b[0;32m    828\u001b[0m     by \u001b[38;5;241m=\u001b[39m By\u001b[38;5;241m.\u001b[39mCSS_SELECTOR\n\u001b[0;32m    829\u001b[0m     value \u001b[38;5;241m=\u001b[39m \u001b[38;5;124mf\u001b[39m\u001b[38;5;124m'\u001b[39m\u001b[38;5;124m[name=\u001b[39m\u001b[38;5;124m\"\u001b[39m\u001b[38;5;132;01m{\u001b[39;00mvalue\u001b[38;5;132;01m}\u001b[39;00m\u001b[38;5;124m\"\u001b[39m\u001b[38;5;124m]\u001b[39m\u001b[38;5;124m'\u001b[39m\n\u001b[1;32m--> 831\u001b[0m \u001b[38;5;28;01mreturn\u001b[39;00m \u001b[38;5;28;43mself\u001b[39;49m\u001b[38;5;241;43m.\u001b[39;49m\u001b[43mexecute\u001b[49m\u001b[43m(\u001b[49m\u001b[43mCommand\u001b[49m\u001b[38;5;241;43m.\u001b[39;49m\u001b[43mFIND_ELEMENT\u001b[49m\u001b[43m,\u001b[49m\u001b[43m \u001b[49m\u001b[43m{\u001b[49m\u001b[38;5;124;43m\"\u001b[39;49m\u001b[38;5;124;43musing\u001b[39;49m\u001b[38;5;124;43m\"\u001b[39;49m\u001b[43m:\u001b[49m\u001b[43m \u001b[49m\u001b[43mby\u001b[49m\u001b[43m,\u001b[49m\u001b[43m \u001b[49m\u001b[38;5;124;43m\"\u001b[39;49m\u001b[38;5;124;43mvalue\u001b[39;49m\u001b[38;5;124;43m\"\u001b[39;49m\u001b[43m:\u001b[49m\u001b[43m \u001b[49m\u001b[43mvalue\u001b[49m\u001b[43m}\u001b[49m\u001b[43m)\u001b[49m[\u001b[38;5;124m\"\u001b[39m\u001b[38;5;124mvalue\u001b[39m\u001b[38;5;124m\"\u001b[39m]\n",
      "File \u001b[1;32m~\\AppData\\Local\\Programs\\Python\\Python311\\Lib\\site-packages\\selenium\\webdriver\\remote\\webdriver.py:440\u001b[0m, in \u001b[0;36mWebDriver.execute\u001b[1;34m(self, driver_command, params)\u001b[0m\n\u001b[0;32m    438\u001b[0m response \u001b[38;5;241m=\u001b[39m \u001b[38;5;28mself\u001b[39m\u001b[38;5;241m.\u001b[39mcommand_executor\u001b[38;5;241m.\u001b[39mexecute(driver_command, params)\n\u001b[0;32m    439\u001b[0m \u001b[38;5;28;01mif\u001b[39;00m response:\n\u001b[1;32m--> 440\u001b[0m     \u001b[38;5;28;43mself\u001b[39;49m\u001b[38;5;241;43m.\u001b[39;49m\u001b[43merror_handler\u001b[49m\u001b[38;5;241;43m.\u001b[39;49m\u001b[43mcheck_response\u001b[49m\u001b[43m(\u001b[49m\u001b[43mresponse\u001b[49m\u001b[43m)\u001b[49m\n\u001b[0;32m    441\u001b[0m     response[\u001b[38;5;124m\"\u001b[39m\u001b[38;5;124mvalue\u001b[39m\u001b[38;5;124m\"\u001b[39m] \u001b[38;5;241m=\u001b[39m \u001b[38;5;28mself\u001b[39m\u001b[38;5;241m.\u001b[39m_unwrap_value(response\u001b[38;5;241m.\u001b[39mget(\u001b[38;5;124m\"\u001b[39m\u001b[38;5;124mvalue\u001b[39m\u001b[38;5;124m\"\u001b[39m, \u001b[38;5;28;01mNone\u001b[39;00m))\n\u001b[0;32m    442\u001b[0m     \u001b[38;5;28;01mreturn\u001b[39;00m response\n",
      "File \u001b[1;32m~\\AppData\\Local\\Programs\\Python\\Python311\\Lib\\site-packages\\selenium\\webdriver\\remote\\errorhandler.py:245\u001b[0m, in \u001b[0;36mErrorHandler.check_response\u001b[1;34m(self, response)\u001b[0m\n\u001b[0;32m    243\u001b[0m         alert_text \u001b[38;5;241m=\u001b[39m value[\u001b[38;5;124m\"\u001b[39m\u001b[38;5;124malert\u001b[39m\u001b[38;5;124m\"\u001b[39m]\u001b[38;5;241m.\u001b[39mget(\u001b[38;5;124m\"\u001b[39m\u001b[38;5;124mtext\u001b[39m\u001b[38;5;124m\"\u001b[39m)\n\u001b[0;32m    244\u001b[0m     \u001b[38;5;28;01mraise\u001b[39;00m exception_class(message, screen, stacktrace, alert_text)  \u001b[38;5;66;03m# type: ignore[call-arg]  # mypy is not smart enough here\u001b[39;00m\n\u001b[1;32m--> 245\u001b[0m \u001b[38;5;28;01mraise\u001b[39;00m exception_class(message, screen, stacktrace)\n",
      "\u001b[1;31mNoSuchElementException\u001b[0m: Message: no such element: Unable to locate element: {\"method\":\"css selector\",\"selector\":\".gNO89b\"}\n  (Session info: chrome=112.0.5615.138)\nStacktrace:\nBacktrace:\n\tGetHandleVerifier [0x00DBDCE3+50899]\n\t(No symbol) [0x00D4E111]\n\t(No symbol) [0x00C55588]\n\t(No symbol) [0x00C808F9]\n\t(No symbol) [0x00C80AFB]\n\t(No symbol) [0x00CAF902]\n\t(No symbol) [0x00C9B944]\n\t(No symbol) [0x00CAE01C]\n\t(No symbol) [0x00C9B6F6]\n\t(No symbol) [0x00C77708]\n\t(No symbol) [0x00C7886D]\n\tGetHandleVerifier [0x01023EAE+2566302]\n\tGetHandleVerifier [0x010592B1+2784417]\n\tGetHandleVerifier [0x0105327C+2759788]\n\tGetHandleVerifier [0x00E55740+672048]\n\t(No symbol) [0x00D58872]\n\t(No symbol) [0x00D541C8]\n\t(No symbol) [0x00D542AB]\n\t(No symbol) [0x00D471B7]\n\tBaseThreadInitThunk [0x75A46B89+25]\n\tRtlGetFullPathName_UEx [0x778D8F9F+1215]\n\tRtlGetFullPathName_UEx [0x778D8F6D+1165]\n"
     ]
    }
   ],
   "source": [
    "btn = driver.find_element(By.CLASS_NAME,\"gNO89b\")"
   ]
  },
  {
   "cell_type": "code",
   "execution_count": 28,
   "id": "364b8b64",
   "metadata": {},
   "outputs": [],
   "source": [
    "driver.find_elements(By.NAME,'btnK')[1].click()"
   ]
  },
  {
   "cell_type": "code",
   "execution_count": 47,
   "id": "748cb3de",
   "metadata": {},
   "outputs": [],
   "source": [
    "link = driver.find_elements(By.TAG_NAME, \"a\")"
   ]
  },
  {
   "cell_type": "code",
   "execution_count": 38,
   "id": "7a0f747a",
   "metadata": {},
   "outputs": [
    {
     "name": "stdout",
     "output_type": "stream",
     "text": [
      "<class 'NoneType'>\n",
      "<class 'str'>\n",
      "<class 'NoneType'>\n",
      "<class 'str'>\n",
      "<class 'str'>\n",
      "<class 'str'>\n",
      "<class 'str'>\n",
      "<class 'str'>\n",
      "<class 'str'>\n",
      "<class 'str'>\n",
      "<class 'str'>\n",
      "<class 'str'>\n",
      "<class 'str'>\n",
      "<class 'str'>\n",
      "<class 'str'>\n",
      "<class 'str'>\n",
      "<class 'str'>\n",
      "<class 'str'>\n",
      "<class 'str'>\n",
      "<class 'str'>\n",
      "<class 'str'>\n",
      "<class 'str'>\n",
      "<class 'str'>\n",
      "<class 'str'>\n",
      "<class 'str'>\n",
      "<class 'str'>\n",
      "<class 'str'>\n",
      "<class 'str'>\n",
      "<class 'str'>\n",
      "<class 'str'>\n",
      "<class 'str'>\n",
      "<class 'str'>\n",
      "<class 'str'>\n",
      "<class 'str'>\n",
      "<class 'str'>\n",
      "<class 'str'>\n",
      "<class 'str'>\n",
      "<class 'str'>\n",
      "<class 'str'>\n",
      "<class 'str'>\n",
      "<class 'str'>\n",
      "<class 'str'>\n",
      "<class 'str'>\n",
      "<class 'str'>\n",
      "<class 'str'>\n",
      "<class 'str'>\n",
      "<class 'str'>\n",
      "<class 'str'>\n",
      "<class 'str'>\n",
      "<class 'str'>\n",
      "<class 'str'>\n",
      "<class 'str'>\n",
      "<class 'str'>\n",
      "<class 'str'>\n",
      "<class 'str'>\n",
      "<class 'str'>\n",
      "<class 'str'>\n",
      "<class 'str'>\n",
      "<class 'str'>\n",
      "<class 'str'>\n",
      "<class 'str'>\n",
      "<class 'str'>\n",
      "<class 'str'>\n",
      "<class 'str'>\n",
      "<class 'str'>\n",
      "<class 'str'>\n",
      "<class 'str'>\n",
      "<class 'str'>\n",
      "<class 'str'>\n",
      "<class 'str'>\n",
      "<class 'NoneType'>\n"
     ]
    }
   ],
   "source": [
    "for i in link:\n",
    "    print(type(i.get_attribute('href')))"
   ]
  },
  {
   "cell_type": "code",
   "execution_count": 48,
   "id": "3c8f7150",
   "metadata": {},
   "outputs": [],
   "source": [
    "for i in link:\n",
    "        temp = i.get_attribute('href')\n",
    "\n",
    "        temp= str(temp)[:23]\n",
    "    #     print(temp)\n",
    "        if temp == \"https://www.youtube.com\":\n",
    "            \n",
    "            lst.append(i.get_attribute(\"href\"))"
   ]
  },
  {
   "cell_type": "code",
   "execution_count": 49,
   "id": "d4edfcc3",
   "metadata": {},
   "outputs": [
    {
     "data": {
      "text/plain": [
       "36"
      ]
     },
     "execution_count": 49,
     "metadata": {},
     "output_type": "execute_result"
    }
   ],
   "source": [
    "len(lst)"
   ]
  },
  {
   "cell_type": "code",
   "execution_count": 44,
   "id": "c910c0d6",
   "metadata": {},
   "outputs": [
    {
     "name": "stdout",
     "output_type": "stream",
     "text": [
      "https://www.youtube.com/c/OpeninApp\n",
      "https://www.youtube.com/hashtag/openinapp\n",
      "https://www.youtube.com/watch?v=-GvsoRszRt4\n",
      "https://www.youtube.com/watch?v=-GvsoRszRt4\n",
      "https://www.youtube.com/watch?v=Njo_GPYbTvY\n",
      "https://www.youtube.com/watch?v=Njo_GPYbTvY\n",
      "https://www.youtube.com/watch?v=zEd9C0eRwzY\n",
      "https://www.youtube.com/watch?v=zEd9C0eRwzY\n",
      "https://www.youtube.com/post/UgkxkNMzcb3UCWm4sfl1TtmpUE9eRv_qGnSj\n",
      "https://www.youtube.com/watch?v=dd02GPhhNhQ\n",
      "https://www.youtube.com/watch?v=dd02GPhhNhQ\n",
      "https://www.youtube.com/watch?v=7zG7jspETQQ\n",
      "https://www.youtube.com/watch?v=7zG7jspETQQ\n",
      "https://www.youtube.com/watch?v=37LWv9yHcis\n",
      "https://www.youtube.com/watch?v=37LWv9yHcis\n",
      "https://www.youtube.com/watch?v=fh9POV4ff3Q\n",
      "https://www.youtube.com/watch?v=fh9POV4ff3Q\n"
     ]
    }
   ],
   "source": [
    "for i in lst:\n",
    "    print(i)"
   ]
  },
  {
   "cell_type": "code",
   "execution_count": 45,
   "id": "42f2406b",
   "metadata": {},
   "outputs": [],
   "source": [
    "driver.find_element(By.ID,\"pnnext\").click()"
   ]
  },
  {
   "cell_type": "code",
   "execution_count": 51,
   "id": "0730b680",
   "metadata": {},
   "outputs": [],
   "source": [
    "driver.get(\"https://www.google.com/search?q=site:youtube.com+openinapp.co&ei=rZhSZKTqHcHg2roP3YWK6Ag&start=210&sa=N&ved=2ahUKEwjk9LSR1dn-AhVBsFYBHd2CAo04qgEQ8tMDegQIBRAV&biw=1536&bih=746&dpr=1.25\")"
   ]
  },
  {
   "cell_type": "code",
   "execution_count": null,
   "id": "be02fad2",
   "metadata": {},
   "outputs": [],
   "source": []
  }
 ],
 "metadata": {
  "kernelspec": {
   "display_name": "Python 3 (ipykernel)",
   "language": "python",
   "name": "python3"
  },
  "language_info": {
   "codemirror_mode": {
    "name": "ipython",
    "version": 3
   },
   "file_extension": ".py",
   "mimetype": "text/x-python",
   "name": "python",
   "nbconvert_exporter": "python",
   "pygments_lexer": "ipython3",
   "version": "3.11.1"
  }
 },
 "nbformat": 4,
 "nbformat_minor": 5
}
