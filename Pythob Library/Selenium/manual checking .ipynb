{
 "cells": [
  {
   "cell_type": "code",
   "execution_count": 1,
   "id": "fffe31a4",
   "metadata": {
    "scrolled": true
   },
   "outputs": [
    {
     "name": "stderr",
     "output_type": "stream",
     "text": [
      "C:\\Users\\dc\\AppData\\Local\\Temp\\ipykernel_6924\\131660413.py:10: DeprecationWarning: executable_path has been deprecated, please pass in a Service object\n",
      "  driver = webdriver.Chrome(executable_path =\"chromedriver_win32\\chromedriver.exe\")\n"
     ]
    }
   ],
   "source": [
    "from selenium import webdriver\n",
    "import pandas as pd\n",
    "import time\n",
    "from selenium.webdriver.common.by import By\n",
    "from scrapingbee import ScrapingBeeClient\n",
    "lst=[]\n",
    "cnt,curr_cnt,cyc=0,1,1\n",
    "country = 'india'\n",
    "driver = webdriver.Chrome(executable_path =\"chromedriver_win32\\chromedriver.exe\")\n"
   ]
  },
  {
   "cell_type": "code",
   "execution_count": 2,
   "id": "e77bec05",
   "metadata": {},
   "outputs": [],
   "source": [
    "client = ScrapingBeeClient(api_key='5WBOCVNYBGRPZ45UBWX6DPFYWA4KTTWDRDEN2BTE34UR3PBGT844LYYW35UBWL4YFGN00LQLTGBZFKYC')"
   ]
  },
  {
   "cell_type": "code",
   "execution_count": null,
   "id": "ea047807",
   "metadata": {},
   "outputs": [],
   "source": [
    "driver.get(\"https://www.google.com/\")\n",
    "time.sleep(2)\n",
    "driver.find_element(By.CLASS_NAME,'gLFyf').send_keys('site:youtube.com openinapp.co')\n",
    "driver.find_elements(By.NAME,'btnK')[1].click()\n",
    "time.sleep(2)"
   ]
  },
  {
   "cell_type": "code",
   "execution_count": 5,
   "id": "ee963a01",
   "metadata": {},
   "outputs": [],
   "source": [
    "driver.get(\"https://www.google.com/search?q=site%3Ayoutube.com+openinapp.co&num=100\")"
   ]
  },
  {
   "cell_type": "code",
   "execution_count": 6,
   "id": "2771802a",
   "metadata": {},
   "outputs": [],
   "source": [
    "def fun():\n",
    "#     this is function that give you an proxry result\n",
    "# If not work then then 1. try to change the url by copying from the google 2. use to search by diff country wise by using list \n",
    "    str = \"dz as ad ao ai aq ag ar am aw au at az bs bh bd bb by be bz bj bm bt bo ba bw bv br io vg bn bg bf bu bi kh cm ca cv ky cf td cl cn cx cc co km cg ck cr hr cu cy cz cs ci yd dk dj dm do tp ec eg sv gq er ee et fk fo fj fi fr gf pf tf ga gm ge dd de gh gi gr gl gd gp gu gt gn gw gy ht hm hn hk hu is in id iq ie ir il it jm jp jo kz ke ki kp kr kw kg la lv lb ls lr ly li lt lu mo mg mw my mv ml mt mh mq mr mu yt mx fm md mc mn ms ma mz mm na nr np an nl nt nc nz ni ne ng nu nf mp no om pk pw pa pg py pe ph pn pl pt pr qa ro ru rw re lc ws sm st sa sn sc sl sg sk si sb so za gs es lk sh kn pm vc sd sr sj sz se ch sy tw tj tz th tg tk to tt tn tr tm tc tv ug ua su ae gb um vi us uy uz vu va ve vn wf eh ye yu zr zm zw\"\n",
    "    reigon = str.split()\n",
    "    global country\n",
    "    country = random.choice(reigon)\n",
    "#     url=\"https://www.google.com/search?q=site%3Ayoutube.com+openinapp.co&num=100\"\n",
    "    url =\"https://www.google.com/\" # ye use kre ge to butten use hoga\n",
    "    response = client.get(url,\n",
    "    params = { \n",
    "            'premium_proxy': 'True',})\n",
    "    url =response.url  \n",
    "    driver.get(url)\n",
    "    print(response.status_code)\n",
    "    print(country)\n",
    "# #     time.sleep(2)\n",
    "#     driver.find_element(By.CLASS_NAME,'gLFyf').send_keys('site:youtube.com openinapp.co')\n",
    "#     driver.find_elements(By.NAME,'btnK')[1].click()\n",
    "#     time.sleep(2)\n",
    "    \n",
    "#     eder machine wela aa rhya hai\n",
    "    \n",
    "# fun()"
   ]
  },
  {
   "cell_type": "code",
   "execution_count": 15,
   "id": "4c4e1b15",
   "metadata": {},
   "outputs": [],
   "source": [
    "import random\n",
    "def fun():\n",
    "#     this is function that give you an proxry result\n",
    "# If not work then then 1. try to change the url by copying from the google 2. use to search by diff country wise by using list \n",
    "    reigon=['af','al','dz']\n",
    "    str = \"dz as ad ao ai aq ag ar am aw au at az bs bh bd bb by be bz bj bm bt bo ba bw bv br io vg bn bg bf bu bi kh cm ca cv ky cf td cl cn cx cc co km cg ck cr hr cu cy cz cs ci yd dk dj dm do tp ec eg sv gq er ee et fk fo fj fi fr gf pf tf ga gm ge dd de gh gi gr gl gd gp gu gt gn gw gy ht hm hn hk hu is in id iq ie ir il it jm jp jo kz ke ki kp kr kw kg la lv lb ls lr ly li lt lu mo mg mw my mv ml mt mh mq mr mu yt mx fm md mc mn ms ma mz mm na nr np an nl nt nc nz ni ne ng nu nf mp no om pk pw pa pg py pe ph pn pl pt pr qa ro ru rw re lc ws sm st sa sn sc sl sg sk si sb so za gs es lk sh kn pm vc sd sr sj sz se ch sy tw tj tz th tg tk to tt tn tr tm tc tv ug ua su ae gb um vi us uy uz vu va ve vn wf eh ye yu zr zm zw\"\n",
    "    reigon = str.split()\n",
    "\n",
    "    url=\"https://www.google.com/search?q=site%3Ayoutube.com+openinapp.co&num=100\"\n",
    "#     url =\"https://www.google.com/\" # ye use kre ge to butten use hoga\n",
    "    response = client.get(url,\n",
    "                params = { \n",
    "                 'premium_proxy': 'True',\n",
    "                    'country_code': random.choice(reigon),\n",
    "                'custom_google' : 'True'})\n",
    "    response.url  \n",
    "    driver.get(url)\n",
    "#     time.sleep(2)\n",
    "#     driver.find_element(By.CLASS_NAME,'gLFyf').send_keys('site:youtube.com openinapp.co')\n",
    "#     driver.find_elements(By.NAME,'btnK')[1].click()\n",
    "#     time.sleep(2)\n",
    "fun()"
   ]
  },
  {
   "cell_type": "code",
   "execution_count": 8,
   "id": "67b18f33",
   "metadata": {
    "scrolled": true
   },
   "outputs": [],
   "source": [
    "fun()"
   ]
  },
  {
   "cell_type": "code",
   "execution_count": 18,
   "id": "bf895999",
   "metadata": {
    "scrolled": true
   },
   "outputs": [
    {
     "name": "stdout",
     "output_type": "stream",
     "text": [
      "working List:  9154  Total 140  curr_cnt 0 cycle  141    india\n",
      "Next Tern\n",
      "working List:  9433  Total 141  curr_cnt 0 cycle  142    india\n",
      "Next Tern\n",
      "working List:  9532  Total 142  curr_cnt 0 cycle  143    india\n",
      "Next Tern\n",
      "working List:  9811  Total 143  curr_cnt 0 cycle  144    india\n",
      "Next Tern\n",
      "working List:  9910  Total 144  curr_cnt 0 cycle  145    india\n",
      "Next Tern\n",
      "working List:  10009  Total 145  curr_cnt 0 cycle  146    india\n",
      "Next Tern\n"
     ]
    }
   ],
   "source": [
    "# for the next button\n",
    "\n",
    "while len(lst)< 10100:\n",
    "    print(\"working List: \", len(lst) , \" Total\" , cnt ,\" curr_cnt\" , curr_cnt , \"cycle \" ,cyc, \"  \",country)\n",
    "    link = driver.find_elements(By.TAG_NAME, \"a\")\n",
    "    # https://www.youtube.com/c/OpeninApp\n",
    "    for i in link:\n",
    "        temp = i.get_attribute('href')\n",
    "\n",
    "        temp= str(temp)[:23]\n",
    "    #     print(temp)\n",
    "        if temp == \"https://www.youtube.com\":\n",
    "            \n",
    "            lst.append(i.get_attribute(\"href\"))\n",
    "    #             print(i.get_attribute(\"href\"))\n",
    "\n",
    "    #     if 'youtube' in temp:\n",
    "    #         print(i.get_attribute(\"href\"))\n",
    "    #         lst.append(i.get_attribute(\"href\"))\n",
    "\n",
    "\n",
    "    curr_cnt=0\n",
    "    cyc+=1\n",
    "    cnt+=1\n",
    "    print(\"Next Tern\")\n",
    "    fun()\n",
    "#         break"
   ]
  },
  {
   "cell_type": "code",
   "execution_count": 19,
   "id": "e230da7d",
   "metadata": {},
   "outputs": [
    {
     "data": {
      "text/plain": [
       "10108"
      ]
     },
     "execution_count": 19,
     "metadata": {},
     "output_type": "execute_result"
    }
   ],
   "source": [
    "len(lst)"
   ]
  },
  {
   "cell_type": "code",
   "execution_count": 23,
   "id": "21baad26",
   "metadata": {},
   "outputs": [],
   "source": [
    "import random"
   ]
  },
  {
   "cell_type": "code",
   "execution_count": null,
   "id": "f2edfc85",
   "metadata": {},
   "outputs": [],
   "source": []
  },
  {
   "cell_type": "code",
   "execution_count": 4,
   "id": "602460ea",
   "metadata": {
    "scrolled": false
   },
   "outputs": [
    {
     "name": "stdout",
     "output_type": "stream",
     "text": [
      "working List:  0  Total 0  curr_cnt 1 cycle  1    india\n",
      "working List:  137  Total 0  curr_cnt 1 cycle  1    india\n",
      "working List:  236  Total 0  curr_cnt 1 cycle  1    india\n"
     ]
    }
   ],
   "source": [
    "# for the next button\n",
    "\n",
    "while len(lst)<10100:\n",
    "    print(\"working List: \", len(lst) , \" Total\" , cnt ,\" curr_cnt\" , curr_cnt , \"cycle \" ,cyc, \"  \",country)\n",
    "    link = driver.find_elements(By.TAG_NAME, \"a\")\n",
    "    # https://www.youtube.com/c/OpeninApp\n",
    "    for i in link:\n",
    "        temp = i.get_attribute('href')\n",
    "\n",
    "        temp= str(temp)[:23]\n",
    "    #     print(temp)\n",
    "        if temp == \"https://www.youtube.com\":\n",
    "    #         \n",
    "            x = i.get_attribute(\"href\")\n",
    "            if x not in lst:\n",
    "                lst.append(i.get_attribute(\"href\"))\n",
    "    #             print(i.get_attribute(\"href\"))\n",
    "\n",
    "    #     if 'youtube' in temp:\n",
    "    #         print(i.get_attribute(\"href\"))\n",
    "    #         lst.append(i.get_attribute(\"href\"))\n",
    "\n",
    "\n",
    "    try:\n",
    "        driver.find_element(By.ID,\"pnnext\").click()\n",
    "    except:\n",
    "        break\n",
    "        "
   ]
  },
  {
   "cell_type": "code",
   "execution_count": 35,
   "id": "f56c8496",
   "metadata": {},
   "outputs": [],
   "source": [
    "dict = {'Links': lst}  \n",
    "df = pd.DataFrame(dict) \n",
    "df.to_csv('EmployeeData.csv') "
   ]
  },
  {
   "cell_type": "code",
   "execution_count": null,
   "id": "b9f9db9c",
   "metadata": {},
   "outputs": [],
   "source": []
  }
 ],
 "metadata": {
  "kernelspec": {
   "display_name": "Python 3 (ipykernel)",
   "language": "python",
   "name": "python3"
  },
  "language_info": {
   "codemirror_mode": {
    "name": "ipython",
    "version": 3
   },
   "file_extension": ".py",
   "mimetype": "text/x-python",
   "name": "python",
   "nbconvert_exporter": "python",
   "pygments_lexer": "ipython3",
   "version": "3.11.1"
  }
 },
 "nbformat": 4,
 "nbformat_minor": 5
}
