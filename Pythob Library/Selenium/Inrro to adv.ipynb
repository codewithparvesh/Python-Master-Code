{
 "cells": [
  {
   "cell_type": "code",
   "execution_count": 37,
   "id": "b19e094a",
   "metadata": {},
   "outputs": [
    {
     "name": "stderr",
     "output_type": "stream",
     "text": [
      "C:\\Users\\dc\\AppData\\Local\\Temp\\ipykernel_15952\\280651719.py:3: DeprecationWarning: executable_path has been deprecated, please pass in a Service object\n",
      "  driver = webdriver.Chrome(executable_path =\"D:\\Coding\\Pythob Library\\Selenium\\chromedriver_win32\\chromedriver.exe\")\n"
     ]
    }
   ],
   "source": [
    "from selenium import webdriver\n",
    "from selenium.webdriver.common.by import By\n",
    "driver = webdriver.Chrome(executable_path =\"D:\\Coding\\Pythob Library\\Selenium\\chromedriver_win32\\chromedriver.exe\")"
   ]
  },
  {
   "cell_type": "code",
   "execution_count": 38,
   "id": "aa6a8953",
   "metadata": {},
   "outputs": [],
   "source": [
    "url = \"https://www.google.com/\"\n",
    "driver.get(url)\n",
    "# driver.url"
   ]
  },
  {
   "cell_type": "code",
   "execution_count": 39,
   "id": "9044881c",
   "metadata": {},
   "outputs": [
    {
     "name": "stdout",
     "output_type": "stream",
     "text": [
      "Google\n",
      "https://www.google.com/\n"
     ]
    }
   ],
   "source": [
    "print(driver.title)\n",
    "print(driver.current_url)\n",
    "# driver.maximize_window()\n"
   ]
  },
  {
   "cell_type": "code",
   "execution_count": 12,
   "id": "224dff07",
   "metadata": {},
   "outputs": [
    {
     "data": {
      "text/plain": [
       "'https://www.google.com/'"
      ]
     },
     "execution_count": 12,
     "metadata": {},
     "output_type": "execute_result"
    }
   ],
   "source": []
  },
  {
   "cell_type": "code",
   "execution_count": null,
   "id": "eebe5fb8",
   "metadata": {},
   "outputs": [],
   "source": []
  },
  {
   "cell_type": "code",
   "execution_count": 20,
   "id": "ffd26b8b",
   "metadata": {},
   "outputs": [],
   "source": [
    "# naavigation command forward() o rback()\n",
    "driver.get(\"https://masterprograming.com/web-driver-navigation-commands-in-selenium/\")\n",
    "\n"
   ]
  },
  {
   "cell_type": "code",
   "execution_count": 17,
   "id": "6da177e0",
   "metadata": {},
   "outputs": [],
   "source": [
    "import time\n",
    "time.sleep(2)\n",
    "driver.back()"
   ]
  },
  {
   "cell_type": "code",
   "execution_count": 18,
   "id": "5d95cd7b",
   "metadata": {},
   "outputs": [],
   "source": [
    "driver.forward()"
   ]
  },
  {
   "cell_type": "code",
   "execution_count": 46,
   "id": "78b3585f",
   "metadata": {},
   "outputs": [
    {
     "name": "stdout",
     "output_type": "stream",
     "text": [
      "True\n",
      "True\n"
     ]
    }
   ],
   "source": [
    "driver.get(\"https://masterprograming.com/contact-us/\")\n",
    "var = driver.find_element(By.XPATH,\"/html/body/div[1]/div[1]/div/div/aside/div/section[1]/form/label/input\")\n",
    "print(var.is_displayed())  \n",
    "print(var.is_enabled())\n",
    "link = driver.find_elements(By.TAG_NAME, \"a\")\n",
    "\n",
    "# driver.get(\"https://www.w3schools.com/html/html_forms.asp\")\n",
    "# var = driver.find_element(By.NAME,\"gender\")\n",
    "# print(var.is_selected())"
   ]
  },
  {
   "cell_type": "code",
   "execution_count": 50,
   "id": "36eec6c6",
   "metadata": {},
   "outputs": [
    {
     "name": "stdout",
     "output_type": "stream",
     "text": [
      "https://masterprograming.com/contact-us/#content\n",
      "https://masterprograming.com/\n",
      "https://www.facebook.com/masterprogrammingbydanish\n",
      "https://www.instagram.com/masterprograming/\n",
      "https://www.youtube.com/channel/UCbsVWeymfqS8yCfDmTgex4A\n",
      "https://www.linkedin.com/in/mp-danishali/\n",
      "https://masterprograming.com/\n",
      "javascript:void(0)\n",
      "https://masterprograming.com/contact-us/#\n",
      "javascript:void(0);\n",
      "https://masterprograming.com/c-language/\n",
      "https://masterprograming.com/c-plus-plus/\n",
      "https://masterprograming.com/python/\n",
      "https://masterprograming.com/php/\n",
      "https://masterprograming.com/java/\n",
      "https://masterprograming.com/html-in-hindi/\n",
      "https://masterprograming.com/contact-us/#\n",
      "javascript:void(0);\n",
      "https://masterprograming.com/category/css/\n",
      "https://masterprograming.com/category/javascript/\n",
      "https://masterprograming.com/category/data-structure/\n",
      "https://masterprograming.com/category/typescript/\n",
      "https://masterprograming.com/contact-us/#\n",
      "javascript:void(0);\n",
      "https://masterprograming.com/python-numpy-tutorial-in-hindi/\n",
      "https://masterprograming.com/python-pandas-tutorial-in-hindi/\n",
      "https://masterprograming.com/django-tutorial-in-hindi/\n",
      "https://masterprograming.com/python-hacking-tutorial-in-hindi/\n",
      "https://masterprograming.com/python-selenium-in-hindi-selenium-tutorial-in-hindi/\n",
      "https://masterprograming.com/python-tkinter-tutorial-in-hindi/\n",
      "https://masterprograming.com/category/python-opencv/\n",
      "https://masterprograming.com/category/programming-blog/\n",
      "https://course.masterprograming.com/\n",
      "https://masterprograming.com/contact-us/\n",
      "javascript:void(0)\n",
      "https://masterprograming.com/contact-us/?share=twitter&nb=1\n",
      "https://masterprograming.com/contact-us/?share=facebook&nb=1\n",
      "https://masterprograming.com/contact-us/?share=linkedin&nb=1\n",
      "https://masterprograming.com/contact-us/?share=pinterest&nb=1\n",
      "https://masterprograming.com/contact-us/?share=telegram&nb=1\n",
      "https://masterprograming.com/contact-us/?share=jetpack-whatsapp&nb=1\n",
      "https://masterprograming.com/javascript-tutorial-in-hindi/\n",
      "https://masterprograming.com/javascript-tutorial-in-hindi/\n",
      "https://masterprograming.com/javascript-tutorial-in-hindi/\n",
      "https://masterprograming.com/author/masterprograming/\n",
      "https://masterprograming.com/css-full-course-in-hindi/\n",
      "https://masterprograming.com/css-full-course-in-hindi/\n",
      "https://masterprograming.com/css-full-course-in-hindi/\n",
      "https://masterprograming.com/author/masterprograming/\n",
      "https://masterprograming.com/html-full-course-in-hindi/\n",
      "https://masterprograming.com/html-full-course-in-hindi/\n",
      "https://masterprograming.com/html-full-course-in-hindi/\n",
      "https://masterprograming.com/author/masterprograming/\n",
      "https://masterprograming.com/php-full-course-in-hindi-php-tutorial-complete-in-hindi/\n",
      "https://masterprograming.com/php-full-course-in-hindi-php-tutorial-complete-in-hindi/\n",
      "https://masterprograming.com/php-full-course-in-hindi-php-tutorial-complete-in-hindi/\n",
      "https://masterprograming.com/author/masterprograming/\n",
      "https://masterprograming.com/c-full-course-in-hindi-cpp-tutorial-in-hindi/\n",
      "https://masterprograming.com/c-full-course-in-hindi-cpp-tutorial-in-hindi/\n",
      "https://masterprograming.com/c-full-course-in-hindi-cpp-tutorial-in-hindi/\n",
      "https://masterprograming.com/author/masterprograming/\n",
      "https://masterprograming.com/java-tutorial-in-hindi-java-for-beginners-in-hindi/\n",
      "https://masterprograming.com/java-tutorial-in-hindi-java-for-beginners-in-hindi/\n",
      "https://masterprograming.com/java-tutorial-in-hindi-java-for-beginners-in-hindi/\n",
      "https://masterprograming.com/author/masterprograming/\n",
      "https://masterprograming.com/c-tutorial-in-hindi-2/\n",
      "https://masterprograming.com/c-tutorial-in-hindi-2/\n",
      "https://masterprograming.com/c-tutorial-in-hindi-2/\n",
      "https://masterprograming.com/author/masterprograming/\n",
      "https://masterprograming.com/python-a-to-z-full-course/\n",
      "https://masterprograming.com/python-a-to-z-full-course/\n",
      "https://masterprograming.com/python-a-to-z-full-course/\n",
      "https://masterprograming.com/author/masterprograming/\n",
      "https://masterprograming.com/integrate-chatgpt-on-whatsapp-free/\n",
      "https://masterprograming.com/integrate-chatgpt-on-whatsapp-free/\n",
      "https://masterprograming.com/integrate-chatgpt-on-whatsapp-free/\n",
      "https://masterprograming.com/author/masterprograming/\n",
      "https://masterprograming.com/automate-gmail-messages-using-python-selenium-selenium-in-hindi/\n",
      "https://masterprograming.com/automate-gmail-messages-using-python-selenium-selenium-in-hindi/\n",
      "https://masterprograming.com/automate-gmail-messages-using-python-selenium-selenium-in-hindi/\n",
      "https://masterprograming.com/author/masterprograming/\n",
      "https://masterprograming.com/chatgpt-kiya-hai-in-hindi-can-replace-google/\n",
      "https://masterprograming.com/chatgpt-kiya-hai-in-hindi-can-replace-google/\n",
      "https://masterprograming.com/chatgpt-kiya-hai-in-hindi-can-replace-google/\n",
      "https://masterprograming.com/author/masterprograming/\n",
      "https://masterprograming.com/top-3-it-city-in-india-2022-get-admission-in-it-city/\n",
      "https://masterprograming.com/top-3-it-city-in-india-2022-get-admission-in-it-city/\n",
      "https://masterprograming.com/top-3-it-city-in-india-2022-get-admission-in-it-city/\n",
      "https://masterprograming.com/author/masterprograming/\n",
      "https://masterprograming.com/create-a-responsive-layout-using-flexbox-in-hindi/\n",
      "https://masterprograming.com/create-a-responsive-layout-using-flexbox-in-hindi/\n",
      "https://masterprograming.com/create-a-responsive-layout-using-flexbox-in-hindi/\n",
      "https://masterprograming.com/author/masterprograming/\n",
      "https://mysterythemes.com/\n",
      "https://masterprograming.com/c-language/\n",
      "https://masterprograming.com/c-plus-plus/\n",
      "https://masterprograming.com/python/\n",
      "https://masterprograming.com/php/\n",
      "https://masterprograming.com/java/\n",
      "https://masterprograming.com/css/\n",
      "https://masterprograming.com/html-in-hindi/\n",
      "https://masterprograming.com/javascript/\n",
      "https://masterprograming.com/data-science/\n",
      "https://masterprograming.com/category/typescript/\n",
      "https://masterprograming.com/category/data-structure/\n",
      "https://masterprograming.com/category/programming-blog/\n",
      "https://masterprograming.com/category/paid-projects/\n"
     ]
    }
   ],
   "source": [
    "for i in link:\n",
    "    print(i.get_attribute(\"href\"))"
   ]
  },
  {
   "cell_type": "code",
   "execution_count": null,
   "id": "87dd432d",
   "metadata": {},
   "outputs": [],
   "source": []
  }
 ],
 "metadata": {
  "kernelspec": {
   "display_name": "Python 3 (ipykernel)",
   "language": "python",
   "name": "python3"
  },
  "language_info": {
   "codemirror_mode": {
    "name": "ipython",
    "version": 3
   },
   "file_extension": ".py",
   "mimetype": "text/x-python",
   "name": "python",
   "nbconvert_exporter": "python",
   "pygments_lexer": "ipython3",
   "version": "3.11.1"
  }
 },
 "nbformat": 4,
 "nbformat_minor": 5
}
