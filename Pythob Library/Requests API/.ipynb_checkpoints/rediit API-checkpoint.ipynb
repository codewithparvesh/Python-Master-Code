{
 "cells": [
  {
   "cell_type": "code",
   "execution_count": 21,
   "id": "90f3b280",
   "metadata": {},
   "outputs": [],
   "source": [
    "import requests\n",
    "import json\n"
   ]
  },
  {
   "cell_type": "markdown",
   "id": "bd5e89fe",
   "metadata": {},
   "source": [
    "data={\"client_id\":\"YwSr8oVRoVemwg\", \"response_type\":\"code\", \"state\":\"Welcome\", \"redirect_uri\":\"https://www.google.com\",\n",
    "     \"scope\":\"read\"}\n",
    "response=requests.get('https://www.reddit.com/api/v1/authorize', params=data)\n",
    "print(response.url)"
   ]
  },
  {
   "cell_type": "code",
   "execution_count": 22,
   "id": "8861adb8",
   "metadata": {},
   "outputs": [
    {
     "name": "stdout",
     "output_type": "stream",
     "text": [
      "https://www.reddit.com/api/v1/authorize?client_id=YwSr8oVRoVemwg&response_type=code&state=Welcome&redirect_uri=https%3A%2F%2Fwww.google.com&scope=read\n"
     ]
    }
   ],
   "source": [
    "data={\"client_id\":\"YwSr8oVRoVemwg\", \"response_type\":\"code\", \"state\":\"Welcome\", \"redirect_uri\":\"https://www.google.com\",\n",
    "     \"scope\":\"read\"}\n",
    "response=requests.get('https://www.reddit.com/api/v1/authorize', params=data)\n",
    "print(response.url)"
   ]
  },
  {
   "cell_type": "code",
   "execution_count": 37,
   "id": "a4d78663",
   "metadata": {},
   "outputs": [
    {
     "name": "stdout",
     "output_type": "stream",
     "text": [
      "https://www.reddit.com/api/v1/authorize?client_id=YvlD1EHtX-HPWGAnlQiaIA&response_type=code&state=Welcome&redirect_uri=https%3A%2F%2Fwww.google.com%2F&scope=read\n"
     ]
    }
   ],
   "source": [
    "# data = {\"client_id\" : 'YwSr8oVRoVemwg', \"response_type\" : \"code\", \n",
    "#         'state\" : \"random_122\", \"redirect_url\": \"https://www.google.com\",\"scope\":'read\" }\n",
    "data={\"client_id\":\"YvlD1EHtX-HPWGAnlQiaIA\", \"response_type\":\"code\", \"state\":\"Welcome\", \"redirect_uri\":'https://www.google.com/',\n",
    "     \"scope\":\"read\"}\n",
    "response=requests.get('https://www.reddit.com/api/v1/authorize', params=data)\n",
    "print(response.url)"
   ]
  },
  {
   "cell_type": "code",
   "execution_count": 28,
   "id": "bf685386",
   "metadata": {
    "scrolled": false
   },
   "outputs": [
    {
     "name": "stdout",
     "output_type": "stream",
     "text": [
      "b'\\n<!doctype html>\\n<html>\\n  <head>\\n    <title>Too Many Requests</title>\\n    <style>\\n      body {\\n          font: small verdana, arial, helvetica, sans-serif;\\n          width: 600px;\\n          margin: 0 auto;\\n      }\\n\\n      h1 {\\n          height: 40px;\\n          background: transparent url(//www.redditstatic.com/reddit.com.header.png) no-repeat scroll top right;\\n      }\\n    </style>\\n  </head>\\n  <body>\\n    <h1>whoa there, pardner!</h1>\\n    \\n\\n\\n<p>we\\'re sorry, but you appear to be a bot and we\\'ve seen too many requests\\nfrom you lately. we enforce a hard speed limit on requests that appear to come\\nfrom bots to prevent abuse.</p>\\n\\n<p>if you are not a bot but are spoofing one via your browser\\'s user agent\\nstring: please change your user agent string to avoid seeing this message\\nagain.</p>\\n\\n<p>please wait 7 second(s) and try again.</p>\\n\\n    <p>as a reminder to developers, we recommend that clients make no\\n    more than <a href=\"http://github.com/reddit/reddit/wiki/API\">one\\n    request every two seconds</a> to avoid seeing this message.</p>\\n  </body>\\n</html>\\n'\n",
      "429\n"
     ]
    }
   ],
   "source": [
    "print(response.content)\n",
    "print(response.status_code)"
   ]
  }
 ],
 "metadata": {
  "kernelspec": {
   "display_name": "Python 3 (ipykernel)",
   "language": "python",
   "name": "python3"
  },
  "language_info": {
   "codemirror_mode": {
    "name": "ipython",
    "version": 3
   },
   "file_extension": ".py",
   "mimetype": "text/x-python",
   "name": "python",
   "nbconvert_exporter": "python",
   "pygments_lexer": "ipython3",
   "version": "3.11.1"
  }
 },
 "nbformat": 4,
 "nbformat_minor": 5
}
