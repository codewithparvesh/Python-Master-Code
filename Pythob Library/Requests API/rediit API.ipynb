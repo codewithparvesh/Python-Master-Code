{
 "cells": [
  {
   "cell_type": "code",
   "execution_count": 3,
   "id": "90f3b280",
   "metadata": {},
   "outputs": [],
   "source": [
    "import requests\n",
    "import json\n"
   ]
  },
  {
   "cell_type": "markdown",
   "id": "bd5e89fe",
   "metadata": {},
   "source": [
    "data={\"client_id\":\"YwSr8oVRoVemwg\", \"response_type\":\"code\", \"state\":\"Welcome\", \"redirect_uri\":\"https://www.google.com\",\n",
    "     \"scope\":\"read\"}\n",
    "response=requests.get('https://www.reddit.com/api/v1/authorize', params=data)\n",
    "print(response.url)"
   ]
  },
  {
   "cell_type": "code",
   "execution_count": 22,
   "id": "8861adb8",
   "metadata": {},
   "outputs": [
    {
     "name": "stdout",
     "output_type": "stream",
     "text": [
      "https://www.reddit.com/api/v1/authorize?client_id=YwSr8oVRoVemwg&response_type=code&state=Welcome&redirect_uri=https%3A%2F%2Fwww.google.com&scope=read\n"
     ]
    }
   ],
   "source": [
    "data={\"client_id\":\"YwSr8oVRoVemwg\", \"response_type\":\"code\", \"state\":\"Welcome\", \"redirect_uri\":\"https://www.google.com\",\n",
    "     \"scope\":\"read\"}\n",
    "response=requests.get('https://www.reddit.com/api/v1/authorize', params=data)\n",
    "print(response.url)"
   ]
  },
  {
   "cell_type": "code",
   "execution_count": 5,
   "id": "a4d78663",
   "metadata": {},
   "outputs": [
    {
     "name": "stdout",
     "output_type": "stream",
     "text": [
      "https://www.reddit.com/login/?dest=https%3A%2F%2Fwww.reddit.com%2Fapi%2Fv1%2Fauthorize%3Fclient_id%3DYvlD1EHtX-HPWGAnlQiaIA%26response_type%3Dcode%26state%3DWelcome%26redirect_uri%3Dhttps%253A%252F%252Fwww.google.com%252F%26scope%3Dread\n"
     ]
    }
   ],
   "source": [
    "# data = {\"client_id\" : 'YwSr8oVRoVemwg', \"response_type\" : \"code\", \n",
    "#         'state\" : \"random_122\", \"redirect_url\": \"https://www.google.com\",\"scope\":'read\" }\n",
    "data={\"client_id\":\"YvlD1EHtX-HPWGAnlQiaIA\", \"response_type\":\"code\", \"state\":\"Welcome\", \"redirect_uri\":'https://www.google.com/',\n",
    "     \"scope\":\"read\"}\n",
    "response=requests.get('https://www.reddit.com/api/v1/authorize', params=data)\n",
    "print(response.url)"
   ]
  },
  {
   "cell_type": "code",
   "execution_count": 6,
   "id": "bf685386",
   "metadata": {
    "scrolled": false
   },
   "outputs": [
    {
     "name": "stdout",
     "output_type": "stream",
     "text": [
      "b'<!DOCTYPE html>\\n<html lang=\"hi-IN\">\\n    <head>\\n        <title>\\n            \\n                reddit.com: Log in\\n            \\n        </title>\\n\\n        <link rel=\"shortcut icon\" type=\"image/png\" sizes=\"512x512\" href=\"https://www.redditstatic.com/accountmanager/favicon/favicon-512x512.png\">\\n        <link rel=\"shortcut icon\" type=\"image/png\" sizes=\"192x192\" href=\"https://www.redditstatic.com/accountmanager/favicon/favicon-192x192.png\">\\n        <link rel=\"shortcut icon\" type=\"image/png\" sizes=\"32x32\" href=\"https://www.redditstatic.com/accountmanager/favicon/favicon-32x32.png\">\\n        <link rel=\"shortcut icon\" type=\"image/png\" sizes=\"16x16\" href=\"https://www.redditstatic.com/accountmanager/favicon/favicon-16x16.png\">\\n        <link rel=\"apple-touch-icon\" sizes=\"180x180\" href=\"https://www.redditstatic.com/accountmanager/favicon/apple-touch-icon-180x180.png\">\\n        <link rel=\"mask-icon\" href=\"https://www.redditstatic.com/accountmanager/favicon/safari-pinned-tab.svg\" color=\"#5bbad5\">\\n        <link rel=\"canonical\" href=\"https://www.reddit.com/login/\">\\n        <meta name=\"viewport\" content=\"width=device-width, initial-scale=1, viewport-fit=cover\">\\n        <meta name=\"msapplication-TileColor\" content=\"#ffffff\"/>\\n        <meta name=\"msapplication-TileImage\" content=\"https://www.redditstatic.com/accountmanager/favicon/mstile-310x310.png\"/>\\n        <meta name=\"msapplication-TileImage\" content=\"https://www.redditstatic.com/accountmanager/favicon/mstile-310x150.png\"/>\\n        <meta name=\"theme-color\" content=\"#ffffff\">\\n        \\n<meta name=\"description\" content=\"Don\\xe2\\x80\\x99t worry, we won\\xe2\\x80\\x99t tell anyone your username. Log in to your Reddit account.\">\\n\\n        \\n\\n  <link rel=\"stylesheet\" href=\"https://www.redditstatic.com/accountmanager/vendor.4edfac426c2c4357e34e.css\">\\n\\n  <link rel=\"stylesheet\" href=\"https://www.redditstatic.com/accountmanager/theme.02a88d7effc337a0c765.css\">\\n\\n  <link rel=\"stylesheet\" href=\"https://www.redditstatic.com/accountmanager/login.375ac138e6a5894c3d66.css\">\\n\\n\\n    </head>\\n    <body>\\n        \\n<div class=\"App m-desktop    \">\\n  \\n<form id=\"globals\" autocomplete=\"off\">\\n  <input type=\"hidden\" name=\"app_name\" value=\"login\">\\n  <input type=\"hidden\" name=\"csrf_token\" value=\"d58811d5a3bdc165f483494d2d00fd753db39cb0\">\\n  <input type=\"hidden\" name=\"dest\" value=\"https://www.reddit.com/api/v1/authorize?client_id=YvlD1EHtX-HPWGAnlQiaIA&amp;response_type=code&amp;state=Welcome&amp;redirect_uri=https%3A%2F%2Fwww.google.com%2F&amp;scope=read\">\\n  <input type=\"hidden\" name=\"is_logged_in\" value=\"\">\\n  <input type=\"hidden\" name=\"is_email_perm_required\" value=\"\">\\n  <input type=\"hidden\" name=\"is_compact\" value=\"False\">\\n  <input type=\"hidden\" name=\"is_mobile_ui\" value=\"False\">\\n  <input type=\"hidden\" name=\"is_shreddit\" value=\"False\">\\n  <input type=\"hidden\" name=\"subreddit_ids\" value=\"\">\\n  <input type=\"hidden\" name=\"lang\" value=\"hi-IN\">\\n  \\n\\n\\n</form>\\n\\n  <form id=\"props\">\\n    \\n  <input type=\"hidden\" name=\"cookie_domain\" value=\".reddit.com\">\\n  <input type=\"hidden\" name=\"is_oauth\" value=\"False\">\\n  <input type=\"hidden\" name=\"ui_mode\" value=\"\">\\n\\n  </form>\\n  \\n<main class=\"Login\">\\n  \\n<div class=\"OnboardingStep Onboarding__step mode-auth\" data-step=\"username-and-password\">\\n  <div class=\"Step\">\\n    \\n    <div class=\"Art Step__art\"></div>\\n    \\n    \\n    <div class=\"Step__content\">\\n      \\n        \\n\\n  \\n\\n      \\n      \\n    \\n    \\n      \\n        \\n        <h1 class=\"Title m-no-margin\">Log in</h1>\\n      \\n      \\n<p class=\"UserAgreement \">\\n  \\n  By continuing, you agree to our <a target=\"_blank\" href=\"https://www.redditinc.com/policies/user-agreement\">User Agreement</a> and <a target=\"_blank\" href=\"https://www.redditinc.com/policies/privacy-policy\">Privacy Policy</a>.\\n  \\n</p>\\n\\n    \\n    <form class=\"AnimatedForm\" action=\"/login\" method=\"post\">\\n      \\n        \\n          <p class=\"tfa-description hideable\">\\n            You have two-factor authentication enabled on this account because you&#39;re awesome.\\n          </p>\\n        \\n      \\n      \\n      <div class=\"Sso\">\\n          <div class=\"sso-buttons\">\\n            <div class=\"gis-exp-btn-wrapper\">\\n              <div id=\"google-sso\"></div>\\n            </div>\\n            <div class=\"gis-exp-btn-wrapper\">\\n              <div id=\"appleid-signin-container\" class=\"Sso__newAppleIdButton\">\\n                <div class=\"btn-content\">\\n                  <div class=\"icon\"></div>\\n                  <span>Continue with Apple</span>\\n                </div>\\n                <div id=\"appleid-signin\" class=\"Sso__appleIdButton\" data-type=\"sign in\"></div>\\n              </div>\\n            </div>\\n              \\n  \\n\\n          </div>\\n        \\n          <div class=\"Sso__divider \">\\n            <span class=\"Sso__dividerLine\"></span>\\n            <span class=\"Sso__dividerText\">or</span>\\n            <span class=\"Sso__dividerLine\"></span>\\n          </div>\\n        \\n      </div>\\n      \\n      \\n      \\n        \\n<fieldset class=\"AnimatedForm__field m-required login hideable\">\\n  \\n  <input id=\"loginUsername\" class=\"AnimatedForm__textInput \" type=\"text\" name=\"username\" required placeholder=\"\\n        Username\\n      \">\\n  <label class=\"AnimatedForm__textInputLabel \" for=\"loginUsername\">\\n    \\n        Username\\n      \\n  </label>\\n  <div class=\"AnimatedForm__errorMessage\"></div>\\n</fieldset>\\n\\n        \\n<fieldset class=\"AnimatedForm__field m-required password hideable m-small-margin\">\\n  \\n  <input id=\"loginPassword\" class=\"AnimatedForm__textInput \" type=\"password\" name=\"password\" required placeholder=\"\\n        Password\\n      \">\\n  <label class=\"AnimatedForm__textInputLabel \" for=\"loginPassword\">\\n    \\n        Password\\n      \\n  </label>\\n  <div class=\"AnimatedForm__errorMessage\"></div>\\n</fieldset>\\n\\n      \\n      \\n        \\n      \\n      <div class=\"two-modes-separator\"></div>\\n      \\n<fieldset class=\"AnimatedForm__field m-required otp \">\\n  \\n  \\n  <input id=\"otp\" class=\"AnimatedForm__textInput  \" type=\"tel\" name=\"otp\" pattern=\"[0-9]*\" autocomplete=\"off\" placeholder=\"\\n    6 digit code\\n  \" data-lpignore=\"true\">\\n  <label class=\"AnimatedForm__textInputLabel \" for=\"otp\">\\n    \\n    6 digit code\\n  \\n  </label>\\n  <div class=\"AnimatedForm__errorMessage\"></div>\\n</fieldset>\\n\\n      \\n        \\n<fieldset class=\"AnimatedForm__field switch-otp-type \">\\n  <input class=\"AnimatedForm__textInput\" type=\"hidden\" name=\"otp-type\" value=\"app\">\\n  \\n    <span class=\"BottomLink switch-otp-type\">\\n      \\n        use a backup code\\n    </span>\\n  \\n</fieldset>\\n\\n      \\n      \\n      \\n        \\n<fieldset class=\"AnimatedForm__field m-small-margin\">\\n  <button class=\"AnimatedForm__submitButton m-full-width\" type=\"submit\">\\n    \\n        Log In\\n      \\n  </button>\\n  <div class=\"AnimatedForm__submitStatus\">\\n    <div class=\"AnimatedForm__submitStatusIcon\"></div>\\n    <span class=\"AnimatedForm__submitStatusMessage\"></span>\\n  </div>\\n</fieldset>\\n\\n        \\n      \\n      \\n      \\n        <div class=\"BottomText m-secondary-text login-bottom-text hideable\">\\n          \\n          \\n          \\n          \\n          \\n          <span class=\"BottomLink m-secondary-text\">Forgot your</span> <a class=\"BottomLink m-secondary-text\" href=\"/username?dest=https%3A%2F%2Fwww.reddit.com%2Fapi%2Fv1%2Fauthorize%3Fclient_id%3DYvlD1EHtX-HPWGAnlQiaIA%26response_type%3Dcode%26state%3DWelcome%26redirect_uri%3Dhttps%253A%252F%252Fwww.google.com%252F%26scope%3Dread\">username</a> <span class=\"BottomLink m-secondary-text\">or</span> <a class=\"BottomLink m-secondary-text\" href=\"/password?dest=https%3A%2F%2Fwww.reddit.com%2Fapi%2Fv1%2Fauthorize%3Fclient_id%3DYvlD1EHtX-HPWGAnlQiaIA%26response_type%3Dcode%26state%3DWelcome%26redirect_uri%3Dhttps%253A%252F%252Fwww.google.com%252F%26scope%3Dread\">password</a><span class=\"BottomLink m-secondary-text m-question\">&nbsp;?</span>\\n        </div>\\n      \\n      \\n        \\n<div class=\"BottomText login-bottom-text register hideable\">\\n  New to Reddit?\\n  \\n    <a class=\"BottomLink\" href=\"/account/register/?dest=https%3A%2F%2Fwww.reddit.com%2Fapi%2Fv1%2Fauthorize%3Fclient_id%3DYvlD1EHtX-HPWGAnlQiaIA%26response_type%3Dcode%26state%3DWelcome%26redirect_uri%3Dhttps%253A%252F%252Fwww.google.com%252F%26scope%3Dread\">Sign up</a>\\n  \\n</div>\\n\\n      \\n      \\n        <div class=\"BottomText tfa-bottom-text hideable\">\\n          <span class=\"BottomLink back-to-main\">Go&nbsp;back&nbsp;to&nbsp;account&nbsp;details</span><!--\\n          --><span class=\"LinkSeparator\">\\xe2\\x80\\xa2</span><!--\\n          --><a class=\"BottomLink\" target=\"_blank\" href=\"https://www.reddithelp.com/en/categories/using-reddit/your-reddit-account/how-set-two-factor-authentication\">Having&nbsp;trouble&nbsp;?</a>\\n        </div>\\n      \\n    </form>\\n  \\n    </div>\\n  </div>\\n</div>\\n\\n  \\n  \\n\\n  \\n  \\n<div class=\"OnboardingStep Onboarding__step \" data-step=\"select-account\">\\n  <div class=\"Step\">\\n    \\n    <div class=\"Art Step__art\"></div>\\n    \\n    \\n    <div class=\"Step__content\">\\n      \\n        \\n\\n  \\n\\n      \\n      \\n    <div class=\"AnimatedForm__header\">\\n      <h1 class=\"Title m-no-margin\">\\n      \\n      Choose a Reddit account\\n      \\n      </h1>\\n      <p class=\"Description\">\\n        Your email <b id=\"sso-email\"></b> is connected to:\\n      </p>\\n    </div>\\n    <div id=\"ChooseAccount\"></div>\\n  \\n    </div>\\n  </div>\\n</div>\\n\\n\\n  \\n  \\n<div class=\"OnboardingStep Onboarding__step \" data-step=\"confirm-password\">\\n  <div class=\"Step\">\\n    \\n    <div class=\"Art Step__art\"></div>\\n    \\n    \\n    <div class=\"Step__content\">\\n      \\n        \\n\\n  \\n\\n      \\n      \\n    <div class=\"AnimatedForm__header\">\\n      \\n      <h1 class=\"Title\">Confirm your password</h1>\\n      \\n      \\n    </div>\\n    <form id=\"confirm-password-form\">\\n      \\n<fieldset class=\"AnimatedForm__field m-required \">\\n  \\n  <input id=\"confirmPassword\" class=\"AnimatedForm__textInput \" type=\"password\" name=\"confirm-password\" required placeholder=\"\\n  Password\\n\">\\n  <label class=\"AnimatedForm__textInputLabel \" for=\"confirmPassword\">\\n    \\n  Password\\n\\n  </label>\\n  <div class=\"AnimatedForm__errorMessage\"></div>\\n</fieldset>\\n\\n      \\n        \\n<fieldset class=\"AnimatedForm__field \">\\n  <button class=\"AnimatedForm__submitButton \" type=\"submit\">\\n    \\n  Continue\\n\\n  </button>\\n  <div class=\"AnimatedForm__submitStatus\">\\n    <div class=\"AnimatedForm__submitStatusIcon\"></div>\\n    <span class=\"AnimatedForm__submitStatusMessage\"></span>\\n  </div>\\n</fieldset>\\n\\n      \\n    </form>\\n    \\n      <div class=\"BottomText m-secondary-text login-bottom-text hideable\">\\n        <a class=\"BottomLink m-secondary-text\" href=\"/password?dest=https%3A%2F%2Fwww.reddit.com%2Fapi%2Fv1%2Fauthorize%3Fclient_id%3DYvlD1EHtX-HPWGAnlQiaIA%26response_type%3Dcode%26state%3DWelcome%26redirect_uri%3Dhttps%253A%252F%252Fwww.google.com%252F%26scope%3Dread\">Forgot password?</a>\\n      </div>\\n    \\n  \\n    </div>\\n  </div>\\n</div>\\n\\n\\n  \\n  \\n  \\n<div class=\"OnboardingStep Onboarding__step mode-2fa\" data-step=\"confirm-otp\">\\n  <div class=\"Step\">\\n    \\n    <div class=\"Art Step__art\"></div>\\n    \\n    \\n    <div class=\"Step__content\">\\n      \\n        \\n\\n  \\n\\n      \\n      \\n    <h1 class=\"Title m-no-margin \">\\n      Enter the 6-digit code from your authenticator app\\n    </h1>\\n    <p class=\"tfa-description\">\\n      \\n        You have two-factor authentication enabled on this account because you&#39;re awesome.\\n      \\n    </p>\\n\\n    <form id=\"confirm-otp-form\">\\n      \\n<fieldset class=\"AnimatedForm__field m-required otp \">\\n  \\n  \\n  <input id=\"confirmOtp\" class=\"AnimatedForm__textInput  \" type=\"tel\" name=\"confirm-otp\" pattern=\"[0-9]*\" autocomplete=\"off\" placeholder=\"\\n    6 digit code\\n  \" data-lpignore=\"true\">\\n  <label class=\"AnimatedForm__textInputLabel \" for=\"confirmOtp\">\\n    \\n    6 digit code\\n  \\n  </label>\\n  <div class=\"AnimatedForm__errorMessage\"></div>\\n</fieldset>\\n\\n      \\n        \\n<fieldset class=\"AnimatedForm__field switch-otp-type \">\\n  <input class=\"AnimatedForm__textInput\" type=\"hidden\" name=\"confirm-otp-type\" value=\"app\">\\n  \\n    <span class=\"BottomLink switch-otp-type\">\\n      \\n        use a backup code\\n    </span>\\n  \\n</fieldset>\\n\\n      \\n      \\n      \\n<fieldset class=\"AnimatedForm__field \">\\n  <button class=\"AnimatedForm__submitButton \" type=\"submit\">\\n    \\n        Check code\\n      \\n  </button>\\n  <div class=\"AnimatedForm__submitStatus\">\\n    <div class=\"AnimatedForm__submitStatusIcon\"></div>\\n    <span class=\"AnimatedForm__submitStatusMessage\"></span>\\n  </div>\\n</fieldset>\\n\\n      \\n    </form>\\n\\n    \\n      <div class=\"BottomText tfa-bottom-text\">\\n        \\n        <span class=\"BottomLink back-to-main\">Go back to account details</span>\\n        <span class=\"LinkSeparator\">\\xe2\\x80\\xa2</span>\\n        \\n        <a class=\"BottomLink\" target=\"_blank\" href=\"https://www.reddithelp.com/en/categories/using-reddit/your-reddit-account/how-set-two-factor-authentication\">Having trouble?</a>\\n      </div>\\n    \\n  \\n    </div>\\n  </div>\\n</div>\\n\\n\\n\\n</main>\\n\\n</div>\\n\\n\\n        <script>\\n            //<![CDATA\\n                \\n                window.___r = {\"config\": {\"tracker_endpoint\": \"https://events.reddit.com/v2\", \"tracker_key\": \"AccountManager3\", \"tracker_secret\": \"V2FpZ2FlMlZpZTJ3aWVyMWFpc2hhaGhvaHNoZWl3\"}};\\n            //]]>\\n        </script>\\n        \\n  <script src=\"https://accounts.google.com/gsi/client\" async defer></script>\\n  \\n    <script type=\"text/javascript\" src=\"https://www.redditstatic.com/accountmanager/vendor.33ac2d92b89a211b0483.js\"></script>\\n  \\n    <script type=\"text/javascript\" src=\"https://www.redditstatic.com/accountmanager/theme.5333e8893b6d5b30d258.js\"></script>\\n  \\n    <script type=\"text/javascript\" src=\"https://www.redditstatic.com/accountmanager/sentry.d25b8843def9b86b36ac.js\"></script>\\n  \\n    <script type=\"text/javascript\" src=\"https://www.redditstatic.com/accountmanager/login.378734f4dcb22b3962dc.js\"></script>\\n  \\n\\n    </body>\\n</html>'\n",
      "200\n"
     ]
    }
   ],
   "source": [
    "print(response.content)\n",
    "print(response.status_code)"
   ]
  },
  {
   "cell_type": "markdown",
   "id": "9c435bda",
   "metadata": {},
   "source": [
    "code=olqBuNpmlKTM_zqjyeb7ky4MLNH_tg#_"
   ]
  },
  {
   "cell_type": "code",
   "execution_count": null,
   "id": "f922b41b",
   "metadata": {},
   "outputs": [],
   "source": []
  }
 ],
 "metadata": {
  "kernelspec": {
   "display_name": "Python 3 (ipykernel)",
   "language": "python",
   "name": "python3"
  },
  "language_info": {
   "codemirror_mode": {
    "name": "ipython",
    "version": 3
   },
   "file_extension": ".py",
   "mimetype": "text/x-python",
   "name": "python",
   "nbconvert_exporter": "python",
   "pygments_lexer": "ipython3",
   "version": "3.11.1"
  }
 },
 "nbformat": 4,
 "nbformat_minor": 5
}
