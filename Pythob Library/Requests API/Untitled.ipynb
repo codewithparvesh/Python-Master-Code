{
 "cells": [
  {
   "cell_type": "code",
   "execution_count": 15,
   "id": "d1a39071",
   "metadata": {},
   "outputs": [
    {
     "name": "stdout",
     "output_type": "stream",
     "text": [
      "4\n"
     ]
    }
   ],
   "source": [
    "import requests\n",
    "\n",
    "r = requests.get('https://dog.ceo/api/breeds/list/all')\n",
    "d = r.json()\n",
    "# print(d)\n",
    "cnt = 0\n",
    "for i in d['message']['poodle']:\n",
    "    cnt+=1\n",
    "print(cnt)"
   ]
  },
  {
   "cell_type": "code",
   "execution_count": 38,
   "id": "406a7247",
   "metadata": {},
   "outputs": [
    {
     "name": "stdout",
     "output_type": "stream",
     "text": [
      "Premium Competitive Course\n",
      "C++ & Data Structures\n",
      "Aptitude for professionals\n",
      "Premium Data Science Course\n",
      "Premium Android Course\n",
      "Premium Machine Learning Course\n",
      "Data structures and Algorithms [C++/Java/Python]\n",
      "System Design Course\n",
      "Competitive Programmer\n",
      "Premium Web Dev Course\n",
      "Machine Learning\n",
      "Front End (React)\n",
      "Java & Data Structures\n",
      "Android Developer\n",
      "Web Dev (Full Stack)\n",
      "Interview Preparation\n",
      "Data Science\n",
      "Grokking the Operating Systems Interview\n",
      "Python & Web Dev (MERN)\n",
      "C++ & Web Dev (Node.js)\n",
      "Competitive Programming\n",
      "Android (Kotlin)\n",
      "Python & Data Structures\n",
      "Data Scientist\n",
      "Machine Learning\n",
      "Aptitude Preparation\n",
      "done\n"
     ]
    }
   ],
   "source": [
    "import requests\n",
    "\n",
    "r = requests.get('https://api.codingninjas.com/api/v3/courses')\n",
    "d = r.json()\n",
    "df = d['data']['courses']\n",
    "# print(df)\n",
    "for i in df:\n",
    "    if i['available_online'] == True:\n",
    "        print(i['title'])\n",
    "print(\"done\")"
   ]
  },
  {
   "cell_type": "code",
   "execution_count": 47,
   "id": "a5f289a8",
   "metadata": {},
   "outputs": [
    {
     "name": "stdout",
     "output_type": "stream",
     "text": [
      "Ready to solve fun, challenging problems?\n"
     ]
    }
   ],
   "source": [
    "import requests\n",
    "r = requests.get('https://api.codingninjas.com/api/v3/events?event_category=ALL_EVENTS&event_sub_category=All%20Time%20Favorites&tag_list=&offset=0&_ga=2.2271923.2081756976.1679381656-1777506293.1673423757')\n",
    "df = r.json()\n",
    "df\n",
    "ans = df['data']['events']\n",
    "if len(ans)==0 :\n",
    "    print('\"No Events !\"')\n",
    "else:\n",
    "    print(ans[0]['short_desc'])"
   ]
  },
  {
   "cell_type": "code",
   "execution_count": 14,
   "id": "bb84874b",
   "metadata": {},
   "outputs": [
    {
     "name": "stdout",
     "output_type": "stream",
     "text": [
      "Machine Learning\n"
     ]
    }
   ],
   "source": [
    "import requests\n",
    "r = requests.get('https://api.codingninjas.com/api/v3/courses', params = {'id': 19})\n",
    "d =r.json()\n",
    "ans = d['data']['courses']\n",
    "for i in ans:\n",
    "    i['id'] == 19 :\n",
    "        print(i['title'])\n",
    "# ans"
   ]
  },
  {
   "cell_type": "code",
   "execution_count": 24,
   "id": "3c89bc3c",
   "metadata": {},
   "outputs": [
    {
     "name": "stdout",
     "output_type": "stream",
     "text": [
      "81\n"
     ]
    }
   ],
   "source": [
    "import requests\n",
    "r = requests.get('https://api.openaq.org/v2/cities', params = {'country': 'AU'})\n",
    "d =r.json()\n",
    "d = d['results']\n",
    "print(len(d))"
   ]
  },
  {
   "cell_type": "code",
   "execution_count": 34,
   "id": "2740f1f9",
   "metadata": {},
   "outputs": [
    {
     "name": "stdout",
     "output_type": "stream",
     "text": [
      "Antwerpen\n",
      "Brabant wallon\n",
      "Brussels-Capital Region\n",
      "Flanders\n",
      "Hainaut\n"
     ]
    }
   ],
   "source": [
    "import requests\n",
    "r = requests.get('https://api.openaq.org/v1/cities', params ={'country' : 'BE'})\n",
    "d = r.json()\n",
    "d= d['results']\n",
    "d\n",
    "for i in d[:5]:\n",
    "    print(i['city'])"
   ]
  },
  {
   "cell_type": "code",
   "execution_count": 14,
   "id": "9a7f8f99",
   "metadata": {},
   "outputs": [
    {
     "name": "stdout",
     "output_type": "stream",
     "text": [
      "401\n",
      "https://api.openweathermap.org/data/2.5/weather?query=Hyderabad\n",
      "{'cod': 401, 'message': 'Invalid API key. Please see https://openweathermap.org/faq#error401 for more info.'}\n"
     ]
    }
   ],
   "source": [
    "import  requests\n",
    "r = requests.get('https://api.openweathermap.org/data/2.5/weather', params = {'query': 'Hyderabad'})\n",
    "print(r.status_code)\n",
    "print(r.url)\n",
    "d = r.json()\n",
    "print(d)"
   ]
  },
  {
   "cell_type": "code",
   "execution_count": 23,
   "id": "d0d683bf",
   "metadata": {},
   "outputs": [
    {
     "name": "stdout",
     "output_type": "stream",
     "text": [
      "401\n",
      "https://holidayapi.com/v1/holidays?api_key=8b2f4409-b60b-4a06-9b90-5c6cd26621c9&country=India\n",
      "{'status': 401, 'error': 'The API key parameter is required. For more information, please visit https://holidayapi.com/docs'}\n"
     ]
    }
   ],
   "source": [
    "import  requests\n",
    "r = requests.get('https://holidayapi.com/v1/holidays', params = {'api_key': '8b2f4409-b60b-4a06-9b90-5c6cd26621c9', 'country' :'India'})\n",
    "print(r.status_code)\n",
    "print(r.url)\n",
    "d = r.json()\n",
    "print(d)"
   ]
  },
  {
   "cell_type": "code",
   "execution_count": null,
   "id": "e96419dc",
   "metadata": {},
   "outputs": [],
   "source": []
  },
  {
   "cell_type": "code",
   "execution_count": null,
   "id": "d17a2bf6",
   "metadata": {},
   "outputs": [],
   "source": []
  },
  {
   "cell_type": "code",
   "execution_count": null,
   "id": "79ec65bd",
   "metadata": {},
   "outputs": [],
   "source": []
  },
  {
   "cell_type": "code",
   "execution_count": null,
   "id": "bae8d208",
   "metadata": {},
   "outputs": [],
   "source": []
  },
  {
   "cell_type": "code",
   "execution_count": 32,
   "id": "a9d9099f",
   "metadata": {},
   "outputs": [
    {
     "name": "stdout",
     "output_type": "stream",
     "text": [
      "404\n",
      "https://www.metaweather.com/api/location/search/?query=us\n",
      "{'status': 401, 'error': 'The API key parameter is required. For more information, please visit https://holidayapi.com/docs'}\n"
     ]
    }
   ],
   "source": [
    "import  requests\n",
    "r = requests.get('https://www.metaweather.com/api/location/search/', params = {'query' : 'us'})\n",
    "print(r.status_code)\n",
    "print(r.url)\n",
    "# d = r.json()\n",
    "print(d)"
   ]
  },
  {
   "cell_type": "code",
   "execution_count": null,
   "id": "5d6ccbb8",
   "metadata": {},
   "outputs": [],
   "source": []
  },
  {
   "cell_type": "code",
   "execution_count": 2,
   "id": "d11ff99a",
   "metadata": {},
   "outputs": [
    {
     "ename": "SyntaxError",
     "evalue": "invalid syntax (3463415624.py, line 2)",
     "output_type": "error",
     "traceback": [
      "\u001b[1;36m  Cell \u001b[1;32mIn[2], line 2\u001b[1;36m\u001b[0m\n\u001b[1;33m    res= = requests.get('https://api.data.gov.in/resource/af25d663-f064-43ea-b128-706515ac9bd3?api-key=579b464db66ec23bdd000001cdd3946e44ce4aad7209ff7b23ac571b&format=xml')\u001b[0m\n\u001b[1;37m         ^\u001b[0m\n\u001b[1;31mSyntaxError\u001b[0m\u001b[1;31m:\u001b[0m invalid syntax\n"
     ]
    }
   ],
   "source": [
    "import requests\n",
    "res= = requests.get('https://api.data.gov.in/resource/af25d663-f064-43ea-b128-706515ac9bd3?api-key=579b464db66ec23bdd000001cdd3946e44ce4aad7209ff7b23ac571b&format=xml')"
   ]
  },
  {
   "cell_type": "code",
   "execution_count": 5,
   "id": "636910c8",
   "metadata": {},
   "outputs": [],
   "source": [
    "import requests\n",
    "\n",
    "r = requests.get('https://api.data.gov.in/resource/af25d663-f064-43ea-b128-706515ac9bd3?api-key=579b464db66ec23bdd000001cdd3946e44ce4aad7209ff7b23ac571b&format=json')\n",
    "d = r.json()\n"
   ]
  },
  {
   "cell_type": "code",
   "execution_count": 9,
   "id": "07217872",
   "metadata": {},
   "outputs": [
    {
     "name": "stdout",
     "output_type": "stream",
     "text": [
      "https://api.data.gov.in/resource/af25d663-f064-43ea-b128-706515ac9bd3?api-key=579b464db66ec23bdd000001cdd3946e44ce4aad7209ff7b23ac571b&format=json\n"
     ]
    }
   ],
   "source": [
    "print(r.url)"
   ]
  },
  {
   "cell_type": "code",
   "execution_count": 33,
   "id": "982883ed",
   "metadata": {},
   "outputs": [
    {
     "name": "stdout",
     "output_type": "stream",
     "text": [
      "<class 'list'>\n",
      "state_name\n",
      "district\n",
      "sub_district\n"
     ]
    }
   ],
   "source": [
    "print(type(d['field']))\n",
    "cnt=0\n",
    "for i in d['field'][0]:\n",
    "    print(d['field'][cnt]['id'])\n",
    "    cnt+=1"
   ]
  },
  {
   "cell_type": "code",
   "execution_count": null,
   "id": "394be495",
   "metadata": {},
   "outputs": [],
   "source": []
  }
 ],
 "metadata": {
  "kernelspec": {
   "display_name": "Python 3 (ipykernel)",
   "language": "python",
   "name": "python3"
  },
  "language_info": {
   "codemirror_mode": {
    "name": "ipython",
    "version": 3
   },
   "file_extension": ".py",
   "mimetype": "text/x-python",
   "name": "python",
   "nbconvert_exporter": "python",
   "pygments_lexer": "ipython3",
   "version": "3.11.1"
  }
 },
 "nbformat": 4,
 "nbformat_minor": 5
}
