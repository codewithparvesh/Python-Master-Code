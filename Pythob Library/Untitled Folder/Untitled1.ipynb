{
 "cells": [
  {
   "cell_type": "code",
   "execution_count": 1,
   "id": "11bde5a0",
   "metadata": {},
   "outputs": [],
   "source": [
    "import requests\n",
    "from bs4 import BeautifulSoup\n",
    "from scrapingbee import ScrapingBeeClient\n",
    "import random\n",
    "client = ScrapingBeeClient(api_key='FRTO342GKFDGRU48DSYB8IPAQ6NOHBFCHA4RIFRGLPFSLLZ7ZF4ZOOP8BP39E754L8UG2YJ6MU0EU98U')\n",
    "lst =[]"
   ]
  },
  {
   "cell_type": "code",
   "execution_count": 2,
   "id": "efa6a27f",
   "metadata": {},
   "outputs": [],
   "source": [
    "url = \"https://www.google.com/search?q=site%3Ayoutube.com+openinapp.co&num=100\"\n"
   ]
  },
  {
   "cell_type": "code",
   "execution_count": 8,
   "id": "00f1edc4",
   "metadata": {},
   "outputs": [],
   "source": [
    "def scarp_fun(url):\n",
    "    res  = requests.get(url)\n",
    "#     print(res)\n",
    "    data =BeautifulSoup(res.text, 'html.parser')\n",
    "#     print(data)\n",
    "    link = data.find_all(\"a\")\n",
    "    for i in link:\n",
    "            temp = i['href']\n",
    "            if \"https://www.youtube.com\"  in temp:\n",
    "                lst.append(i[\"href\"][7:])\n",
    "    print(\"scarp_fun\", len(lst))"
   ]
  },
  {
   "cell_type": "code",
   "execution_count": 19,
   "id": "5b7bffbc",
   "metadata": {
    "scrolled": true
   },
   "outputs": [
    {
     "name": "stdout",
     "output_type": "stream",
     "text": [
      "scarp_fun 187\n"
     ]
    }
   ],
   "source": [
    "# url = proxy_fun()\n",
    "scarp_fun(url)"
   ]
  },
  {
   "cell_type": "code",
   "execution_count": 7,
   "id": "aeff1561",
   "metadata": {},
   "outputs": [
    {
     "name": "stdout",
     "output_type": "stream",
     "text": [
      "https://www.youtube.com/c/OpeninApp&sa=U&ved=2ahUKEwjJjc35ltn-AhXjuJUCHb6LDqMQtwJ6BAhjEAI&usg=AOvVaw3s3o8DbJzQdnhpjiZhRZYj\n",
      "https://www.youtube.com/hashtag/openinapp&sa=U&ved=2ahUKEwjJjc35ltn-AhXjuJUCHb6LDqMQFnoECGEQAg&usg=AOvVaw1gEmm4JLH4dT775UPIDuO0\n",
      "https://www.youtube.com/watch%3Fv%3D-GvsoRszRt4&sa=U&ved=2ahUKEwjJjc35ltn-AhXjuJUCHb6LDqMQtwJ6BAgGEAE&usg=AOvVaw06WGRCadPcwWfOHg3vmNOZ\n",
      "https://www.youtube.com/watch%3Fv%3D-GvsoRszRt4&sa=U&ved=2ahUKEwjJjc35ltn-AhXjuJUCHb6LDqMQuAJ6BAgGEAI&usg=AOvVaw3iTZCxMTU3HXisjg3dlVU6\n",
      "https://www.youtube.com/watch%3Fv%3DNjo_GPYbTvY&sa=U&ved=2ahUKEwjJjc35ltn-AhXjuJUCHb6LDqMQtwJ6BAgBEAE&usg=AOvVaw0X4915inRHW1k5oOnarcIY\n",
      "https://www.youtube.com/watch%3Fv%3DNjo_GPYbTvY&sa=U&ved=2ahUKEwjJjc35ltn-AhXjuJUCHb6LDqMQuAJ6BAgBEAI&usg=AOvVaw0slmDF-Cy80qPBmYkKq-XF\n",
      "https://www.youtube.com/watch%3Fv%3DzEd9C0eRwzY&sa=U&ved=2ahUKEwjJjc35ltn-AhXjuJUCHb6LDqMQtwJ6BAhEEAE&usg=AOvVaw3NgbMgBdm6m9MOiaofCTFC\n",
      "https://www.youtube.com/watch%3Fv%3DzEd9C0eRwzY&sa=U&ved=2ahUKEwjJjc35ltn-AhXjuJUCHb6LDqMQuAJ6BAhEEAI&usg=AOvVaw1G5-6c5dP1ohvTNsydVP8c\n",
      "https://www.youtube.com/post/UgkxkNMzcb3UCWm4sfl1TtmpUE9eRv_qGnSj&sa=U&ved=2ahUKEwjJjc35ltn-AhXjuJUCHb6LDqMQFnoECFwQAg&usg=AOvVaw2vzUgxz_yme12mPH0pap-p\n",
      "https://www.youtube.com/watch%3Fv%3Ddd02GPhhNhQ&sa=U&ved=2ahUKEwjJjc35ltn-AhXjuJUCHb6LDqMQtwJ6BAhUEAE&usg=AOvVaw2g7NB5-kVTPOz9MMuIKqB3\n",
      "https://www.youtube.com/watch%3Fv%3Ddd02GPhhNhQ&sa=U&ved=2ahUKEwjJjc35ltn-AhXjuJUCHb6LDqMQuAJ6BAhUEAI&usg=AOvVaw2Yg1noU-9V6lyHrOmElOfZ\n",
      "https://www.youtube.com/watch%3Fv%3DIKR81T-oQv0&sa=U&ved=2ahUKEwjJjc35ltn-AhXjuJUCHb6LDqMQtwJ6BAgEEAE&usg=AOvVaw0Za8vCd_Iyzrp1QM7WZnEU\n",
      "https://www.youtube.com/watch%3Fv%3DIKR81T-oQv0&sa=U&ved=2ahUKEwjJjc35ltn-AhXjuJUCHb6LDqMQuAJ6BAgEEAI&usg=AOvVaw0J4lOFd83P0Jp83ns1kVVD\n",
      "https://www.youtube.com/watch%3Fv%3D7zG7jspETQQ&sa=U&ved=2ahUKEwjJjc35ltn-AhXjuJUCHb6LDqMQtwJ6BAhBEAE&usg=AOvVaw0LmagFVUtRXATO6j8lOTi8\n",
      "https://www.youtube.com/watch%3Fv%3D7zG7jspETQQ&sa=U&ved=2ahUKEwjJjc35ltn-AhXjuJUCHb6LDqMQuAJ6BAhBEAI&usg=AOvVaw3x0_l2286nPHcbRq6psy8u\n",
      "https://www.youtube.com/watch%3Fv%3D37LWv9yHcis&sa=U&ved=2ahUKEwjJjc35ltn-AhXjuJUCHb6LDqMQtwJ6BAhREAE&usg=AOvVaw0KVA_4ygt02UfKVwSVXkaF\n",
      "https://www.youtube.com/watch%3Fv%3D37LWv9yHcis&sa=U&ved=2ahUKEwjJjc35ltn-AhXjuJUCHb6LDqMQuAJ6BAhREAI&usg=AOvVaw26cYM7wv0zQ2BeNzGImLj9\n",
      "https://www.youtube.com/watch%3Fv%3DXw869OeSXgA&sa=U&ved=2ahUKEwjJjc35ltn-AhXjuJUCHb6LDqMQtwJ6BAhTEAE&usg=AOvVaw1yrE4iX2U4ykyJf-FwtGSV\n",
      "https://www.youtube.com/watch%3Fv%3DXw869OeSXgA&sa=U&ved=2ahUKEwjJjc35ltn-AhXjuJUCHb6LDqMQuAJ6BAhTEAI&usg=AOvVaw0D8wVocTiSKQnTih-An6jV\n",
      "https://www.youtube.com/watch%3Fv%3DvDtPHIroccg&sa=U&ved=2ahUKEwjJjc35ltn-AhXjuJUCHb6LDqMQtwJ6BAhVEAE&usg=AOvVaw1Vq_xtWg1JFOFCqQktGU2Y\n",
      "https://www.youtube.com/watch%3Fv%3DvDtPHIroccg&sa=U&ved=2ahUKEwjJjc35ltn-AhXjuJUCHb6LDqMQuAJ6BAhVEAI&usg=AOvVaw0UAHU0MiAWylP6aZjyVHqT\n",
      "https://www.youtube.com/watch%3Fv%3Dfh9POV4ff3Q&sa=U&ved=2ahUKEwjJjc35ltn-AhXjuJUCHb6LDqMQtwJ6BAhZEAE&usg=AOvVaw3lza6yafYScef6vmE3tRAH\n",
      "https://www.youtube.com/watch%3Fv%3Dfh9POV4ff3Q&sa=U&ved=2ahUKEwjJjc35ltn-AhXjuJUCHb6LDqMQuAJ6BAhZEAI&usg=AOvVaw08inNpn9mVbaj99vMyJgoB\n",
      "https://www.youtube.com/watch%3Fv%3DkJ5HUswFIew&sa=U&ved=2ahUKEwjJjc35ltn-AhXjuJUCHb6LDqMQtwJ6BAhaEAE&usg=AOvVaw3zqxSzUNrm8HQ3_EdmZCvt\n",
      "https://www.youtube.com/watch%3Fv%3DkJ5HUswFIew&sa=U&ved=2ahUKEwjJjc35ltn-AhXjuJUCHb6LDqMQuAJ6BAhaEAI&usg=AOvVaw3z2Y6NC48OlguCVMsEkfex\n",
      "https://www.youtube.com/watch%3Fv%3Dt9NRJEnjxqw&sa=U&ved=2ahUKEwjJjc35ltn-AhXjuJUCHb6LDqMQtwJ6BAhWEAE&usg=AOvVaw1sjgvGxOS-H959C08HU5pr\n",
      "https://www.youtube.com/watch%3Fv%3Dt9NRJEnjxqw&sa=U&ved=2ahUKEwjJjc35ltn-AhXjuJUCHb6LDqMQuAJ6BAhWEAI&usg=AOvVaw36a3p2jp8OYWunXXBpQRH4\n",
      "https://www.youtube.com/watch%3Fv%3Dtr5tmXA4QYc&sa=U&ved=2ahUKEwjJjc35ltn-AhXjuJUCHb6LDqMQtwJ6BAgJEAE&usg=AOvVaw3vN7MO9bUm0_6KbKIG16Wf\n",
      "https://www.youtube.com/watch%3Fv%3Dtr5tmXA4QYc&sa=U&ved=2ahUKEwjJjc35ltn-AhXjuJUCHb6LDqMQuAJ6BAgJEAI&usg=AOvVaw3cSMfA_wP-XrDe6dAHHYuG\n",
      "https://www.youtube.com/watch%3Fv%3DcRcertZJGMM&sa=U&ved=2ahUKEwjJjc35ltn-AhXjuJUCHb6LDqMQtwJ6BAgjEAE&usg=AOvVaw0fQ-iyVQPZd2OoZBj-x8EL\n",
      "https://www.youtube.com/watch%3Fv%3DcRcertZJGMM&sa=U&ved=2ahUKEwjJjc35ltn-AhXjuJUCHb6LDqMQuAJ6BAgjEAI&usg=AOvVaw29f9sFLlNFyCtCRYC0T8-c\n",
      "https://www.youtube.com/c/TheCrazySk/community&sa=U&ved=2ahUKEwjJjc35ltn-AhXjuJUCHb6LDqMQFnoECF8QAg&usg=AOvVaw08XwTR7A7AYv3CLJM2TpB1\n",
      "https://www.youtube.com/watch%3Fv%3DdKcPPzP2hkg&sa=U&ved=2ahUKEwjJjc35ltn-AhXjuJUCHb6LDqMQtwJ6BAhFEAE&usg=AOvVaw3VUT_kQXaqTlJznzeARQj_\n",
      "https://www.youtube.com/watch%3Fv%3DdKcPPzP2hkg&sa=U&ved=2ahUKEwjJjc35ltn-AhXjuJUCHb6LDqMQuAJ6BAhFEAI&usg=AOvVaw1P5kDpmm9NHf5wktlK0Sj9\n",
      "https://www.youtube.com/watch%3Fv%3Dp3UMP38qXaU&sa=U&ved=2ahUKEwjJjc35ltn-AhXjuJUCHb6LDqMQtwJ6BAhQEAE&usg=AOvVaw1rokAzmSx504yCE_UkPQq9\n",
      "https://www.youtube.com/watch%3Fv%3Dp3UMP38qXaU&sa=U&ved=2ahUKEwjJjc35ltn-AhXjuJUCHb6LDqMQuAJ6BAhQEAI&usg=AOvVaw2z7pNCGE2C9JVN7MMB5Xgv\n",
      "https://www.youtube.com/watch%3Fv%3DVL8a9pvAjYE&sa=U&ved=2ahUKEwjJjc35ltn-AhXjuJUCHb6LDqMQtwJ6BAhSEAE&usg=AOvVaw07A2lC8eUgYyZgCJshlI4b\n",
      "https://www.youtube.com/watch%3Fv%3DVL8a9pvAjYE&sa=U&ved=2ahUKEwjJjc35ltn-AhXjuJUCHb6LDqMQuAJ6BAhSEAI&usg=AOvVaw0ow2hbDswA6dxcTgigu2dT\n",
      "https://www.youtube.com/watch%3Fv%3DEytM2bUzu5Q&sa=U&ved=2ahUKEwjJjc35ltn-AhXjuJUCHb6LDqMQtwJ6BAhPEAE&usg=AOvVaw0gb62GZJxJNo1lZdPIHlng\n",
      "https://www.youtube.com/watch%3Fv%3DEytM2bUzu5Q&sa=U&ved=2ahUKEwjJjc35ltn-AhXjuJUCHb6LDqMQuAJ6BAhPEAI&usg=AOvVaw35lqi-ntHRB1ujQujOTI1m\n",
      "https://www.youtube.com/watch%3Fv%3Dz71OkPJ0NVo&sa=U&ved=2ahUKEwjJjc35ltn-AhXjuJUCHb6LDqMQtwJ6BAhOEAE&usg=AOvVaw2u-38UXGPIkuAUfodZ6w2N\n",
      "https://www.youtube.com/watch%3Fv%3Dz71OkPJ0NVo&sa=U&ved=2ahUKEwjJjc35ltn-AhXjuJUCHb6LDqMQuAJ6BAhOEAI&usg=AOvVaw1MtWTqDsid3DpmUgoFOWEt\n",
      "https://www.youtube.com/watch%3Fv%3DNnXn2HeDwo4&sa=U&ved=2ahUKEwjJjc35ltn-AhXjuJUCHb6LDqMQtwJ6BAhYEAE&usg=AOvVaw2yWaQtEkhdXA7aVEvHrtjD\n",
      "https://www.youtube.com/watch%3Fv%3DNnXn2HeDwo4&sa=U&ved=2ahUKEwjJjc35ltn-AhXjuJUCHb6LDqMQuAJ6BAhYEAI&usg=AOvVaw1j_jK567AN9HXFA0f0ZEf7\n",
      "https://www.youtube.com/watch%3Fv%3DM5PZZq92Htw&sa=U&ved=2ahUKEwjJjc35ltn-AhXjuJUCHb6LDqMQtwJ6BAhLEAE&usg=AOvVaw3LR8bptDt2gF294WpMKqKW\n",
      "https://www.youtube.com/watch%3Fv%3DM5PZZq92Htw&sa=U&ved=2ahUKEwjJjc35ltn-AhXjuJUCHb6LDqMQuAJ6BAhLEAI&usg=AOvVaw3m2WcdgyMDebmG-nBi2m9h\n",
      "https://www.youtube.com/watch%3Fv%3DZhbzDcP6Bfg&sa=U&ved=2ahUKEwjJjc35ltn-AhXjuJUCHb6LDqMQtwJ6BAhMEAE&usg=AOvVaw1zdcpJzhuw6rn9tZ_pM3Im\n",
      "https://www.youtube.com/watch%3Fv%3DZhbzDcP6Bfg&sa=U&ved=2ahUKEwjJjc35ltn-AhXjuJUCHb6LDqMQuAJ6BAhMEAI&usg=AOvVaw3aTbxr3b7Q1OKhX90YVEQA\n",
      "https://www.youtube.com/watch%3Fv%3Dnqx2-vA3H-o&sa=U&ved=2ahUKEwjJjc35ltn-AhXjuJUCHb6LDqMQtwJ6BAhKEAE&usg=AOvVaw19m9ITlLF_UTp689rf9qcd\n",
      "https://www.youtube.com/watch%3Fv%3Dnqx2-vA3H-o&sa=U&ved=2ahUKEwjJjc35ltn-AhXjuJUCHb6LDqMQuAJ6BAhKEAI&usg=AOvVaw1Grn-PzFE5luHlPPats_zE\n",
      "https://www.youtube.com/watch%3Fv%3DpAdkHu0SSUw&sa=U&ved=2ahUKEwjJjc35ltn-AhXjuJUCHb6LDqMQtwJ6BAhXEAE&usg=AOvVaw3sZZc2ZRShzZT5uO1IMWYb\n",
      "https://www.youtube.com/watch%3Fv%3DpAdkHu0SSUw&sa=U&ved=2ahUKEwjJjc35ltn-AhXjuJUCHb6LDqMQuAJ6BAhXEAI&usg=AOvVaw1a7Rm-2mNtNoskifSRh_rR\n",
      "https://www.youtube.com/watch%3Fv%3DrylPZ0vYkL8&sa=U&ved=2ahUKEwjJjc35ltn-AhXjuJUCHb6LDqMQtwJ6BAhHEAE&usg=AOvVaw14hnFvrWUWoYlAjJY9w7mx\n",
      "https://www.youtube.com/watch%3Fv%3DrylPZ0vYkL8&sa=U&ved=2ahUKEwjJjc35ltn-AhXjuJUCHb6LDqMQuAJ6BAhHEAI&usg=AOvVaw2G-2kaVXsG_Mad7A0UQT_m\n",
      "https://www.youtube.com/watch%3Fv%3DR_rx1eeOPlg&sa=U&ved=2ahUKEwjJjc35ltn-AhXjuJUCHb6LDqMQtwJ6BAhGEAE&usg=AOvVaw1PDt8RyxAYiGnV8aC5I-S0\n",
      "https://www.youtube.com/watch%3Fv%3DR_rx1eeOPlg&sa=U&ved=2ahUKEwjJjc35ltn-AhXjuJUCHb6LDqMQuAJ6BAhGEAI&usg=AOvVaw0RHqEqWq2ZvtfW1j2DwYqg\n",
      "https://www.youtube.com/watch%3Fv%3Db_Hh0UQARoM&sa=U&ved=2ahUKEwjJjc35ltn-AhXjuJUCHb6LDqMQtwJ6BAhIEAE&usg=AOvVaw0PeA9uwN5WzBwo_HBtBvbT\n",
      "https://www.youtube.com/watch%3Fv%3Db_Hh0UQARoM&sa=U&ved=2ahUKEwjJjc35ltn-AhXjuJUCHb6LDqMQuAJ6BAhIEAI&usg=AOvVaw0MjvWhnYe2eUkFbchMH53L\n",
      "https://www.youtube.com/watch%3Fv%3D0oG4v-ZM-5s&sa=U&ved=2ahUKEwjJjc35ltn-AhXjuJUCHb6LDqMQtwJ6BAgPEAE&usg=AOvVaw1RwrOoMkKj1jw_Z1jk4aW3\n",
      "https://www.youtube.com/watch%3Fv%3D0oG4v-ZM-5s&sa=U&ved=2ahUKEwjJjc35ltn-AhXjuJUCHb6LDqMQuAJ6BAgPEAI&usg=AOvVaw2isTT1mS-6JQPF1iSQq4rM\n",
      "https://www.youtube.com/watch%3Fv%3Dv3kE9zbuF6I&sa=U&ved=2ahUKEwjJjc35ltn-AhXjuJUCHb6LDqMQtwJ6BAgeEAE&usg=AOvVaw0e3-2wA2I6RxKjhcQ-Yl8-\n",
      "https://www.youtube.com/watch%3Fv%3Dv3kE9zbuF6I&sa=U&ved=2ahUKEwjJjc35ltn-AhXjuJUCHb6LDqMQuAJ6BAgeEAI&usg=AOvVaw2V0dfHzbponCGjEiiZ8VLo\n",
      "https://www.youtube.com/watch%3Fv%3DXM7EBaAT5BI&sa=U&ved=2ahUKEwjJjc35ltn-AhXjuJUCHb6LDqMQtwJ6BAglEAE&usg=AOvVaw3Qi_1qEXE0Fz8xb4FDUUar\n",
      "https://www.youtube.com/watch%3Fv%3DXM7EBaAT5BI&sa=U&ved=2ahUKEwjJjc35ltn-AhXjuJUCHb6LDqMQuAJ6BAglEAI&usg=AOvVaw0Y_zNe59vdOMshz39NxttT\n",
      "https://www.youtube.com/channel/UCT2xzagsBVtStUCA2ulvKmQ/community%3Flc%3DUgzpXE3jKdldQ_bhIC54AaABAg%26lb%3DUgkxuuJyjG7qVX8jYgH-kbvM_OOzlSHyAGx2&sa=U&ved=2ahUKEwjJjc35ltn-AhXjuJUCHb6LDqMQFnoECGIQAg&usg=AOvVaw1foEussTeYaDyL63P9Itqg\n",
      "https://www.youtube.com/watch%3Fv%3DAazVsNiE_7o&sa=U&ved=2ahUKEwjJjc35ltn-AhXjuJUCHb6LDqMQtwJ6BAhAEAE&usg=AOvVaw0T1ej19xru_ONfCNp-KhFI\n",
      "https://www.youtube.com/watch%3Fv%3DAazVsNiE_7o&sa=U&ved=2ahUKEwjJjc35ltn-AhXjuJUCHb6LDqMQuAJ6BAhAEAI&usg=AOvVaw1cE87A_fWyEp_00Fo9Pu4k\n",
      "https://www.youtube.com/watch%3Fv%3DD0mJCh-1VKo&sa=U&ved=2ahUKEwjJjc35ltn-AhXjuJUCHb6LDqMQtwJ6BAhCEAE&usg=AOvVaw1iQaXuxzIbfnNxJbl2g3Wk\n",
      "https://www.youtube.com/watch%3Fv%3DD0mJCh-1VKo&sa=U&ved=2ahUKEwjJjc35ltn-AhXjuJUCHb6LDqMQuAJ6BAhCEAI&usg=AOvVaw0atAssVLIvvanPoixz3GSq\n",
      "https://www.youtube.com/watch%3Fv%3Dc1LCHUxLLSw&sa=U&ved=2ahUKEwjJjc35ltn-AhXjuJUCHb6LDqMQtwJ6BAg_EAE&usg=AOvVaw3iaRPTqQ3mGkW2JMzU77YH\n",
      "https://www.youtube.com/watch%3Fv%3Dc1LCHUxLLSw&sa=U&ved=2ahUKEwjJjc35ltn-AhXjuJUCHb6LDqMQuAJ6BAg_EAI&usg=AOvVaw14LQ_CxX_zb8dCuaIorlMW\n",
      "https://www.youtube.com/watch%3Fv%3DUJQ3J6zU_gs&sa=U&ved=2ahUKEwjJjc35ltn-AhXjuJUCHb6LDqMQtwJ6BAg-EAE&usg=AOvVaw1jVQdLjsEKxeKfL8Fv65Fh\n",
      "https://www.youtube.com/watch%3Fv%3DUJQ3J6zU_gs&sa=U&ved=2ahUKEwjJjc35ltn-AhXjuJUCHb6LDqMQuAJ6BAg-EAI&usg=AOvVaw0On7_09JaeaJZgzSRqzt_W\n",
      "https://www.youtube.com/watch%3Fv%3D4MbFU2DeLDw&sa=U&ved=2ahUKEwjJjc35ltn-AhXjuJUCHb6LDqMQtwJ6BAg9EAE&usg=AOvVaw1SKPq7hqtqKU6eHWRM5VIX\n",
      "https://www.youtube.com/watch%3Fv%3D4MbFU2DeLDw&sa=U&ved=2ahUKEwjJjc35ltn-AhXjuJUCHb6LDqMQuAJ6BAg9EAI&usg=AOvVaw1_gsRvq5Ldo_Ydj_vVPSmU\n",
      "https://www.youtube.com/watch%3Fv%3DjJ6nxc7BgOU&sa=U&ved=2ahUKEwjJjc35ltn-AhXjuJUCHb6LDqMQtwJ6BAg8EAE&usg=AOvVaw1VF-vVXzxxNCU3xi97sWzO\n",
      "https://www.youtube.com/watch%3Fv%3DjJ6nxc7BgOU&sa=U&ved=2ahUKEwjJjc35ltn-AhXjuJUCHb6LDqMQuAJ6BAg8EAI&usg=AOvVaw1-7P1PeEsstNEUDB7yhrb3\n",
      "https://www.youtube.com/c/SavvyFernweh/community&sa=U&ved=2ahUKEwjJjc35ltn-AhXjuJUCHb6LDqMQFnoECGAQAg&usg=AOvVaw1LYNhWj6DTSXlxWJuxlLlI\n",
      "https://www.youtube.com/watch%3Fv%3Dx0tZ5y_kFiQ&sa=U&ved=2ahUKEwjJjc35ltn-AhXjuJUCHb6LDqMQtwJ6BAg6EAE&usg=AOvVaw2kMlcAYZzJandbD7dvlZat\n",
      "https://www.youtube.com/watch%3Fv%3Dx0tZ5y_kFiQ&sa=U&ved=2ahUKEwjJjc35ltn-AhXjuJUCHb6LDqMQuAJ6BAg6EAI&usg=AOvVaw0OroENX6WgwdCLllkRkYBM\n",
      "https://www.youtube.com/watch%3Fv%3D63iMcF0vQtY&sa=U&ved=2ahUKEwjJjc35ltn-AhXjuJUCHb6LDqMQtwJ6BAg5EAE&usg=AOvVaw1d7lYpMd7FNAMtqc2QCcpT\n",
      "https://www.youtube.com/watch%3Fv%3D63iMcF0vQtY&sa=U&ved=2ahUKEwjJjc35ltn-AhXjuJUCHb6LDqMQuAJ6BAg5EAI&usg=AOvVaw1O3ECZ-Kce3v4cO9f-9aaw\n",
      "https://www.youtube.com/watch%3Fv%3DJIe70gSLsOU&sa=U&ved=2ahUKEwjJjc35ltn-AhXjuJUCHb6LDqMQtwJ6BAg3EAE&usg=AOvVaw2MPfMZDjEARC1RNWUs1GVK\n",
      "https://www.youtube.com/watch%3Fv%3DJIe70gSLsOU&sa=U&ved=2ahUKEwjJjc35ltn-AhXjuJUCHb6LDqMQuAJ6BAg3EAI&usg=AOvVaw2Fn1vUp-e7DVRMPm2X-EbJ\n",
      "https://www.youtube.com/watch%3Fv%3D1PgeSzPnZ0g&sa=U&ved=2ahUKEwjJjc35ltn-AhXjuJUCHb6LDqMQtwJ6BAg4EAE&usg=AOvVaw1CLl0ghq7Qtr2yfHqnh90e\n",
      "https://www.youtube.com/watch%3Fv%3D1PgeSzPnZ0g&sa=U&ved=2ahUKEwjJjc35ltn-AhXjuJUCHb6LDqMQuAJ6BAg4EAI&usg=AOvVaw0swl0uoHS2oqKOBN1vAvc6\n",
      "https://www.youtube.com/watch%3Fv%3D7uEay1WdSSc&sa=U&ved=2ahUKEwjJjc35ltn-AhXjuJUCHb6LDqMQtwJ6BAg2EAE&usg=AOvVaw3891nYO2SnZED8VcXTeenc\n",
      "https://www.youtube.com/watch%3Fv%3D7uEay1WdSSc&sa=U&ved=2ahUKEwjJjc35ltn-AhXjuJUCHb6LDqMQuAJ6BAg2EAI&usg=AOvVaw0sWzS2V7yal8lAbnOis_mA\n",
      "https://www.youtube.com/watch%3Fv%3D4_GWDIEV-xk&sa=U&ved=2ahUKEwjJjc35ltn-AhXjuJUCHb6LDqMQtwJ6BAhNEAE&usg=AOvVaw3w1pYSNfkrH8txB03s7Qof\n",
      "https://www.youtube.com/watch%3Fv%3D4_GWDIEV-xk&sa=U&ved=2ahUKEwjJjc35ltn-AhXjuJUCHb6LDqMQuAJ6BAhNEAI&usg=AOvVaw0uIroCCnUwQYMwi_RGrGm3\n",
      "https://www.youtube.com/watch%3Fv%3D4MegZm_urLY&sa=U&ved=2ahUKEwjJjc35ltn-AhXjuJUCHb6LDqMQtwJ6BAg1EAE&usg=AOvVaw3wEDn4YrqiAzJfdDzZtNAI\n",
      "https://www.youtube.com/watch%3Fv%3D4MegZm_urLY&sa=U&ved=2ahUKEwjJjc35ltn-AhXjuJUCHb6LDqMQuAJ6BAg1EAI&usg=AOvVaw0Quvi4Ql1IIUpbCdcvMejh\n",
      "https://www.youtube.com/watch%3Fv%3DvBeaIk5LREM&sa=U&ved=2ahUKEwjJjc35ltn-AhXjuJUCHb6LDqMQtwJ6BAgzEAE&usg=AOvVaw3A_2ewC6AUS1x5xTtTf-Ea\n",
      "https://www.youtube.com/watch%3Fv%3DvBeaIk5LREM&sa=U&ved=2ahUKEwjJjc35ltn-AhXjuJUCHb6LDqMQuAJ6BAgzEAI&usg=AOvVaw1mF7eCQQ9gCmUdE5jvhkL6\n",
      "https://www.youtube.com/watch%3Fv%3Dq9ozeMNc9M0&sa=U&ved=2ahUKEwjJjc35ltn-AhXjuJUCHb6LDqMQtwJ6BAgyEAE&usg=AOvVaw1eqEbKuvP7IIGeCdI8Mn5i\n",
      "https://www.youtube.com/watch%3Fv%3Dq9ozeMNc9M0&sa=U&ved=2ahUKEwjJjc35ltn-AhXjuJUCHb6LDqMQuAJ6BAgyEAI&usg=AOvVaw3l9zF1HcAqlYKNd1_60RZz\n",
      "https://www.youtube.com/watch%3Fv%3DvOo-VyPIiW0&sa=U&ved=2ahUKEwjJjc35ltn-AhXjuJUCHb6LDqMQtwJ6BAgvEAE&usg=AOvVaw0isKIUdbHIAYAcxFP56GZE\n",
      "https://www.youtube.com/watch%3Fv%3DvOo-VyPIiW0&sa=U&ved=2ahUKEwjJjc35ltn-AhXjuJUCHb6LDqMQuAJ6BAgvEAI&usg=AOvVaw0eMJ0gIQ4iaPEQBM40LN2z\n",
      "https://www.youtube.com/watch%3Fv%3DHPZBkyTMpAM&sa=U&ved=2ahUKEwjJjc35ltn-AhXjuJUCHb6LDqMQtwJ6BAgwEAE&usg=AOvVaw3-gFuhDmBPOho2ZYJVU2Xj\n",
      "https://www.youtube.com/watch%3Fv%3DHPZBkyTMpAM&sa=U&ved=2ahUKEwjJjc35ltn-AhXjuJUCHb6LDqMQuAJ6BAgwEAI&usg=AOvVaw2xwuTIdp4aUTF3vUnHiK6n\n",
      "https://www.youtube.com/watch%3Fv%3DelCuolQ-BPk&sa=U&ved=2ahUKEwjJjc35ltn-AhXjuJUCHb6LDqMQtwJ6BAgxEAE&usg=AOvVaw1MBV_-pVwDTwQkp_tOUyzt\n",
      "https://www.youtube.com/watch%3Fv%3DelCuolQ-BPk&sa=U&ved=2ahUKEwjJjc35ltn-AhXjuJUCHb6LDqMQuAJ6BAgxEAI&usg=AOvVaw3_GLOxJJhtz4VpjRU2ZwlS\n",
      "https://www.youtube.com/watch%3Fv%3DcSwMBPFQzZ8&sa=U&ved=2ahUKEwjJjc35ltn-AhXjuJUCHb6LDqMQtwJ6BAhJEAE&usg=AOvVaw3SFArR5ZkGQuXIxZBPTAy1\n",
      "https://www.youtube.com/watch%3Fv%3DcSwMBPFQzZ8&sa=U&ved=2ahUKEwjJjc35ltn-AhXjuJUCHb6LDqMQuAJ6BAhJEAI&usg=AOvVaw0EWOhCzt61q5-m9MleoJw_\n",
      "https://www.youtube.com/watch%3Fv%3DFrAZs39GgKc&sa=U&ved=2ahUKEwjJjc35ltn-AhXjuJUCHb6LDqMQtwJ6BAguEAE&usg=AOvVaw1s_ouLTD-fSK4xvu-tDoPv\n",
      "https://www.youtube.com/watch%3Fv%3DFrAZs39GgKc&sa=U&ved=2ahUKEwjJjc35ltn-AhXjuJUCHb6LDqMQuAJ6BAguEAI&usg=AOvVaw1IsVRkQFhGdSVjDae8CcSa\n",
      "https://www.youtube.com/watch%3Fv%3DfQrNsIiNeTw&sa=U&ved=2ahUKEwjJjc35ltn-AhXjuJUCHb6LDqMQtwJ6BAgrEAE&usg=AOvVaw2IYKa1MN2d13ENC4EZwQ7H\n",
      "https://www.youtube.com/watch%3Fv%3DfQrNsIiNeTw&sa=U&ved=2ahUKEwjJjc35ltn-AhXjuJUCHb6LDqMQuAJ6BAgrEAI&usg=AOvVaw1i6uYqZD-C8PTJXD0xiEWa\n",
      "https://www.youtube.com/watch%3Fv%3DSbcwlVEL8Es&sa=U&ved=2ahUKEwjJjc35ltn-AhXjuJUCHb6LDqMQtwJ6BAgqEAE&usg=AOvVaw2ClWc8X99KW6iazxqDvze0\n",
      "https://www.youtube.com/watch%3Fv%3DSbcwlVEL8Es&sa=U&ved=2ahUKEwjJjc35ltn-AhXjuJUCHb6LDqMQuAJ6BAgqEAI&usg=AOvVaw33_3QmAM0oTKlsfiolcWqn\n",
      "https://www.youtube.com/watch%3Fv%3DyF6OgrKzPNs&sa=U&ved=2ahUKEwjJjc35ltn-AhXjuJUCHb6LDqMQtwJ6BAgoEAE&usg=AOvVaw3hoESFaj7PYJhNj83k5DN_\n",
      "https://www.youtube.com/watch%3Fv%3DyF6OgrKzPNs&sa=U&ved=2ahUKEwjJjc35ltn-AhXjuJUCHb6LDqMQuAJ6BAgoEAI&usg=AOvVaw0_j-v_XR-Gz5dKujIiFmnr\n",
      "https://www.youtube.com/watch%3Fv%3DfhoEX4cDxgM&sa=U&ved=2ahUKEwjJjc35ltn-AhXjuJUCHb6LDqMQtwJ6BAgpEAE&usg=AOvVaw1nn3UfXvcSmT1Mbz6PL6X2\n",
      "https://www.youtube.com/watch%3Fv%3DfhoEX4cDxgM&sa=U&ved=2ahUKEwjJjc35ltn-AhXjuJUCHb6LDqMQuAJ6BAgpEAI&usg=AOvVaw1-8HYs1mNwyg-satHpBV5R\n",
      "https://www.youtube.com/watch%3Fv%3DwlbupzFpvEY&sa=U&ved=2ahUKEwjJjc35ltn-AhXjuJUCHb6LDqMQtwJ6BAgnEAE&usg=AOvVaw0fMkRzDDEA2B4ZUwMPve0t\n",
      "https://www.youtube.com/watch%3Fv%3DwlbupzFpvEY&sa=U&ved=2ahUKEwjJjc35ltn-AhXjuJUCHb6LDqMQuAJ6BAgnEAI&usg=AOvVaw1rfWQzWdmCHAtmdJnRRdDP\n",
      "https://www.youtube.com/watch%3Fv%3DXjIJbjMAa8M&sa=U&ved=2ahUKEwjJjc35ltn-AhXjuJUCHb6LDqMQtwJ6BAgmEAE&usg=AOvVaw1bgNs5YVDRLKbZilViMzGr\n",
      "https://www.youtube.com/watch%3Fv%3DXjIJbjMAa8M&sa=U&ved=2ahUKEwjJjc35ltn-AhXjuJUCHb6LDqMQuAJ6BAgmEAI&usg=AOvVaw2ll16Q70nM2ZGEDgQOxjVD\n",
      "https://www.youtube.com/watch%3Fv%3DcwpZBgQgugk&sa=U&ved=2ahUKEwjJjc35ltn-AhXjuJUCHb6LDqMQtwJ6BAgREAE&usg=AOvVaw0SySwPZE7twcYUpRLuutM1\n",
      "https://www.youtube.com/watch%3Fv%3DcwpZBgQgugk&sa=U&ved=2ahUKEwjJjc35ltn-AhXjuJUCHb6LDqMQuAJ6BAgREAI&usg=AOvVaw13L_48FWJEdQRY22LEfP8C\n",
      "https://www.youtube.com/watch%3Fv%3DGcFSTGsXxkE&sa=U&ved=2ahUKEwjJjc35ltn-AhXjuJUCHb6LDqMQtwJ6BAgdEAE&usg=AOvVaw0AeqezPcc0-irT1RmRFY9G\n",
      "https://www.youtube.com/watch%3Fv%3DGcFSTGsXxkE&sa=U&ved=2ahUKEwjJjc35ltn-AhXjuJUCHb6LDqMQuAJ6BAgdEAI&usg=AOvVaw2QN6CgG10uAOgvNw428idF\n",
      "https://www.youtube.com/watch%3Fv%3DaKFYFl14wJk&sa=U&ved=2ahUKEwjJjc35ltn-AhXjuJUCHb6LDqMQtwJ6BAghEAE&usg=AOvVaw1Unn676f10K21VN1nCXMmC\n",
      "https://www.youtube.com/watch%3Fv%3DaKFYFl14wJk&sa=U&ved=2ahUKEwjJjc35ltn-AhXjuJUCHb6LDqMQuAJ6BAghEAI&usg=AOvVaw1k9q6dhE8l90WNBlbU9XJj\n",
      "https://www.youtube.com/watch%3Fv%3DQ6u432rL2Ow&sa=U&ved=2ahUKEwjJjc35ltn-AhXjuJUCHb6LDqMQtwJ6BAgiEAE&usg=AOvVaw1qqeSZai9vOq-v5DXs9inE\n",
      "https://www.youtube.com/watch%3Fv%3DQ6u432rL2Ow&sa=U&ved=2ahUKEwjJjc35ltn-AhXjuJUCHb6LDqMQuAJ6BAgiEAI&usg=AOvVaw17t6tUaFCpD5SBoFAC2IGy\n",
      "https://www.youtube.com/watch%3Fv%3Dx5xqxOTBkEQ&sa=U&ved=2ahUKEwjJjc35ltn-AhXjuJUCHb6LDqMQtwJ6BAgkEAE&usg=AOvVaw2_mKXjpYe_2_9XHD7V1E5V\n",
      "https://www.youtube.com/watch%3Fv%3Dx5xqxOTBkEQ&sa=U&ved=2ahUKEwjJjc35ltn-AhXjuJUCHb6LDqMQuAJ6BAgkEAI&usg=AOvVaw0LsRqkor9jmkewPlTFgMxO\n",
      "https://www.youtube.com/watch%3Fv%3DGe8wWwOR8RY&sa=U&ved=2ahUKEwjJjc35ltn-AhXjuJUCHb6LDqMQtwJ6BAgfEAE&usg=AOvVaw1DNWyuYai86x0ffnD5l5l0\n",
      "https://www.youtube.com/watch%3Fv%3DGe8wWwOR8RY&sa=U&ved=2ahUKEwjJjc35ltn-AhXjuJUCHb6LDqMQuAJ6BAgfEAI&usg=AOvVaw0-j7a-3eSQdCFIV_DIGltJ\n",
      "https://www.youtube.com/watch%3Fv%3DAwfNPqTVxeA&sa=U&ved=2ahUKEwjJjc35ltn-AhXjuJUCHb6LDqMQtwJ6BAgtEAE&usg=AOvVaw0R5TXj2MuVEhIznvGWReta\n",
      "https://www.youtube.com/watch%3Fv%3DAwfNPqTVxeA&sa=U&ved=2ahUKEwjJjc35ltn-AhXjuJUCHb6LDqMQuAJ6BAgtEAI&usg=AOvVaw0iG7XLR4MfA-v7OJfpkS9G\n",
      "https://www.youtube.com/watch%3Fv%3DaEP-EqlOO98&sa=U&ved=2ahUKEwjJjc35ltn-AhXjuJUCHb6LDqMQtwJ6BAggEAE&usg=AOvVaw3LzQZEFrUOYafMw0a4dHxw\n",
      "https://www.youtube.com/watch%3Fv%3DaEP-EqlOO98&sa=U&ved=2ahUKEwjJjc35ltn-AhXjuJUCHb6LDqMQuAJ6BAggEAI&usg=AOvVaw2jbZli8sTFSRqDQULjuMyO\n",
      "https://www.youtube.com/watch%3Fv%3Dk7fNwaBSTM0&sa=U&ved=2ahUKEwjJjc35ltn-AhXjuJUCHb6LDqMQtwJ6BAhDEAE&usg=AOvVaw2iFTbedQAZRSPdK4TAF5my\n",
      "https://www.youtube.com/watch%3Fv%3Dk7fNwaBSTM0&sa=U&ved=2ahUKEwjJjc35ltn-AhXjuJUCHb6LDqMQuAJ6BAhDEAI&usg=AOvVaw3jlw-Umuz1Kc8_V9FQJOoQ\n",
      "https://www.youtube.com/watch%3Fv%3Dx8Pf8TxyLs4&sa=U&ved=2ahUKEwjJjc35ltn-AhXjuJUCHb6LDqMQtwJ6BAgcEAE&usg=AOvVaw1_Le9uf0cZ-BSvPY3jhzj5\n",
      "https://www.youtube.com/watch%3Fv%3Dx8Pf8TxyLs4&sa=U&ved=2ahUKEwjJjc35ltn-AhXjuJUCHb6LDqMQuAJ6BAgcEAI&usg=AOvVaw1pqSt7-9m9fZ1dQwOh5biG\n",
      "https://www.youtube.com/watch%3Fv%3D8oGg1xEsv8A&sa=U&ved=2ahUKEwjJjc35ltn-AhXjuJUCHb6LDqMQtwJ6BAgbEAE&usg=AOvVaw1APTzHgCx0JeD59qud_MZY\n",
      "https://www.youtube.com/watch%3Fv%3D8oGg1xEsv8A&sa=U&ved=2ahUKEwjJjc35ltn-AhXjuJUCHb6LDqMQuAJ6BAgbEAI&usg=AOvVaw2abtg0flPbrNQNTZMWllL1\n",
      "https://www.youtube.com/watch%3Fv%3DtSxX3XC3Gcc&sa=U&ved=2ahUKEwjJjc35ltn-AhXjuJUCHb6LDqMQtwJ6BAgZEAE&usg=AOvVaw2AHp7YlCg9u4C3KAQAobUB\n",
      "https://www.youtube.com/watch%3Fv%3DtSxX3XC3Gcc&sa=U&ved=2ahUKEwjJjc35ltn-AhXjuJUCHb6LDqMQuAJ6BAgZEAI&usg=AOvVaw0qypiGlmgqMCv-IWFR19A3\n",
      "https://www.youtube.com/watch%3Fv%3Dqw11zwL53_w&sa=U&ved=2ahUKEwjJjc35ltn-AhXjuJUCHb6LDqMQtwJ6BAgaEAE&usg=AOvVaw2On5HQXs_gkDwSiFfGThGd\n",
      "https://www.youtube.com/watch%3Fv%3Dqw11zwL53_w&sa=U&ved=2ahUKEwjJjc35ltn-AhXjuJUCHb6LDqMQuAJ6BAgaEAI&usg=AOvVaw3SkjbTRxm5lpt4qZiFAJWB\n",
      "https://www.youtube.com/watch%3Fv%3Dd97-kQJIwr4&sa=U&ved=2ahUKEwjJjc35ltn-AhXjuJUCHb6LDqMQtwJ6BAgXEAE&usg=AOvVaw1mQLP91OMMsnjZ9WkyD03F\n",
      "https://www.youtube.com/watch%3Fv%3Dd97-kQJIwr4&sa=U&ved=2ahUKEwjJjc35ltn-AhXjuJUCHb6LDqMQuAJ6BAgXEAI&usg=AOvVaw2kZYRxwEZXlj11o2kVrw7c\n",
      "https://www.youtube.com/watch%3Fv%3Dho24ZFU4U7c&sa=U&ved=2ahUKEwjJjc35ltn-AhXjuJUCHb6LDqMQtwJ6BAgVEAE&usg=AOvVaw37ftVquI7lJbKdt9acSvIY\n",
      "https://www.youtube.com/watch%3Fv%3Dho24ZFU4U7c&sa=U&ved=2ahUKEwjJjc35ltn-AhXjuJUCHb6LDqMQuAJ6BAgVEAI&usg=AOvVaw2aAUB9ZjjOrYQjG_SpuCHB\n",
      "https://www.youtube.com/watch%3Fv%3D-C79-g0HxVE&sa=U&ved=2ahUKEwjJjc35ltn-AhXjuJUCHb6LDqMQtwJ6BAgYEAE&usg=AOvVaw1REEX47PVim9Ua6kpPn2dn\n",
      "https://www.youtube.com/watch%3Fv%3D-C79-g0HxVE&sa=U&ved=2ahUKEwjJjc35ltn-AhXjuJUCHb6LDqMQuAJ6BAgYEAI&usg=AOvVaw1pVPpZymPwAgNYP8F33zaH\n",
      "https://www.youtube.com/watch%3Fv%3DcfV5XMtxao4&sa=U&ved=2ahUKEwjJjc35ltn-AhXjuJUCHb6LDqMQtwJ6BAgWEAE&usg=AOvVaw3-Ggu_Ld1J8XeAywADWCOy\n",
      "https://www.youtube.com/watch%3Fv%3DcfV5XMtxao4&sa=U&ved=2ahUKEwjJjc35ltn-AhXjuJUCHb6LDqMQuAJ6BAgWEAI&usg=AOvVaw1UGyfZW_e-F1DIlY46G8z5\n",
      "https://www.youtube.com/watch%3Fv%3DhAHMfUgd_Dg&sa=U&ved=2ahUKEwjJjc35ltn-AhXjuJUCHb6LDqMQtwJ6BAgSEAE&usg=AOvVaw23KA0sinEJfUqm0N5JJuc2\n",
      "https://www.youtube.com/watch%3Fv%3DhAHMfUgd_Dg&sa=U&ved=2ahUKEwjJjc35ltn-AhXjuJUCHb6LDqMQuAJ6BAgSEAI&usg=AOvVaw0_j2UpGBvDKehBrT2HHTp4\n",
      "https://www.youtube.com/watch%3Fv%3D0Vf-76Qc3Qs&sa=U&ved=2ahUKEwjJjc35ltn-AhXjuJUCHb6LDqMQtwJ6BAgUEAE&usg=AOvVaw2yHcUJvL9atsf7GrXNSZ_I\n",
      "https://www.youtube.com/watch%3Fv%3D0Vf-76Qc3Qs&sa=U&ved=2ahUKEwjJjc35ltn-AhXjuJUCHb6LDqMQuAJ6BAgUEAI&usg=AOvVaw1YDhSFIk1Kw-yxl0YNW5c3\n",
      "https://www.youtube.com/watch%3Fv%3DR-jrv5qGsaY&sa=U&ved=2ahUKEwjJjc35ltn-AhXjuJUCHb6LDqMQtwJ6BAgTEAE&usg=AOvVaw1e-CYnS-OgRAsQDSope_su\n",
      "https://www.youtube.com/watch%3Fv%3DR-jrv5qGsaY&sa=U&ved=2ahUKEwjJjc35ltn-AhXjuJUCHb6LDqMQuAJ6BAgTEAI&usg=AOvVaw3x8Wbp1-zGQDCzUicebQqJ\n",
      "https://www.youtube.com/watch%3Fv%3D1Y4yGxF5ge0&sa=U&ved=2ahUKEwjJjc35ltn-AhXjuJUCHb6LDqMQtwJ6BAg7EAE&usg=AOvVaw0MdJy6i2y9Bbeoy-DZyowt\n",
      "https://www.youtube.com/watch%3Fv%3D1Y4yGxF5ge0&sa=U&ved=2ahUKEwjJjc35ltn-AhXjuJUCHb6LDqMQuAJ6BAg7EAI&usg=AOvVaw0licoT4ResW-dg9IicB-r_\n",
      "https://www.youtube.com/c/TradingwithGroww&sa=U&ved=2ahUKEwjJjc35ltn-AhXjuJUCHb6LDqMQtwJ6BAhbEAI&usg=AOvVaw07B8B0C024s8F6NvRgQvK3\n",
      "https://www.youtube.com/watch%3Fv%3DNkKbKlN9Jfo&sa=U&ved=2ahUKEwjJjc35ltn-AhXjuJUCHb6LDqMQtwJ6BAgLEAE&usg=AOvVaw2UzeBC_GcWuFzrt6XeTpIN\n",
      "https://www.youtube.com/watch%3Fv%3DNkKbKlN9Jfo&sa=U&ved=2ahUKEwjJjc35ltn-AhXjuJUCHb6LDqMQuAJ6BAgLEAI&usg=AOvVaw1sLjKe2BBNf11VfTIppAbE\n",
      "https://www.youtube.com/watch%3Fv%3DQ84PteAKy8M&sa=U&ved=2ahUKEwjJjc35ltn-AhXjuJUCHb6LDqMQtwJ6BAgMEAE&usg=AOvVaw3UjrYS3BxxvWDWpmijlBFO\n",
      "https://www.youtube.com/watch%3Fv%3DQ84PteAKy8M&sa=U&ved=2ahUKEwjJjc35ltn-AhXjuJUCHb6LDqMQuAJ6BAgMEAI&usg=AOvVaw1OeIlYv-mT04YstJzo0ZUn\n",
      "https://www.youtube.com/watch%3Fv%3DmOazkz-aUEw&sa=U&ved=2ahUKEwjJjc35ltn-AhXjuJUCHb6LDqMQtwJ6BAgQEAE&usg=AOvVaw0iifXhnQlh3xLosHJAQig9\n",
      "https://www.youtube.com/watch%3Fv%3DmOazkz-aUEw&sa=U&ved=2ahUKEwjJjc35ltn-AhXjuJUCHb6LDqMQuAJ6BAgQEAI&usg=AOvVaw1t0pWKaAH3CZ6EfKnmzlzm\n",
      "https://www.youtube.com/c/MoneyPurse&sa=U&ved=2ahUKEwjJjc35ltn-AhXjuJUCHb6LDqMQFnoECF4QAg&usg=AOvVaw0Yv_RSqTYs0ovu8IaYqFVz\n",
      "https://www.youtube.com/watch%3Fv%3D8Akm7vukD9Y&sa=U&ved=2ahUKEwjJjc35ltn-AhXjuJUCHb6LDqMQtwJ6BAgKEAE&usg=AOvVaw18j3RPjld20EcRhjtTy_uk\n",
      "https://www.youtube.com/watch%3Fv%3D8Akm7vukD9Y&sa=U&ved=2ahUKEwjJjc35ltn-AhXjuJUCHb6LDqMQuAJ6BAgKEAI&usg=AOvVaw01MSYQY9aUyLPgVHOuTF_j\n",
      "https://www.youtube.com/watch%3Fv%3DSOPAkWLoIDU&sa=U&ved=2ahUKEwjJjc35ltn-AhXjuJUCHb6LDqMQtwJ6BAgNEAE&usg=AOvVaw0ircFvRFoLfsMwKQ88A1qL\n",
      "https://www.youtube.com/watch%3Fv%3DSOPAkWLoIDU&sa=U&ved=2ahUKEwjJjc35ltn-AhXjuJUCHb6LDqMQuAJ6BAgNEAI&usg=AOvVaw1kaUlrLSJwJ2uDVy6cxaZF\n",
      "https://www.youtube.com/watch%3Fv%3Dnw2OFvZU-Vg&sa=U&ved=2ahUKEwjJjc35ltn-AhXjuJUCHb6LDqMQtwJ6BAgHEAE&usg=AOvVaw2M8RnhPRwGYIsR_9vpGBGP\n",
      "https://www.youtube.com/watch%3Fv%3Dnw2OFvZU-Vg&sa=U&ved=2ahUKEwjJjc35ltn-AhXjuJUCHb6LDqMQuAJ6BAgHEAI&usg=AOvVaw3s8VrB3pvhpkJFWO8yHpsb\n",
      "https://www.youtube.com/watch%3Fv%3D6aEzQdmvbKw&sa=U&ved=2ahUKEwjJjc35ltn-AhXjuJUCHb6LDqMQtwJ6BAgAEAE&usg=AOvVaw0XqGK385UdfH9gK-heL07T\n",
      "https://www.youtube.com/watch%3Fv%3D6aEzQdmvbKw&sa=U&ved=2ahUKEwjJjc35ltn-AhXjuJUCHb6LDqMQuAJ6BAgAEAI&usg=AOvVaw1nuCI34dshUhJrrGiYmnVu\n",
      "https://www.youtube.com/watch%3Fv%3DMR22MpK-5LI&sa=U&ved=2ahUKEwjJjc35ltn-AhXjuJUCHb6LDqMQtwJ6BAgFEAE&usg=AOvVaw3kU_zMPguD0VCjXnFXfaed\n",
      "https://www.youtube.com/watch%3Fv%3DMR22MpK-5LI&sa=U&ved=2ahUKEwjJjc35ltn-AhXjuJUCHb6LDqMQuAJ6BAgFEAI&usg=AOvVaw0yVS68KhBoTlpLPVwECTdO\n",
      "https://www.youtube.com/watch%3Fv%3D3f--RtjEvuE&sa=U&ved=2ahUKEwjJjc35ltn-AhXjuJUCHb6LDqMQtwJ6BAg0EAE&usg=AOvVaw16hj9piR5bPrKQ_yNiRCV7\n",
      "https://www.youtube.com/watch%3Fv%3D3f--RtjEvuE&sa=U&ved=2ahUKEwjJjc35ltn-AhXjuJUCHb6LDqMQuAJ6BAg0EAI&usg=AOvVaw0JBbQRH2LAjkkUP5UsOHLx\n",
      "https://www.youtube.com/watch%3Fv%3D3JC2P93cy0U&sa=U&ved=2ahUKEwjJjc35ltn-AhXjuJUCHb6LDqMQtwJ6BAgIEAE&usg=AOvVaw1_srhSZ7MI2Ztzsgj3BQ2S\n",
      "https://www.youtube.com/watch%3Fv%3D3JC2P93cy0U&sa=U&ved=2ahUKEwjJjc35ltn-AhXjuJUCHb6LDqMQuAJ6BAgIEAI&usg=AOvVaw2fC_UR1md334B0M2QQ2HWU\n",
      "https://www.youtube.com/watch%3Fv%3DNlr-tidmtZM&sa=U&ved=2ahUKEwjJjc35ltn-AhXjuJUCHb6LDqMQtwJ6BAgCEAE&usg=AOvVaw0Ou5GOhAUh6PndpwLUvPYW\n",
      "https://www.youtube.com/watch%3Fv%3DNlr-tidmtZM&sa=U&ved=2ahUKEwjJjc35ltn-AhXjuJUCHb6LDqMQuAJ6BAgCEAI&usg=AOvVaw1OgATEIiLcNtGOZPJFsM7H\n",
      "https://www.youtube.com/%40OpeninApp&sa=U&ved=2ahUKEwjJjc35ltn-AhXjuJUCHb6LDqMQFnoECF0QAg&usg=AOvVaw09G8azRxdWmmoFE1vpyr3J\n",
      "https://www.youtube.com/watch%3Fv%3DbgcZase4pcM&sa=U&ved=2ahUKEwjJjc35ltn-AhXjuJUCHb6LDqMQtwJ6BAgDEAE&usg=AOvVaw1jblLUCACpgsIT5YXiuuvL\n",
      "https://www.youtube.com/watch%3Fv%3DbgcZase4pcM&sa=U&ved=2ahUKEwjJjc35ltn-AhXjuJUCHb6LDqMQuAJ6BAgDEAI&usg=AOvVaw1LcW_Wq4TpuNybGJig-NtC\n"
     ]
    }
   ],
   "source": [
    "for i in lst:\n",
    "    print(i)"
   ]
  },
  {
   "cell_type": "code",
   "execution_count": 18,
   "id": "69a02b8e",
   "metadata": {},
   "outputs": [
    {
     "data": {
      "text/plain": [
       "187"
      ]
     },
     "execution_count": 18,
     "metadata": {},
     "output_type": "execute_result"
    }
   ],
   "source": [
    "len(lst)"
   ]
  },
  {
   "cell_type": "code",
   "execution_count": 16,
   "id": "5d961ab4",
   "metadata": {},
   "outputs": [
    {
     "name": "stdout",
     "output_type": "stream",
     "text": [
      "https://app.scrapingbee.com/api/v1/?api_key=FRTO342GKFDGRU48DSYB8IPAQ6NOHBFCHA4RIFRGLPFSLLZ7ZF4ZOOP8BP39E754L8UG2YJ6MU0EU98U&url=https%3A//www.google.com/search%3Fq%3Dsite%253Ayoutube.com%2Bopeninapp.co%26num%3D100&premium_proxy=True&country_code=mp&custom_google=True\n"
     ]
    }
   ],
   "source": [
    "print(url)"
   ]
  },
  {
   "cell_type": "code",
   "execution_count": null,
   "id": "72f36c84",
   "metadata": {},
   "outputs": [],
   "source": []
  }
 ],
 "metadata": {
  "kernelspec": {
   "display_name": "Python 3 (ipykernel)",
   "language": "python",
   "name": "python3"
  },
  "language_info": {
   "codemirror_mode": {
    "name": "ipython",
    "version": 3
   },
   "file_extension": ".py",
   "mimetype": "text/x-python",
   "name": "python",
   "nbconvert_exporter": "python",
   "pygments_lexer": "ipython3",
   "version": "3.11.1"
  }
 },
 "nbformat": 4,
 "nbformat_minor": 5
}
