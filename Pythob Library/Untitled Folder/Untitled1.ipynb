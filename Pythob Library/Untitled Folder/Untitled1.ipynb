{
 "cells": [
  {
   "cell_type": "code",
   "execution_count": 25,
   "id": "11bde5a0",
   "metadata": {},
   "outputs": [],
   "source": [
    "import requests\n",
    "from bs4 import BeautifulSoup\n",
    "from scrapingbee import ScrapingBeeClient\n",
    "import random\n",
    "client = ScrapingBeeClient(api_key='WUHNQIXARKUDMJSOVN1PLQUU45GXE1X476625LEXOCPTCP2UL9I4I5MFB5SJ1RB0IKBURNRMCCPBIJAZ')\n",
    "lst =[]"
   ]
  },
  {
   "cell_type": "code",
   "execution_count": 26,
   "id": "efa6a27f",
   "metadata": {},
   "outputs": [],
   "source": [
    "url = \"https://www.google.com/search?q=site%3Ayoutube.com+openinapp.co&num=100\"\n"
   ]
  },
  {
   "cell_type": "code",
   "execution_count": 30,
   "id": "00f1edc4",
   "metadata": {},
   "outputs": [],
   "source": [
    "def scarp_fun(url):\n",
    "    res  = requests.get(url)\n",
    "    print(res)\n",
    "    data =BeautifulSoup(res.text, 'html.parser')\n",
    "    print(data)\n",
    "    link = data.find_all(\"a\")\n",
    "    for i in link:\n",
    "            temp = i['href']\n",
    "            if \"https://www.youtube.com\"  in temp:\n",
    "\n",
    "                lst.append(i[\"href\"][7:])\n",
    "    print(\"scarp_fun\", len(lst))"
   ]
  },
  {
   "cell_type": "code",
   "execution_count": 34,
   "id": "86132aea",
   "metadata": {},
   "outputs": [],
   "source": [
    "def proxy_fun():\n",
    "    reigon=['af','al','dz']\n",
    "    str = \"dz as ad ao ai aq ag ar am aw au at az bs bh bd bb by be bz bj bm bt bo ba bw bv br io vg bn bg bf bu bi kh cm ca cv ky cf td cl cn cx cc co km cg ck cr hr cu cy cz cs ci yd dk dj dm do tp ec eg sv gq er ee et fk fo fj fi fr gf pf tf ga gm ge dd de gh gi gr gl gd gp gu gt gn gw gy ht hm hn hk hu is in id iq ie ir il it jm jp jo kz ke ki kp kr kw kg la lv lb ls lr ly li lt lu mo mg mw my mv ml mt mh mq mr mu yt mx fm md mc mn ms ma mz mm na nr np an nl nt nc nz ni ne ng nu nf mp no om pk pw pa pg py pe ph pn pl pt pr qa ro ru rw re lc ws sm st sa sn sc sl sg sk si sb so za gs es lk sh kn pm vc sd sr sj sz se ch sy tw tj tz th tg tk to tt tn tr tm tc tv ug ua su ae gb um vi us uy uz vu va ve vn wf eh ye yu zr zm zw\"\n",
    "    reigon = str.split()\n",
    "    global url\n",
    "    url=\"https://www.google.com/search?q=site%3Ayoutube.com+openinapp.co&num=100\"\n",
    "    response = client.get(url,\n",
    "                params = { \n",
    "                 'premium_proxy': 'True',\n",
    "                    'country_code': random.choice(reigon),\n",
    "                'custom_google' : 'True'})\n",
    "    print(\"proxy_fun\", len(lst))\n",
    "    return response.url"
   ]
  },
  {
   "cell_type": "code",
   "execution_count": null,
   "id": "5e9e57f7",
   "metadata": {},
   "outputs": [
    {
     "name": "stdout",
     "output_type": "stream",
     "text": [
      "<Response [500]>\n",
      "{\"error\": \"Error with your request, please try again (you will not be charged for this request).You should: 1) check that your URL is correctly encoded 2) try with block_resources=False  Do not hesitate to check our troubleshooting guide: https://www.scrapingbee.com/documentation/troubleshooting-guide\", \"reason\": \"Server responded with 500\", \"help\": \"CAPTCHA\"}\n",
      "scarp_fun 0\n"
     ]
    }
   ],
   "source": [
    "while len(lst)<10000:\n",
    "    scarp_fun(url)\n",
    "    url = proxy_fun()"
   ]
  },
  {
   "cell_type": "code",
   "execution_count": 1,
   "id": "5b7bffbc",
   "metadata": {},
   "outputs": [
    {
     "ename": "NameError",
     "evalue": "name 'url' is not defined",
     "output_type": "error",
     "traceback": [
      "\u001b[1;31m---------------------------------------------------------------------------\u001b[0m",
      "\u001b[1;31mNameError\u001b[0m                                 Traceback (most recent call last)",
      "Cell \u001b[1;32mIn[1], line 1\u001b[0m\n\u001b[1;32m----> 1\u001b[0m \u001b[38;5;28mprint\u001b[39m(\u001b[43murl\u001b[49m)\n",
      "\u001b[1;31mNameError\u001b[0m: name 'url' is not defined"
     ]
    }
   ],
   "source": [
    "print(url)"
   ]
  },
  {
   "cell_type": "code",
   "execution_count": null,
   "id": "aeff1561",
   "metadata": {},
   "outputs": [],
   "source": []
  }
 ],
 "metadata": {
  "kernelspec": {
   "display_name": "Python 3 (ipykernel)",
   "language": "python",
   "name": "python3"
  },
  "language_info": {
   "codemirror_mode": {
    "name": "ipython",
    "version": 3
   },
   "file_extension": ".py",
   "mimetype": "text/x-python",
   "name": "python",
   "nbconvert_exporter": "python",
   "pygments_lexer": "ipython3",
   "version": "3.11.1"
  }
 },
 "nbformat": 4,
 "nbformat_minor": 5
}
