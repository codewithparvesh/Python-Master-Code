{
 "cells": [
  {
   "cell_type": "code",
   "execution_count": null,
   "id": "770e0098",
   "metadata": {},
   "outputs": [
    {
     "ename": "",
     "evalue": "",
     "output_type": "error",
     "traceback": [
      "\u001b[1;31mFailed to start the Kernel. \n",
      "\u001b[1;31mUnable to start Kernel 'Python 3.11.1' due to connection timeout. \n",
      "\u001b[1;31mView Jupyter <a href='command:jupyter.viewOutput'>log</a> for further details."
     ]
    }
   ],
   "source": [
    "print(\"Helo\")\n"
   ]
  },
  {
   "cell_type": "markdown",
   "id": "ec674d9d",
   "metadata": {},
   "source": []
  }
 ],
 "metadata": {
  "kernelspec": {
   "display_name": "Python 3",
   "language": "python",
   "name": "python3"
  },
  "language_info": {
   "name": "python",
   "version": "3.11.1"
  },
  "vscode": {
   "interpreter": {
    "hash": "79b75fc77af69415bef0e7313bab4b9e69f014d3f34f35f84f9b4a6b84439d85"
   }
  }
 },
 "nbformat": 4,
 "nbformat_minor": 5
}
