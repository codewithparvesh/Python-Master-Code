{
 "cells": [
  {
   "cell_type": "code",
   "execution_count": null,
   "id": "1adb70c8",
   "metadata": {},
   "outputs": [],
   "source": [
    "lst = [4,5,6,1,2,3]\n",
    "lst.sort()\n",
    "lst"
   ]
  },
  {
   "cell_type": "code",
   "execution_count": null,
   "id": "ea09c78b",
   "metadata": {},
   "outputs": [],
   "source": []
  }
 ],
 "metadata": {
  "kernelspec": {
   "display_name": "Python 3 (ipykernel)",
   "language": "python",
   "name": "python3"
  }
 },
 "nbformat": 4,
 "nbformat_minor": 5
}
