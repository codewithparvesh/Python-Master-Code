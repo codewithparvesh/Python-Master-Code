{
 "cells": [
  {
   "cell_type": "code",
   "execution_count": null,
   "id": "ad45d9b0",
   "metadata": {},
   "outputs": [],
   "source": [
    "print(\"sef\")"
   ]
  },
  {
   "cell_type": "code",
   "execution_count": null,
   "id": "149d53ff",
   "metadata": {},
   "outputs": [],
   "source": []
  }
 ],
 "metadata": {
  "kernelspec": {
   "display_name": "Python 3 (ipykernel)",
   "language": "python",
   "name": "python3"
  }
 },
 "nbformat": 4,
 "nbformat_minor": 5
}
