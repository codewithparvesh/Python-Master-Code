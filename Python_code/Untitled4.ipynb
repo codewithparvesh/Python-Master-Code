{
 "cells": [
  {
   "cell_type": "markdown",
   "id": "0ff3f1e1",
   "metadata": {},
   "source": [
    "Quaue using array\n"
   ]
  },
  {
   "cell_type": "code",
   "execution_count": null,
   "id": "7afead4c",
   "metadata": {},
   "outputs": [],
   "source": [
    "print(\"ads\")"
   ]
  },
  {
   "cell_type": "code",
   "execution_count": null,
   "id": "eb1c61e0",
   "metadata": {},
   "outputs": [],
   "source": []
  }
 ],
 "metadata": {
  "kernelspec": {
   "display_name": "Python 3 (ipykernel)",
   "language": "python",
   "name": "python3"
  }
 },
 "nbformat": 4,
 "nbformat_minor": 5
}
